{
 "cells": [
  {
   "cell_type": "code",
   "execution_count": 1,
   "metadata": {},
   "outputs": [],
   "source": [
    "import numpy as np\n",
    "from selenium import webdriver\n",
    "from time import sleep\n",
    "import random\n",
    "from selenium.common.exceptions import NoSuchElementException , ElementNotInteractableException\n",
    "from selenium.webdriver.common.by import By\n",
    "import pandas as pd"
   ]
  },
  {
   "cell_type": "code",
   "execution_count": 23,
   "metadata": {},
   "outputs": [],
   "source": [
    "import undetected_chromedriver as uc \n",
    " \n",
    "driver = uc.Chrome() \n",
    "driver.get('https://tiki.vn/cham-soc-da-mat/c1582?sort=newest&page=1') "
   ]
  },
  {
   "cell_type": "code",
   "execution_count": 4,
   "metadata": {},
   "outputs": [],
   "source": [
    "title =[]"
   ]
  },
  {
   "cell_type": "code",
   "execution_count": 5,
   "metadata": {},
   "outputs": [],
   "source": [
    "elems = driver.find_elements(By.CSS_SELECTOR , \".name\")\n",
    "title = title + [elem.text for elem in elems]"
   ]
  },
  {
   "cell_type": "code",
   "execution_count": 6,
   "metadata": {},
   "outputs": [
    {
     "data": {
      "text/plain": [
       "['Sữa rửa mặt Simple giúp da sạch thoáng & không chứa xà phòng 150ml [CHÍNH HÃNG ĐỘC QUYỀN]',\n",
       " 'Combo 2 Sữa rửa mặt Simple giúp da sạch thoáng 150mlx2',\n",
       " 'Sữa rửa mặt Simple giúp cấp ẩm, da trông khỏe và mịn màng - cho da khô nhạy cảm 150ml [CHÍNH HÃNG ĐỘC QUYỀN] [MỚI]',\n",
       " 'Combo 2 Sữa rửa mặt Simple giúp kiềm dầu và ngừa mụn hiệu quả - cho da mụn nhạy cảm 150ml [CHÍNH HÃNG ĐỘC QUYỀN] [DIỆN MẠO MỚI]',\n",
       " 'Bộ đôi Kem chống nắng dạng sữa dưỡng da kiềm dầu bảo vệ hoàn hảo (Anessa Gold Milk 60ml + Gold Milk 20ml)',\n",
       " 'VITAMIN COMPLEX 8.0 % OHUI THE FIRST GENITURE GRNUMMUNE AMPOULE – TINH CHẤT tái sinh The First mới ra',\n",
       " 'Set dưỡng trẻ hóa da Whoo hoàn lưu mini 3sp mới',\n",
       " 'Nước Tẩy trang sum tặng rửa mặt 100ml',\n",
       " 'Tinh Chất Dưỡng Trắng Da Ban Ngày, Chống Nắng, Cải Thiện Da Khô Sạm SokaMocka Nhật Bản Chai 25ml',\n",
       " 'Kem Dưỡng Da Đa Năng 6 in 1 SokaMocka Nhật Bản Lọ 90g',\n",
       " \"Combo Serum Dưỡng Sáng Mờ Thâm và Kem Dưỡng Ẩm Ngày Đêm Pond's Bright Beauty 30G & 50G x2\",\n",
       " 'Tinh Chất Dưỡng Ẩm Sâu Laneige Water Bank Blue HA Serum 30mL Phục Hồi Căng Bóng Da Vượt Trội',\n",
       " 'Tẩy Da Chết Tế Bào Gốc Thực Vật Làm Sạch Sâu Dịu Nhẹ Dưỡng Ẩm Trắng Da Chống Nhăn Cho Da Nhạy Cảm Cellkey-Scien White Peeling Gel (80ml)',\n",
       " 'Nước Cân Bằng Dưỡng Ẩm Dành Cho Da Dầu Và Da Hỗn Hợp Laneige Water Bank Blue HA Toner Oily 160ml',\n",
       " 'Nước Cân Bằng Dưỡng Ẩm Dành Cho Da Thường Và Da Khô Laneige Water Bank Blue HA Toner Dry 160ml',\n",
       " 'Nước Dưỡng Ẩm Và Làm Mềm Mịn Da SokaMocka Nhật Bản Chai 180ml',\n",
       " 'Nước Dưỡng Da Se Khít Lỗ Chân Lông SokaMocka Nhật Bản Chai 180ml',\n",
       " 'Combo nước hoa hồng Multi Hydra B5 Calming & Repairing Toner, tinh chất Hydra B5 Max Serum Prettyskin, Kem dưỡng REAL CICA CALMING 95 CREAM',\n",
       " 'Nước Hoa Hồng Phục Hồi Dưỡng Trắng PrettySkin Multi Hydra B5 Calming & Repairing Toner 205ml',\n",
       " 'Xịt Chống Nắng Banana Boat Sport Ultra Sunscreen Continuous Spray SPF100 PA+++ 170g',\n",
       " 'Combo 2 sữa rửa mặt Simple giúp cấp ẩm, da trông khỏe và mịn màng - cho da khô nhạy cảm 150ml [CHÍNH HÃNG ĐỘC QUYỀN] [MỚI]',\n",
       " 'Tinh chất chống lão hóa 3 hoạt chất Laneige Perfect Renew 3X Signature Serum 40ml',\n",
       " 'Xịt khoáng Alba Skin Care chống lão hóa dưỡng ẩm dành cho da khô',\n",
       " 'Bộ Kem Dưỡng Ẩm Cho Da Thường Và Da Khô Laneige Water Bank Blue HA Dry 50ml + 30ml',\n",
       " 'Combo 2 Nước tẩy trang Simple Micellar làm sạch 99% trang điểm, cho da thoáng mịn tức thì 400ml x2',\n",
       " 'Nước Tẩy Trang Mắt Môi Browit Professional Clean Eye & Lip Remover 45ml',\n",
       " 'Xịt Khoáng Khóa Nền 3CE Makeup Fixer Mist 95ml',\n",
       " 'Xịt Chống Nắng Banana Boat Simply Protect Kids SPF50+ PA++++ 170g #Vàng',\n",
       " 'Kem Dưỡng Ban Ngày Garnier Light Complete Speed Whitening Serum Cream SPF30 PA+++ 50ml',\n",
       " '[H&B GIFT] Mặt nạ Peptides Welson Beauty dưỡng ẩm căng bóng da 1 miếng x 25ml',\n",
       " '[H&B GIFTS] Bông tẩy trang sạch sâu dịu nhẹ Cleaning Pad Welson Beauty (1 gói x 30 miếng)',\n",
       " '[H&B GIFTS] Hộp 10 miếng mặt nạ Peptides Welson Beauty dưỡng ẩm căng bóng da 10 miếng x 25ml',\n",
       " 'Serum dưỡng trắng da OBAGI CLINICAL Vitamin C+ Arbutin Brightening - 30ml',\n",
       " 'Tinh chất Serum dưỡng trắng da OBAGI CLINICAL Vitamin C+ Arbutin Brightening (30ml)',\n",
       " 'Thỏi Dưỡng nếp nhăn cao cấp Ohui AGE RECOVERY Ampoule balm 7gram',\n",
       " 'Tinh Chất Trắng Da Su:m37 Micro Active Brightening Ampoule 15ml',\n",
       " 'Tinh Chất Ngăn Ngừa Lão Hóa Sớm Su:m37 Micro Active Repair Serum 50ml',\n",
       " 'Gel Tẩy Trang Nóng Sạch Sâu, Khóa Ẩm, Làm Sáng Da SokaMocka Nhật Bản Tuýp 150g',\n",
       " 'Mặt Nạ Ngủ Dưỡng Ẩm Da Chuyên Sâu SokaMocka Nhật Bản Chai 90g',\n",
       " 'Xà Phòng Rửa Mặt Lành Tính SokaMocka Nhật Bản 100g',\n",
       " 'Mặt Nạ Ngủ Dưỡng Ẩm, Se Khít Lỗ Chân Lông SokaMocka Nhật Bản Chai 90g',\n",
       " 'Sữa Rửa Mặt Sạch Sâu, Cấp Ẩm, Se Khít Lỗ Chân Lông SokaMocka Nhật Bản 60ml',\n",
       " 'Dầu Tẩy Trang Sạch Sâu, Dưỡng Ẩm, Làm Dịu Da SokaMocka Nhật Bản 200ml',\n",
       " 'Kem Tẩy Trang Làm Sạch, Dưỡng Ẩm, Lành Tính SokaMocka Nhật Bản Tuýp 150g',\n",
       " 'Gel Dưỡng Ẩm Da Ban Đêm Club Suppin Nhật Bản Tuýp 100g',\n",
       " 'Kem Dưỡng Trắng Mờ Thâm Club Suppin A Nhật Bản Tuýp 30g',\n",
       " 'Kem dưỡng ẩm Hydrate Facial Moisturizer (48 gam)',\n",
       " 'Kem dưỡng ẩm Obagi Hydrate Facial Moisturizer (48g)',\n",
       " '[MUA 1 TẶNG 1] I LOVE MASK - MẶT NẠ DỪA SINH HỌC ( SET 10 MASK) - TẶNG 1 GEL RỬA MẶT',\n",
       " 'Kẽm chấm mụn Compliment No Problem BHA giảm sưng, gom khô cồi mụn 30ml',\n",
       " 'Kem Dưỡng Olay Luminous Sáng Da Mờ Thâm Nám Ban Đêm 50g',\n",
       " 'Kem dưỡng cân bằng sắc tố mạnh Obagi Retinol 1.0 (28g)',\n",
       " 'Kem cân bằng sắc tố mạnh Obagi Retinol Cream 1.0 (khối lượng 28g)',\n",
       " 'Khăn Giấy Tẩy Trang Kose Softymo Makeup Remover Sheet H Dưỡng Ẩm Bổ Sung Hyaluronic Acid 52 Tờ/Hộp',\n",
       " 'Dưỡng mắt Dermalogica Awaken Peptide Eye Gel 15ml']"
      ]
     },
     "execution_count": 6,
     "metadata": {},
     "output_type": "execute_result"
    }
   ],
   "source": [
    "title"
   ]
  },
  {
   "cell_type": "code",
   "execution_count": 12,
   "metadata": {},
   "outputs": [],
   "source": [
    "saled =[]"
   ]
  },
  {
   "cell_type": "code",
   "execution_count": 21,
   "metadata": {},
   "outputs": [],
   "source": [
    "get_saled = driver.find_elements(By.CSS_SELECTOR , \".lkhWwf .price-discount\")\n",
    "saled = saled + [elem.text for elem in get_saled]"
   ]
  },
  {
   "cell_type": "code",
   "execution_count": 22,
   "metadata": {},
   "outputs": [
    {
     "data": {
      "text/plain": [
       "['99.000₫\\n-25%',\n",
       " '198.000₫\\n-25%',\n",
       " '95.000₫\\n-28%',\n",
       " '198.000₫\\n-25%',\n",
       " '',\n",
       " '1.990.000₫',\n",
       " '790.000₫',\n",
       " '650.000₫',\n",
       " '789.000₫',\n",
       " '',\n",
       " '409.000₫\\n-25%',\n",
       " '809.000₫\\n-6%',\n",
       " '',\n",
       " '709.000₫\\n-8%',\n",
       " '709.000₫\\n-8%',\n",
       " '789.000₫',\n",
       " '789.000₫',\n",
       " '',\n",
       " '310.000₫',\n",
       " '239.000₫\\n-10%',\n",
       " '198.000₫\\n-25%',\n",
       " '1.599.000₫\\n-18%',\n",
       " '212.000₫\\n-8%',\n",
       " '870.000₫\\n-13%',\n",
       " '312.000₫\\n-17%',\n",
       " '',\n",
       " '324.000₫\\n-5%',\n",
       " '246.000₫\\n-20%',\n",
       " '156.000₫\\n-17%',\n",
       " '55.000₫',\n",
       " '',\n",
       " '550.000₫',\n",
       " '2.250.000₫',\n",
       " '2.250.000₫',\n",
       " '490.000₫\\n-46%',\n",
       " '',\n",
       " '1.120.000₫\\n-30%',\n",
       " '549.000₫',\n",
       " '999.000₫',\n",
       " '339.000₫',\n",
       " '',\n",
       " '339.000₫',\n",
       " '549.000₫',\n",
       " '549.000₫',\n",
       " '279.000₫',\n",
       " '',\n",
       " '1.100.000₫',\n",
       " '1.100.000₫',\n",
       " '199.000₫',\n",
       " '85.000₫',\n",
       " '',\n",
       " '1.350.000₫',\n",
       " '1.350.000₫',\n",
       " '51.000₫',\n",
       " '499.000₫']"
      ]
     },
     "execution_count": 22,
     "metadata": {},
     "output_type": "execute_result"
    }
   ],
   "source": [
    "saled"
   ]
  },
  {
   "cell_type": "code",
   "execution_count": null,
   "metadata": {},
   "outputs": [],
   "source": []
  },
  {
   "cell_type": "code",
   "execution_count": 1,
   "metadata": {},
   "outputs": [
    {
     "name": "stdout",
     "output_type": "stream",
     "text": [
      "46\n"
     ]
    }
   ],
   "source": [
    "for i in range(45,46):\n",
    "    print(i+1)"
   ]
  },
  {
   "cell_type": "code",
   "execution_count": 3,
   "metadata": {},
   "outputs": [],
   "source": [
    "# The line you want to add\n",
    "new_line = \"Thương hiệu, OBAGI, Xuất xứ thương hiệu, Mỹ, Xuất xứ (Made in), Mỹ, Hạn sử dụng, 36 tháng, Loại da phù hợp, Da dầu, da hỗn hợp, da thường, Sản phẩm có được bảo hành không?, Không, https://tiki.vn/serum-phuc-hoi-da-ton-thuong-obagi-clinical-kinetin-rejuvenating-serum-30ml-p274051446.html?spid=274051447\\n\"\n",
    "\n",
    "# Read the contents of the file\n",
    "with open(r'C:\\Users\\ADMIN\\Desktop\\app\\my_list.txt', 'r', encoding='utf-8') as file:\n",
    "    lines = file.readlines()\n",
    "\n",
    "# Check if the file has at least 45 lines\n",
    "if len(lines) >= 45:\n",
    "    # Insert the new line at position 46 (index 45)\n",
    "    lines.insert(45, new_line)\n",
    "else:\n",
    "    # If the file has less than 45 lines, append the line at the end\n",
    "    lines.append(new_line)\n",
    "\n",
    "# Write the updated contents back to the file\n",
    "with open('my_file.txt', 'w', encoding='utf-8') as file:\n",
    "    file.writelines(lines)"
   ]
  },
  {
   "cell_type": "code",
   "execution_count": 1,
   "metadata": {},
   "outputs": [
    {
     "data": {
      "text/html": [
       "<div>\n",
       "<style scoped>\n",
       "    .dataframe tbody tr th:only-of-type {\n",
       "        vertical-align: middle;\n",
       "    }\n",
       "\n",
       "    .dataframe tbody tr th {\n",
       "        vertical-align: top;\n",
       "    }\n",
       "\n",
       "    .dataframe thead th {\n",
       "        text-align: right;\n",
       "    }\n",
       "</style>\n",
       "<table border=\"1\" class=\"dataframe\">\n",
       "  <thead>\n",
       "    <tr style=\"text-align: right;\">\n",
       "      <th></th>\n",
       "      <th>link</th>\n",
       "      <th>name</th>\n",
       "      <th>comment</th>\n",
       "      <th>num_review</th>\n",
       "      <th>num_thanks</th>\n",
       "      <th>date_attend</th>\n",
       "      <th>time_use</th>\n",
       "    </tr>\n",
       "  </thead>\n",
       "  <tbody>\n",
       "    <tr>\n",
       "      <th>0</th>\n",
       "      <td>https://tka.tiki.vn/pixel/pixel?data=aDdAa6xuk...</td>\n",
       "      <td>Phạm Thị Hoàng Yến</td>\n",
       "      <td>tiki giao hàng siêu nhanh.đóng gói sp kỹ nhưn...</td>\n",
       "      <td>Đã viết\\n12 Đánh giá</td>\n",
       "      <td>Đã nhận\\n4 Lượt cảm ơn</td>\n",
       "      <td>Đã tham gia 6 năm</td>\n",
       "      <td>Đánh giá vào 2 năm trướcĐã dùng 3 giờ</td>\n",
       "    </tr>\n",
       "    <tr>\n",
       "      <th>1</th>\n",
       "      <td>https://tka.tiki.vn/pixel/pixel?data=_prfL2-IL...</td>\n",
       "      <td>Phan Văn Hoàng</td>\n",
       "      <td>chất lương k bt như nào nhưng ms nhận hàng thì...</td>\n",
       "      <td>Đã viết\\n1 Đánh giá</td>\n",
       "      <td>Đã nhận\\n6 Lượt cảm ơn</td>\n",
       "      <td>Đã tham gia 5 năm</td>\n",
       "      <td>Đánh giá vào 2 năm trướcĐã dùng 6 giờ</td>\n",
       "    </tr>\n",
       "    <tr>\n",
       "      <th>2</th>\n",
       "      <td>https://tka.tiki.vn/pixel/pixel?data=ZU_80HdAk...</td>\n",
       "      <td>Hạt Đậu Thần Kỳ</td>\n",
       "      <td>đóng gói hơi sơ sài. Mình dùng thử rồi cũng ok...</td>\n",
       "      <td>Đã viết\\n1 Đánh giá</td>\n",
       "      <td>Đã nhận\\n0 Lượt cảm ơn</td>\n",
       "      <td>Đã tham gia 3 năm</td>\n",
       "      <td>Đánh giá vào 2 năm trướcĐã dùng 1 ngày</td>\n",
       "    </tr>\n",
       "    <tr>\n",
       "      <th>3</th>\n",
       "      <td>https://tka.tiki.vn/pixel/pixel?data=ctzTR2UJ6...</td>\n",
       "      <td>Vi Ngôn LụC NgạN</td>\n",
       "      <td>Sữa rửa mặt này rất dịu nhẹ, phù hợp cho mọi ...</td>\n",
       "      <td>Đã viết\\n11 Đánh giá</td>\n",
       "      <td>Đã nhận\\n4 Lượt cảm ơn</td>\n",
       "      <td>Đã tham gia 7 năm</td>\n",
       "      <td>Đánh giá vào 5 tháng trướcĐã dùng 13 phút</td>\n",
       "    </tr>\n",
       "    <tr>\n",
       "      <th>4</th>\n",
       "      <td>https://tka.tiki.vn/pixel/pixel?data=r1uAaxvam...</td>\n",
       "      <td>Đặng Đình Chiểu</td>\n",
       "      <td>mua lần đầu dùng thử xem sao thấy quảng cáo dị...</td>\n",
       "      <td>Đã viết\\n30 Đánh giá</td>\n",
       "      <td>Đã nhận\\n8 Lượt cảm ơn</td>\n",
       "      <td>Đã tham gia 7 năm</td>\n",
       "      <td>Đánh giá vào 2 năm trướcĐã dùng 4 phút</td>\n",
       "    </tr>\n",
       "    <tr>\n",
       "      <th>...</th>\n",
       "      <td>...</td>\n",
       "      <td>...</td>\n",
       "      <td>...</td>\n",
       "      <td>...</td>\n",
       "      <td>...</td>\n",
       "      <td>...</td>\n",
       "      <td>...</td>\n",
       "    </tr>\n",
       "    <tr>\n",
       "      <th>196</th>\n",
       "      <td>https://tka.tiki.vn/pixel/pixel?data=ZU_80HdAk...</td>\n",
       "      <td>Thu Hoài</td>\n",
       "      <td>Ưng lắm.mình dùng nhiều năm rồi.hợp lắm luôn</td>\n",
       "      <td>Đã viết\\n31 Đánh giá</td>\n",
       "      <td>Đã nhận\\n2 Lượt cảm ơn</td>\n",
       "      <td>Đã tham gia 8 năm</td>\n",
       "      <td>Đánh giá vào 1 năm trướcĐã dùng 1 tháng</td>\n",
       "    </tr>\n",
       "    <tr>\n",
       "      <th>197</th>\n",
       "      <td>https://tka.tiki.vn/pixel/pixel?data=ctzTR2UJ6...</td>\n",
       "      <td>Trinh Nguyen</td>\n",
       "      <td>NaN</td>\n",
       "      <td>Đã viết\\n3 Đánh giá</td>\n",
       "      <td>Đã nhận\\n0 Lượt cảm ơn</td>\n",
       "      <td>Đã tham gia 6 năm</td>\n",
       "      <td>Đánh giá vào 7 tháng trướcĐã dùng 4 tháng</td>\n",
       "    </tr>\n",
       "    <tr>\n",
       "      <th>198</th>\n",
       "      <td>https://tka.tiki.vn/pixel/pixel?data=r1uAaxvam...</td>\n",
       "      <td>Trinh Pham</td>\n",
       "      <td>NaN</td>\n",
       "      <td>Đã viết\\n48 Đánh giá</td>\n",
       "      <td>Đã nhận\\n5 Lượt cảm ơn</td>\n",
       "      <td>Đã tham gia 11 năm</td>\n",
       "      <td>Đánh giá vào 1 năm trướcĐã dùng 24 phút</td>\n",
       "    </tr>\n",
       "    <tr>\n",
       "      <th>199</th>\n",
       "      <td>https://tka.tiki.vn/pixel/pixel?data=aDdAa6xuk...</td>\n",
       "      <td>Tài Khoản Zalo</td>\n",
       "      <td>NaN</td>\n",
       "      <td>Đã viết\\n91 Đánh giá</td>\n",
       "      <td>Đã nhận\\n3 Lượt cảm ơn</td>\n",
       "      <td>Đã tham gia 4 năm</td>\n",
       "      <td>Đánh giá vào 3 tháng trướcĐã dùng 1 ngày</td>\n",
       "    </tr>\n",
       "    <tr>\n",
       "      <th>200</th>\n",
       "      <td>https://tka.tiki.vn/pixel/pixel?data=aDdAa6xuk...</td>\n",
       "      <td>Mai Dung</td>\n",
       "      <td>Rất hài lòng.</td>\n",
       "      <td>Đã viết\\n34 Đánh giá</td>\n",
       "      <td>Đã nhận\\n4 Lượt cảm ơn</td>\n",
       "      <td>Đã tham gia 5 năm</td>\n",
       "      <td>Đánh giá vào 7 tháng trướcĐã dùng 8 ngày</td>\n",
       "    </tr>\n",
       "  </tbody>\n",
       "</table>\n",
       "<p>201 rows × 7 columns</p>\n",
       "</div>"
      ],
      "text/plain": [
       "                                                  link                name  \\\n",
       "0    https://tka.tiki.vn/pixel/pixel?data=aDdAa6xuk...  Phạm Thị Hoàng Yến   \n",
       "1    https://tka.tiki.vn/pixel/pixel?data=_prfL2-IL...      Phan Văn Hoàng   \n",
       "2    https://tka.tiki.vn/pixel/pixel?data=ZU_80HdAk...     Hạt Đậu Thần Kỳ   \n",
       "3    https://tka.tiki.vn/pixel/pixel?data=ctzTR2UJ6...  Vi Ngôn LụC NgạN   \n",
       "4    https://tka.tiki.vn/pixel/pixel?data=r1uAaxvam...     Đặng Đình Chiểu   \n",
       "..                                                 ...                 ...   \n",
       "196  https://tka.tiki.vn/pixel/pixel?data=ZU_80HdAk...            Thu Hoài   \n",
       "197  https://tka.tiki.vn/pixel/pixel?data=ctzTR2UJ6...        Trinh Nguyen   \n",
       "198  https://tka.tiki.vn/pixel/pixel?data=r1uAaxvam...          Trinh Pham   \n",
       "199  https://tka.tiki.vn/pixel/pixel?data=aDdAa6xuk...      Tài Khoản Zalo   \n",
       "200  https://tka.tiki.vn/pixel/pixel?data=aDdAa6xuk...            Mai Dung   \n",
       "\n",
       "                                               comment            num_review  \\\n",
       "0     tiki giao hàng siêu nhanh.đóng gói sp kỹ nhưn...  Đã viết\\n12 Đánh giá   \n",
       "1    chất lương k bt như nào nhưng ms nhận hàng thì...   Đã viết\\n1 Đánh giá   \n",
       "2    đóng gói hơi sơ sài. Mình dùng thử rồi cũng ok...   Đã viết\\n1 Đánh giá   \n",
       "3     Sữa rửa mặt này rất dịu nhẹ, phù hợp cho mọi ...  Đã viết\\n11 Đánh giá   \n",
       "4    mua lần đầu dùng thử xem sao thấy quảng cáo dị...  Đã viết\\n30 Đánh giá   \n",
       "..                                                 ...                   ...   \n",
       "196       Ưng lắm.mình dùng nhiều năm rồi.hợp lắm luôn  Đã viết\\n31 Đánh giá   \n",
       "197                                                NaN   Đã viết\\n3 Đánh giá   \n",
       "198                                                NaN  Đã viết\\n48 Đánh giá   \n",
       "199                                                NaN  Đã viết\\n91 Đánh giá   \n",
       "200                                      Rất hài lòng.  Đã viết\\n34 Đánh giá   \n",
       "\n",
       "                 num_thanks         date_attend  \\\n",
       "0    Đã nhận\\n4 Lượt cảm ơn   Đã tham gia 6 năm   \n",
       "1    Đã nhận\\n6 Lượt cảm ơn   Đã tham gia 5 năm   \n",
       "2    Đã nhận\\n0 Lượt cảm ơn   Đã tham gia 3 năm   \n",
       "3    Đã nhận\\n4 Lượt cảm ơn   Đã tham gia 7 năm   \n",
       "4    Đã nhận\\n8 Lượt cảm ơn   Đã tham gia 7 năm   \n",
       "..                      ...                 ...   \n",
       "196  Đã nhận\\n2 Lượt cảm ơn   Đã tham gia 8 năm   \n",
       "197  Đã nhận\\n0 Lượt cảm ơn   Đã tham gia 6 năm   \n",
       "198  Đã nhận\\n5 Lượt cảm ơn  Đã tham gia 11 năm   \n",
       "199  Đã nhận\\n3 Lượt cảm ơn   Đã tham gia 4 năm   \n",
       "200  Đã nhận\\n4 Lượt cảm ơn   Đã tham gia 5 năm   \n",
       "\n",
       "                                      time_use  \n",
       "0        Đánh giá vào 2 năm trướcĐã dùng 3 giờ  \n",
       "1        Đánh giá vào 2 năm trướcĐã dùng 6 giờ  \n",
       "2       Đánh giá vào 2 năm trướcĐã dùng 1 ngày  \n",
       "3    Đánh giá vào 5 tháng trướcĐã dùng 13 phút  \n",
       "4       Đánh giá vào 2 năm trướcĐã dùng 4 phút  \n",
       "..                                         ...  \n",
       "196    Đánh giá vào 1 năm trướcĐã dùng 1 tháng  \n",
       "197  Đánh giá vào 7 tháng trướcĐã dùng 4 tháng  \n",
       "198    Đánh giá vào 1 năm trướcĐã dùng 24 phút  \n",
       "199   Đánh giá vào 3 tháng trướcĐã dùng 1 ngày  \n",
       "200   Đánh giá vào 7 tháng trướcĐã dùng 8 ngày  \n",
       "\n",
       "[201 rows x 7 columns]"
      ]
     },
     "execution_count": 1,
     "metadata": {},
     "output_type": "execute_result"
    }
   ],
   "source": [
    "import pandas as pd\n",
    "df = pd.read_csv('final_result.csv')\n",
    "df"
   ]
  },
  {
   "cell_type": "code",
   "execution_count": 423,
   "metadata": {},
   "outputs": [
    {
     "data": {
      "text/plain": [
       "[<undetected_chromedriver.webelement.WebElement (session=\"7a71e8cce37205a11367bfce1f6dc26a\", element=\"3243151E660195D6E97EAADD2B0AC076_element_4129\")>,\n",
       " <undetected_chromedriver.webelement.WebElement (session=\"7a71e8cce37205a11367bfce1f6dc26a\", element=\"3243151E660195D6E97EAADD2B0AC076_element_4148\")>,\n",
       " <undetected_chromedriver.webelement.WebElement (session=\"7a71e8cce37205a11367bfce1f6dc26a\", element=\"3243151E660195D6E97EAADD2B0AC076_element_4154\")>,\n",
       " <undetected_chromedriver.webelement.WebElement (session=\"7a71e8cce37205a11367bfce1f6dc26a\", element=\"3243151E660195D6E97EAADD2B0AC076_element_4160\")>,\n",
       " <undetected_chromedriver.webelement.WebElement (session=\"7a71e8cce37205a11367bfce1f6dc26a\", element=\"3243151E660195D6E97EAADD2B0AC076_element_4170\")>,\n",
       " <undetected_chromedriver.webelement.WebElement (session=\"7a71e8cce37205a11367bfce1f6dc26a\", element=\"3243151E660195D6E97EAADD2B0AC076_element_4236\")>,\n",
       " <undetected_chromedriver.webelement.WebElement (session=\"7a71e8cce37205a11367bfce1f6dc26a\", element=\"3243151E660195D6E97EAADD2B0AC076_element_4238\")>,\n",
       " <undetected_chromedriver.webelement.WebElement (session=\"7a71e8cce37205a11367bfce1f6dc26a\", element=\"3243151E660195D6E97EAADD2B0AC076_element_4242\")>,\n",
       " <undetected_chromedriver.webelement.WebElement (session=\"7a71e8cce37205a11367bfce1f6dc26a\", element=\"3243151E660195D6E97EAADD2B0AC076_element_4244\")>,\n",
       " <undetected_chromedriver.webelement.WebElement (session=\"7a71e8cce37205a11367bfce1f6dc26a\", element=\"3243151E660195D6E97EAADD2B0AC076_element_4248\")>,\n",
       " <undetected_chromedriver.webelement.WebElement (session=\"7a71e8cce37205a11367bfce1f6dc26a\", element=\"3243151E660195D6E97EAADD2B0AC076_element_4250\")>,\n",
       " <undetected_chromedriver.webelement.WebElement (session=\"7a71e8cce37205a11367bfce1f6dc26a\", element=\"3243151E660195D6E97EAADD2B0AC076_element_4254\")>,\n",
       " <undetected_chromedriver.webelement.WebElement (session=\"7a71e8cce37205a11367bfce1f6dc26a\", element=\"3243151E660195D6E97EAADD2B0AC076_element_4256\")>,\n",
       " <undetected_chromedriver.webelement.WebElement (session=\"7a71e8cce37205a11367bfce1f6dc26a\", element=\"3243151E660195D6E97EAADD2B0AC076_element_4260\")>,\n",
       " <undetected_chromedriver.webelement.WebElement (session=\"7a71e8cce37205a11367bfce1f6dc26a\", element=\"3243151E660195D6E97EAADD2B0AC076_element_4262\")>,\n",
       " <undetected_chromedriver.webelement.WebElement (session=\"7a71e8cce37205a11367bfce1f6dc26a\", element=\"3243151E660195D6E97EAADD2B0AC076_element_4266\")>,\n",
       " <undetected_chromedriver.webelement.WebElement (session=\"7a71e8cce37205a11367bfce1f6dc26a\", element=\"3243151E660195D6E97EAADD2B0AC076_element_4268\")>,\n",
       " <undetected_chromedriver.webelement.WebElement (session=\"7a71e8cce37205a11367bfce1f6dc26a\", element=\"3243151E660195D6E97EAADD2B0AC076_element_4272\")>,\n",
       " <undetected_chromedriver.webelement.WebElement (session=\"7a71e8cce37205a11367bfce1f6dc26a\", element=\"3243151E660195D6E97EAADD2B0AC076_element_4274\")>]"
      ]
     },
     "execution_count": 423,
     "metadata": {},
     "output_type": "execute_result"
    }
   ],
   "source": [
    "elems = driver.find_elements(By.CSS_SELECTOR , \".eDbeCp span\")\n",
    "elems"
   ]
  },
  {
   "cell_type": "code",
   "execution_count": 424,
   "metadata": {},
   "outputs": [],
   "source": [
    "information = information + [e.text for e in elems]\n",
    "information.append(1)"
   ]
  },
  {
   "cell_type": "code",
   "execution_count": 429,
   "metadata": {},
   "outputs": [],
   "source": [
    "# Giả sử đây là list bạn muốn lưu\n",
    "lst = [['â', 'da'], ['b']]\n",
    "\n",
    "# Mở file (sẽ tạo file nếu chưa có) để ghi (write)\n",
    "with open(r'C:\\Users\\ADMIN\\Desktop\\app\\my_list.txt', 'w', encoding='utf-8') as file:\n",
    "    # Ghi mỗi sublist vào file, mỗi sublist trên một dòng mới\n",
    "    for sublist in lst:\n",
    "        # Chuyển sublist thành một chuỗi và viết vào file\n",
    "        file.write(', '.join(sublist) + '\\n')\n",
    "        \n",
    "# Trả về đường dẫn của file vừa được lưu"
   ]
  },
  {
   "cell_type": "code",
   "execution_count": null,
   "metadata": {},
   "outputs": [],
   "source": []
  },
  {
   "cell_type": "code",
   "execution_count": null,
   "metadata": {},
   "outputs": [],
   "source": []
  },
  {
   "cell_type": "code",
   "execution_count": 364,
   "metadata": {},
   "outputs": [],
   "source": [
    "next_page = driver.find_element(\"xpath\" , \"/html/body/div[1]/div[1]/main/div/div[2]/div[1]/div[1]/div[3]/div/div[2]/div/div[10]/ul/li[7]\")\n",
    "next_page.click()"
   ]
  },
  {
   "cell_type": "code",
   "execution_count": 361,
   "metadata": {},
   "outputs": [],
   "source": [
    "elems = driver.find_elements(By.CSS_SELECTOR , \".review-comment__content\")"
   ]
  },
  {
   "cell_type": "code",
   "execution_count": 321,
   "metadata": {},
   "outputs": [
    {
     "data": {
      "text/plain": [
       "[<undetected_chromedriver.webelement.WebElement (session=\"41f30f175923ea4887a2e9256635904e\", element=\"49BE6FC512813A1462790C50C8380C7B_element_4540\")>,\n",
       " <undetected_chromedriver.webelement.WebElement (session=\"41f30f175923ea4887a2e9256635904e\", element=\"49BE6FC512813A1462790C50C8380C7B_element_4639\")>,\n",
       " <undetected_chromedriver.webelement.WebElement (session=\"41f30f175923ea4887a2e9256635904e\", element=\"49BE6FC512813A1462790C50C8380C7B_element_4725\")>,\n",
       " <undetected_chromedriver.webelement.WebElement (session=\"41f30f175923ea4887a2e9256635904e\", element=\"49BE6FC512813A1462790C50C8380C7B_element_4832\")>,\n",
       " <undetected_chromedriver.webelement.WebElement (session=\"41f30f175923ea4887a2e9256635904e\", element=\"49BE6FC512813A1462790C50C8380C7B_element_4912\")>]"
      ]
     },
     "execution_count": 321,
     "metadata": {},
     "output_type": "execute_result"
    }
   ],
   "source": [
    "elems"
   ]
  },
  {
   "cell_type": "code",
   "execution_count": 323,
   "metadata": {},
   "outputs": [
    {
     "data": {
      "text/plain": [
       "' tiki giao hàng siêu nhanh.đóng gói sp kỹ nhưng tới tay mình thì cái thùng nó méo mó thấy ớ.n.dùng xong thấy da mềm mịn thật, nhưng mn có bị nhớt nhớt lúc rửa mặt giống mình k, phải rửa nước lại hơi lâu... Xem thêm'"
      ]
     },
     "execution_count": 323,
     "metadata": {},
     "output_type": "execute_result"
    }
   ],
   "source": [
    "elems[0].text"
   ]
  },
  {
   "cell_type": "code",
   "execution_count": 324,
   "metadata": {},
   "outputs": [],
   "source": [
    "elems = driver.find_elements(By.CSS_SELECTOR , \".jSHEVq .review-comment__user-name\")"
   ]
  },
  {
   "cell_type": "code",
   "execution_count": 326,
   "metadata": {},
   "outputs": [
    {
     "data": {
      "text/plain": [
       "'Phan Văn Hoàng'"
      ]
     },
     "execution_count": 326,
     "metadata": {},
     "output_type": "execute_result"
    }
   ],
   "source": [
    "elems[1].text"
   ]
  },
  {
   "cell_type": "code",
   "execution_count": 327,
   "metadata": {},
   "outputs": [],
   "source": [
    "elems = driver.find_elements(By.CSS_SELECTOR , \".jSHEVq .review-comment__user-date\")"
   ]
  },
  {
   "cell_type": "code",
   "execution_count": 328,
   "metadata": {},
   "outputs": [
    {
     "data": {
      "text/plain": [
       "'Đã tham gia 6 năm'"
      ]
     },
     "execution_count": 328,
     "metadata": {},
     "output_type": "execute_result"
    }
   ],
   "source": [
    "elems[0].text"
   ]
  },
  {
   "cell_type": "code",
   "execution_count": 338,
   "metadata": {},
   "outputs": [],
   "source": [
    "elems = driver.find_elements(By.CSS_SELECTOR , \".jSHEVq .review-comment__user-info\")"
   ]
  },
  {
   "cell_type": "code",
   "execution_count": 344,
   "metadata": {},
   "outputs": [
    {
     "data": {
      "text/plain": [
       "'Đã viết\\n19 Đánh giá'"
      ]
     },
     "execution_count": 344,
     "metadata": {},
     "output_type": "execute_result"
    }
   ],
   "source": [
    "elems[2].text"
   ]
  },
  {
   "cell_type": "code",
   "execution_count": 346,
   "metadata": {},
   "outputs": [
    {
     "data": {
      "text/plain": [
       "['Đã nhận\\n0 Lượt cảm ơn',\n",
       " 'Đã nhận\\n22 Lượt cảm ơn',\n",
       " 'Đã nhận\\n7 Lượt cảm ơn',\n",
       " 'Đã nhận\\n0 Lượt cảm ơn',\n",
       " 'Đã nhận\\n0 Lượt cảm ơn']"
      ]
     },
     "execution_count": 346,
     "metadata": {},
     "output_type": "execute_result"
    }
   ],
   "source": [
    "list_review = []\n",
    "list_thank = []\n",
    "for i in range(len(elems)):\n",
    "    if i % 2 == 0:\n",
    "        list_review.append(elems[i].text)\n",
    "    else:\n",
    "        list_thank.append(elems[i].text)\n",
    "list_thank"
   ]
  },
  {
   "cell_type": "code",
   "execution_count": null,
   "metadata": {},
   "outputs": [],
   "source": []
  },
  {
   "cell_type": "code",
   "execution_count": null,
   "metadata": {},
   "outputs": [],
   "source": []
  },
  {
   "cell_type": "code",
   "execution_count": 298,
   "metadata": {},
   "outputs": [
    {
     "data": {
      "text/plain": [
       "'Giảm đến 400k với thẻ TiKiCard\\nĐăng ký'"
      ]
     },
     "execution_count": 298,
     "metadata": {},
     "output_type": "execute_result"
    }
   ],
   "source": [
    "elems[0].text"
   ]
  },
  {
   "cell_type": "code",
   "execution_count": 267,
   "metadata": {},
   "outputs": [
    {
     "data": {
      "text/plain": [
       "'Trung Quốc'"
      ]
     },
     "execution_count": 267,
     "metadata": {},
     "output_type": "execute_result"
    }
   ],
   "source": [
    "country = elems[9].text\n",
    "country"
   ]
  },
  {
   "cell_type": "code",
   "execution_count": 268,
   "metadata": {},
   "outputs": [
    {
     "data": {
      "text/plain": [
       "'48 tháng kể từ ngày sx'"
      ]
     },
     "execution_count": 268,
     "metadata": {},
     "output_type": "execute_result"
    }
   ],
   "source": [
    "date = elems[11].text\n",
    "date"
   ]
  },
  {
   "cell_type": "code",
   "execution_count": 292,
   "metadata": {},
   "outputs": [
    {
     "data": {
      "text/plain": [
       "'Không'"
      ]
     },
     "execution_count": 292,
     "metadata": {},
     "output_type": "execute_result"
    }
   ],
   "source": [
    "bao_hanh = elems[13].text\n",
    "bao_hanh"
   ]
  },
  {
   "cell_type": "code",
   "execution_count": 259,
   "metadata": {},
   "outputs": [],
   "source": []
  },
  {
   "cell_type": "code",
   "execution_count": 265,
   "metadata": {},
   "outputs": [
    {
     "data": {
      "text/plain": [
       "'Cảm giác nhẹ nhàng cho Da\\nKhông gây nhờn\\nChống nước\\nKhả năng chịu nước, chống mồ hôi\\nNon-comedogenic (không làm tắc nghẽn lỗ chân lông)\\nDạng phun sương\\nKhông dầu, Oil free, PABA-free\\nChai nhỏ gọn, tiện di chuyển.\\nTặng kèm hộp bông tẩy trang 200m'"
      ]
     },
     "execution_count": 265,
     "metadata": {},
     "output_type": "execute_result"
    }
   ],
   "source": []
  },
  {
   "cell_type": "code",
   "execution_count": null,
   "metadata": {},
   "outputs": [],
   "source": []
  },
  {
   "cell_type": "code",
   "execution_count": null,
   "metadata": {},
   "outputs": [],
   "source": []
  },
  {
   "cell_type": "code",
   "execution_count": null,
   "metadata": {},
   "outputs": [],
   "source": []
  },
  {
   "cell_type": "code",
   "execution_count": null,
   "metadata": {},
   "outputs": [],
   "source": []
  },
  {
   "cell_type": "code",
   "execution_count": null,
   "metadata": {},
   "outputs": [],
   "source": []
  },
  {
   "cell_type": "code",
   "execution_count": null,
   "metadata": {},
   "outputs": [],
   "source": []
  },
  {
   "cell_type": "code",
   "execution_count": 161,
   "metadata": {},
   "outputs": [],
   "source": [
    "def fill_discount(list_discount):\n",
    "    for i in range(len(discount)):\n",
    "        if discount[i] == '':\n",
    "            discount[i] = '0% Off'\n",
    "    return discount\n",
    "\n",
    "def split_review(list_count_reviews):\n",
    "    import re\n",
    "    pattern = r'([\\d,k+]*) Đã bán\\n(\\(\\d*\\))?\\n(.*)'\n",
    "\n",
    "    saled = []\n",
    "    review = []\n",
    "    city = []\n",
    "\n",
    "    for item in count_reviews:\n",
    "        match = re.match(pattern, item)\n",
    "        if match:\n",
    "            da_ban_value = match.group(1) if match.group(1) else '0'\n",
    "            saled.append(da_ban_value)\n",
    "            danh_gia_value = match.group(2)\n",
    "            if danh_gia_value:\n",
    "                danh_gia_value = danh_gia_value.strip('()')\n",
    "            else:\n",
    "                danh_gia_value = '0'\n",
    "            review.append(danh_gia_value)\n",
    "\n",
    "            tinh_value = match.group(3) if match.group(3) else '0'\n",
    "            city.append(tinh_value)\n",
    "        else:\n",
    "            saled.append('0')\n",
    "            review.append('0')\n",
    "            city.append('Nan')\n",
    "    return saled, review,city\n"
   ]
  },
  {
   "cell_type": "code",
   "execution_count": 6,
   "metadata": {},
   "outputs": [],
   "source": [
    "page = 1\n",
    "title = []\n",
    "links = []\n",
    "price = []\n",
    "discount = []\n",
    "saled = []\n",
    "review = []\n",
    "city = []"
   ]
  },
  {
   "cell_type": "code",
   "execution_count": 130,
   "metadata": {},
   "outputs": [
    {
     "name": "stdout",
     "output_type": "stream",
     "text": [
      "crawl page  1\n"
     ]
    },
    {
     "name": "stdout",
     "output_type": "stream",
     "text": [
      "--- done get title---\n",
      "--done get link--\n",
      "--done get price--\n",
      "--done get discount--\n",
      "--done--\n"
     ]
    },
    {
     "ename": "ElementClickInterceptedException",
     "evalue": "Message: element click intercepted: Element <button class=\"ant-pagination-item-link\" type=\"button\" tabindex=\"-1\">...</button> is not clickable at point (1347, 776). Other element would receive the click: <div class=\"button-mod-box\">...</div>\n  (Session info: chrome=121.0.6167.86)\nStacktrace:\n\tGetHandleVerifier [0x00621673+52979]\n\t(No symbol) [0x005A7961]\n\t(No symbol) [0x0048DD3D]\n\t(No symbol) [0x004CB79B]\n\t(No symbol) [0x004C9EB7]\n\t(No symbol) [0x004C7F1B]\n\t(No symbol) [0x004C70BD]\n\t(No symbol) [0x004BE010]\n\t(No symbol) [0x004E44EC]\n\t(No symbol) [0x004BDA4E]\n\t(No symbol) [0x004E4784]\n\t(No symbol) [0x004FB3FE]\n\t(No symbol) [0x004E4286]\n\t(No symbol) [0x004BC063]\n\t(No symbol) [0x004BCECD]\n\tGetHandleVerifier [0x00938D83+3294723]\n\tGetHandleVerifier [0x00976CC2+3548482]\n\tGetHandleVerifier [0x00971C9C+3527964]\n\tGetHandleVerifier [0x006B870E+671630]\n\t(No symbol) [0x005B1EB4]\n\t(No symbol) [0x005AD808]\n\t(No symbol) [0x005AD92D]\n\t(No symbol) [0x0059F7E0]\n\tBaseThreadInitThunk [0x758B7BA9+25]\n\tRtlInitializeExceptionChain [0x7713BD2B+107]\n\tRtlClearBits [0x7713BCAF+191]\n",
     "output_type": "error",
     "traceback": [
      "\u001b[1;31m---------------------------------------------------------------------------\u001b[0m",
      "\u001b[1;31mElementClickInterceptedException\u001b[0m          Traceback (most recent call last)",
      "Cell \u001b[1;32mIn [130], line 42\u001b[0m\n\u001b[0;32m     38\u001b[0m             \u001b[38;5;28;01mexcept\u001b[39;00m NoSuchElementException:\n\u001b[0;32m     39\u001b[0m                 next_page \u001b[38;5;241m=\u001b[39m driver1\u001b[38;5;241m.\u001b[39mfind_element(\u001b[38;5;124m\"\u001b[39m\u001b[38;5;124mxpath\u001b[39m\u001b[38;5;124m\"\u001b[39m , \u001b[38;5;124m\"\u001b[39m\u001b[38;5;124m/html/body/div[3]/div/div[2]/div[1]/div/div[1]/div[3]/div/ul/li[11]/button\u001b[39m\u001b[38;5;124m\"\u001b[39m)\n\u001b[1;32m---> 42\u001b[0m     \u001b[43mnext_page\u001b[49m\u001b[38;5;241;43m.\u001b[39;49m\u001b[43mclick\u001b[49m\u001b[43m(\u001b[49m\u001b[43m)\u001b[49m\n\u001b[0;32m     43\u001b[0m     page \u001b[38;5;241m+\u001b[39m\u001b[38;5;241m=\u001b[39m \u001b[38;5;241m1\u001b[39m\n\u001b[0;32m     44\u001b[0m \u001b[38;5;28;01mexcept\u001b[39;00m ElementNotInteractableException:\n",
      "File \u001b[1;32mc:\\Users\\ADMIN\\AppData\\Local\\Programs\\Python\\Python310\\lib\\site-packages\\selenium\\webdriver\\remote\\webelement.py:94\u001b[0m, in \u001b[0;36mWebElement.click\u001b[1;34m(self)\u001b[0m\n\u001b[0;32m     92\u001b[0m \u001b[38;5;28;01mdef\u001b[39;00m \u001b[38;5;21mclick\u001b[39m(\u001b[38;5;28mself\u001b[39m) \u001b[38;5;241m-\u001b[39m\u001b[38;5;241m>\u001b[39m \u001b[38;5;28;01mNone\u001b[39;00m:\n\u001b[0;32m     93\u001b[0m     \u001b[38;5;124;03m\"\"\"Clicks the element.\"\"\"\u001b[39;00m\n\u001b[1;32m---> 94\u001b[0m     \u001b[38;5;28;43mself\u001b[39;49m\u001b[38;5;241;43m.\u001b[39;49m\u001b[43m_execute\u001b[49m\u001b[43m(\u001b[49m\u001b[43mCommand\u001b[49m\u001b[38;5;241;43m.\u001b[39;49m\u001b[43mCLICK_ELEMENT\u001b[49m\u001b[43m)\u001b[49m\n",
      "File \u001b[1;32mc:\\Users\\ADMIN\\AppData\\Local\\Programs\\Python\\Python310\\lib\\site-packages\\selenium\\webdriver\\remote\\webelement.py:395\u001b[0m, in \u001b[0;36mWebElement._execute\u001b[1;34m(self, command, params)\u001b[0m\n\u001b[0;32m    393\u001b[0m     params \u001b[38;5;241m=\u001b[39m {}\n\u001b[0;32m    394\u001b[0m params[\u001b[38;5;124m\"\u001b[39m\u001b[38;5;124mid\u001b[39m\u001b[38;5;124m\"\u001b[39m] \u001b[38;5;241m=\u001b[39m \u001b[38;5;28mself\u001b[39m\u001b[38;5;241m.\u001b[39m_id\n\u001b[1;32m--> 395\u001b[0m \u001b[38;5;28;01mreturn\u001b[39;00m \u001b[38;5;28;43mself\u001b[39;49m\u001b[38;5;241;43m.\u001b[39;49m\u001b[43m_parent\u001b[49m\u001b[38;5;241;43m.\u001b[39;49m\u001b[43mexecute\u001b[49m\u001b[43m(\u001b[49m\u001b[43mcommand\u001b[49m\u001b[43m,\u001b[49m\u001b[43m \u001b[49m\u001b[43mparams\u001b[49m\u001b[43m)\u001b[49m\n",
      "File \u001b[1;32mc:\\Users\\ADMIN\\AppData\\Local\\Programs\\Python\\Python310\\lib\\site-packages\\selenium\\webdriver\\remote\\webdriver.py:347\u001b[0m, in \u001b[0;36mWebDriver.execute\u001b[1;34m(self, driver_command, params)\u001b[0m\n\u001b[0;32m    345\u001b[0m response \u001b[38;5;241m=\u001b[39m \u001b[38;5;28mself\u001b[39m\u001b[38;5;241m.\u001b[39mcommand_executor\u001b[38;5;241m.\u001b[39mexecute(driver_command, params)\n\u001b[0;32m    346\u001b[0m \u001b[38;5;28;01mif\u001b[39;00m response:\n\u001b[1;32m--> 347\u001b[0m     \u001b[38;5;28;43mself\u001b[39;49m\u001b[38;5;241;43m.\u001b[39;49m\u001b[43merror_handler\u001b[49m\u001b[38;5;241;43m.\u001b[39;49m\u001b[43mcheck_response\u001b[49m\u001b[43m(\u001b[49m\u001b[43mresponse\u001b[49m\u001b[43m)\u001b[49m\n\u001b[0;32m    348\u001b[0m     response[\u001b[38;5;124m\"\u001b[39m\u001b[38;5;124mvalue\u001b[39m\u001b[38;5;124m\"\u001b[39m] \u001b[38;5;241m=\u001b[39m \u001b[38;5;28mself\u001b[39m\u001b[38;5;241m.\u001b[39m_unwrap_value(response\u001b[38;5;241m.\u001b[39mget(\u001b[38;5;124m\"\u001b[39m\u001b[38;5;124mvalue\u001b[39m\u001b[38;5;124m\"\u001b[39m, \u001b[38;5;28;01mNone\u001b[39;00m))\n\u001b[0;32m    349\u001b[0m     \u001b[38;5;28;01mreturn\u001b[39;00m response\n",
      "File \u001b[1;32mc:\\Users\\ADMIN\\AppData\\Local\\Programs\\Python\\Python310\\lib\\site-packages\\selenium\\webdriver\\remote\\errorhandler.py:229\u001b[0m, in \u001b[0;36mErrorHandler.check_response\u001b[1;34m(self, response)\u001b[0m\n\u001b[0;32m    227\u001b[0m         alert_text \u001b[38;5;241m=\u001b[39m value[\u001b[38;5;124m\"\u001b[39m\u001b[38;5;124malert\u001b[39m\u001b[38;5;124m\"\u001b[39m]\u001b[38;5;241m.\u001b[39mget(\u001b[38;5;124m\"\u001b[39m\u001b[38;5;124mtext\u001b[39m\u001b[38;5;124m\"\u001b[39m)\n\u001b[0;32m    228\u001b[0m     \u001b[38;5;28;01mraise\u001b[39;00m exception_class(message, screen, stacktrace, alert_text)  \u001b[38;5;66;03m# type: ignore[call-arg]  # mypy is not smart enough here\u001b[39;00m\n\u001b[1;32m--> 229\u001b[0m \u001b[38;5;28;01mraise\u001b[39;00m exception_class(message, screen, stacktrace)\n",
      "\u001b[1;31mElementClickInterceptedException\u001b[0m: Message: element click intercepted: Element <button class=\"ant-pagination-item-link\" type=\"button\" tabindex=\"-1\">...</button> is not clickable at point (1347, 776). Other element would receive the click: <div class=\"button-mod-box\">...</div>\n  (Session info: chrome=121.0.6167.86)\nStacktrace:\n\tGetHandleVerifier [0x00621673+52979]\n\t(No symbol) [0x005A7961]\n\t(No symbol) [0x0048DD3D]\n\t(No symbol) [0x004CB79B]\n\t(No symbol) [0x004C9EB7]\n\t(No symbol) [0x004C7F1B]\n\t(No symbol) [0x004C70BD]\n\t(No symbol) [0x004BE010]\n\t(No symbol) [0x004E44EC]\n\t(No symbol) [0x004BDA4E]\n\t(No symbol) [0x004E4784]\n\t(No symbol) [0x004FB3FE]\n\t(No symbol) [0x004E4286]\n\t(No symbol) [0x004BC063]\n\t(No symbol) [0x004BCECD]\n\tGetHandleVerifier [0x00938D83+3294723]\n\tGetHandleVerifier [0x00976CC2+3548482]\n\tGetHandleVerifier [0x00971C9C+3527964]\n\tGetHandleVerifier [0x006B870E+671630]\n\t(No symbol) [0x005B1EB4]\n\t(No symbol) [0x005AD808]\n\t(No symbol) [0x005AD92D]\n\t(No symbol) [0x0059F7E0]\n\tBaseThreadInitThunk [0x758B7BA9+25]\n\tRtlInitializeExceptionChain [0x7713BD2B+107]\n\tRtlClearBits [0x7713BCAF+191]\n"
     ]
    }
   ],
   "source": [
    "page = 1\n",
    "while True:\n",
    "    try:\n",
    "        print('crawl page ' ,page)\n",
    "        elems = driver1.find_elements(By.CSS_SELECTOR , \".RfADt [href]\")\n",
    "        title = [elem.text for elem in elems] + title\n",
    "        print('--- done get title---')\n",
    "\n",
    "        links =[elem.get_attribute('href') for elem in elems] + links\n",
    "        print('--done get link--')\n",
    "\n",
    "        elems_price = driver1.find_elements(By.CSS_SELECTOR , \".aBrP0\")\n",
    "        price = [elem_price.text for elem_price in elems_price] + price\n",
    "        print('--done get price--')\n",
    "\n",
    "        discounts = driver1.find_elements(By.CSS_SELECTOR , \".WNoq3\")\n",
    "        discount = [discount.text for discount in discounts] + discount\n",
    "        discount = fill_discount(discount)\n",
    "        print('--done get discount--')\n",
    "\n",
    "\n",
    "        elems_countreviews = driver1.find_elements(By.CSS_SELECTOR , \"._6uN7R\")\n",
    "        count_reviews = [elems_countreview.text for elems_countreview in elems_countreviews]\n",
    "        count_reviews = split_review(count_reviews)\n",
    "        saled = count_reviews[0] + saled\n",
    "        review = count_reviews[1] + review\n",
    "        city = count_reviews[2] + city \n",
    "        print('--done--')\n",
    "        sleep(15)\n",
    "        try:\n",
    "            next_page = driver1.find_element(\"xpath\" , \"/html/body/div[3]/div/div[3]/div[1]/div/div[1]/div[3]/div/ul/li[9]/button\")\n",
    "        except NoSuchElementException:\n",
    "            try:\n",
    "                next_page = driver1.find_element(\"xpath\" , \"/html/body/div[3]/div/div[2]/div[1]/div/div[1]/div[3]/div/ul/li[9]/button\")\n",
    "            except NoSuchElementException:\n",
    "                try:\n",
    "                    next_page = driver1.find_element(\"xpath\" , \"/html/body/div[3]/div/div[2]/div[1]/div/div[1]/div[3]/div/ul/li[10]/button\")\n",
    "                except NoSuchElementException:\n",
    "                    next_page = driver1.find_element(\"xpath\" , \"/html/body/div[3]/div/div[2]/div[1]/div/div[1]/div[3]/div/ul/li[11]/button\")\n",
    "        \n",
    "\n",
    "        next_page.click()\n",
    "        page += 1\n",
    "    except ElementNotInteractableException:\n",
    "        print('--no page--')\n",
    "        break"
   ]
  },
  {
   "cell_type": "code",
   "execution_count": 106,
   "metadata": {},
   "outputs": [],
   "source": [
    "sleep(random.randint(5,10))"
   ]
  },
  {
   "cell_type": "code",
   "execution_count": 145,
   "metadata": {},
   "outputs": [],
   "source": [
    "elems = driver.find_elements(By.CSS_SELECTOR , \".name\")"
   ]
  },
  {
   "cell_type": "code",
   "execution_count": 146,
   "metadata": {},
   "outputs": [
    {
     "data": {
      "text/plain": [
       "'Combo 2 Sữa rửa mặt Simple giúp da sạch thoáng 150mlx2'"
      ]
     },
     "execution_count": 146,
     "metadata": {},
     "output_type": "execute_result"
    }
   ],
   "source": [
    "elems[3].text"
   ]
  },
  {
   "cell_type": "code",
   "execution_count": 147,
   "metadata": {},
   "outputs": [],
   "source": [
    "title = [elem.text for elem in elems]"
   ]
  },
  {
   "cell_type": "code",
   "execution_count": 148,
   "metadata": {},
   "outputs": [
    {
     "data": {
      "text/plain": [
       "['Sữa rửa mặt Simple giúp da sạch thoáng & không chứa xà phòng 150ml [CHÍNH HÃNG ĐỘC QUYỀN]',\n",
       " \"Bộ Đôi Kem Dưỡng Da Ngày Và Đêm Trắng Hồng Rạng Rỡ Pond's White Beauty (50g)\",\n",
       " 'Bộ đôi Kem chống nắng dạng sữa dưỡng da kiềm dầu bảo vệ hoàn hảo (Anessa Gold Milk 60ml + Gold Milk 20ml)',\n",
       " 'Combo 2 Sữa rửa mặt Simple giúp da sạch thoáng 150mlx2',\n",
       " 'Sữa rửa mặt Simple giúp cấp ẩm, da trông khỏe và mịn màng - cho da khô nhạy cảm 150ml [CHÍNH HÃNG ĐỘC QUYỀN] [MỚI]',\n",
       " 'Giấy Thấm Dầu Acnes Oil Remover Paper (100 Tờ)',\n",
       " 'Kem rửa mặt Vitamin Acnes Vitamin Cleanser 100g',\n",
       " '[Made in Japan] Bộ 3 Hộp Silcot Bông Trang Điểm (bông tẩy trang) Nhật Bản (82 Miếng/Hộp)',\n",
       " 'Kem Dưỡng Cấp Nước Cho Da Hỗn Hợp Neutrogena Hydro Boost Water Gel',\n",
       " 'Kem Chống Nắng Không Màu Kiểm Soát Dầu La Roche-Posay Anthelios XL Dry Touch Gel-Cream SPF 50+ UVB & UVA (50ml)',\n",
       " \"Combo Serum Dưỡng Sáng Mờ Thâm và Kem Dưỡng Ẩm Ngày Đêm Pond's Bright Beauty 30G & 50G x2\",\n",
       " 'Gel Hỗ Trợ Trị Sẹo Mổ, To, Lồi Và Phì Đại Hiruscar Silicone Pro 10G',\n",
       " 'Xịt khoáng Alba Skin Care chống lão hóa dưỡng ẩm dành cho da khô',\n",
       " 'Combo 2 Sữa rửa mặt Simple giúp kiềm dầu và ngừa mụn hiệu quả - cho da mụn nhạy cảm 150ml [CHÍNH HÃNG ĐỘC QUYỀN] [DIỆN MẠO MỚI]',\n",
       " 'Tẩy Da Chết Tế Bào Gốc Thực Vật Làm Sạch Sâu Dịu Nhẹ Dưỡng Ẩm Trắng Da Chống Nhăn Cho Da Nhạy Cảm Cellkey-Scien White Peeling Gel (80ml)',\n",
       " 'Kem rửa mặt ngăn ngừa mụn Acnes Creamy Wash (100g)',\n",
       " 'Sữa Chống Nắng Sunplay Cực Mạnh Sunplay Super Block SPF 81, PA++++ (30g)',\n",
       " 'Sữa Chống Nắng Cực Mạnh Sunplay Super Block SPF81, PA++++ (70g)',\n",
       " 'Nước hoa hồng không chứa cồn Neutrogena Alcohol Free Toner 150ml',\n",
       " 'Nước Hoa Hồng Toner Hoa Cúc & AHA Ngừa Mụn, Giảm Dầu Dành Cho Da Mụn Nhạy Cảm MILAGANICS',\n",
       " '[Made in Japan] Bộ sản phẩm Kem chống nắng dưỡng da bảo vệ hoàn hảo cho da mặt và toàn thân (Anessa Gold Milk 60ml + Gold Gel 90g + Gold Spray 60g)',\n",
       " '[Made in Korea] Nước Cân Bằng Dưỡng Ẩm Dành Cho Da Dầu Và Da Hỗn Hợp Laneige Water Bank Blue HA Toner Oily 160ml',\n",
       " 'Nước Cân Bằng Dưỡng Ẩm Dành Cho Da Thường Và Da Khô Laneige Water Bank Blue HA Toner Dry 160ml',\n",
       " '[Made in Korea] Tinh Chất Dưỡng Sáng Da Laneige Radian-C Advanced Effector 150ml',\n",
       " \"Bộ Đôi Kem Dưỡng Chống Lão Hóa Da Ngày Và Đêm Pond's Age Miracle\",\n",
       " 'Bột Đậu Đỏ Dưỡng Trắng Da Milaganics 100g',\n",
       " '[Made in Japan] Bộ 3 Hộp Silcot Bông Trang Điểm (bông tẩy trang) Nhật Bản Cao Cấp (66 Miếng/Hộp)',\n",
       " 'Gel Lô Hội Dưỡng Ẩm Đa Năng & Làm Mềm Da Từ Nha Đam Tươi MILAGANICS 300ml (Hũ)',\n",
       " 'Nước tẩy trang Công Nghệ Micella Bioderma Sensibio H2O',\n",
       " 'Sữa Rửa Mặt Neutrogena Làm Sạch Sâu Và Kiểm Soát Nhờn',\n",
       " 'Nước Tẩy Trang Thanh Lọc Và Làm Sạch Sâu Neutrogena Deep Clean Micellar Purifying Water 400ml',\n",
       " 'Kem Làm Mờ Sẹo Thâm, Sẹo Rỗ, Sẹo Lõm Scar Esthetique của Rejuvaskin - thương hiệu hỗ trợ trị sẹo Hoa Kỳ',\n",
       " 'Derma Forte Gel 15g - Adavanced, Giảm Mụn Trứng Cá, Mờ Sẹo, Dưỡng Da',\n",
       " 'Sữa chống nắng nâng tông dành cho da dầu/hỗn hợp Sunplay Skin Aqua Tone Up UV Milk Lavender SPF50+ PA++++ (50g)',\n",
       " '[Made in Japan] Combo 3 Phim Thấm Dầu Jomi Mayan (70 Tờ) - Xanh',\n",
       " 'Tinh chất chống nắng nâng tông dành cho da khô/thường Sunplay Skin Aqua Tone Up UV Essence Lavender SPF50+ PA++++ (50g)',\n",
       " \"Bộ Đôi Kem Dưỡng Da Ngày Và Đêm Trắng Hồng Rạng Rỡ Pond's White Beauty (50g)\",\n",
       " 'Nước Tẩy Trang Làm Sạch Sâu Cho Da Nhạy Cảm La Roche-Posay Micellar Water Ultra Sensitive Skin 400ml',\n",
       " 'Sữa Rửa Mặt Dạng Gel Dành Cho Da Nhờn Mụn SVR Sebiaclear Gel Moussant 400ml',\n",
       " 'Sữa chống nắng nâng tông dành cho da dầu/hỗn hợp Sunplay Skin Aqua Tone Up UV Milk (Mint Green) (dành cho da sáng, có khuyết điểm đỏ) (50g)',\n",
       " 'Nước Tẩy Trang Làm Sạch Sâu & Kiểm Soát Bã Nhờn Cho Da Dầu Nhạy Cảm La Roche-Posay Micellar Water Ultra Oily Skin 400ml',\n",
       " 'Megaduo Gel 15g - Giảm Mụn Trứng Cá, Ngừa Thâm, Mờ Sẹo, Dưỡng Da - Gam ma',\n",
       " 'Gel Hỗ Trợ Trị Sẹo Mổ, To, Lồi Và Phì Đại Hiruscar Silicone Pro 10G',\n",
       " \"Combo Serum Dưỡng Sáng Mờ Thâm và Kem Dưỡng Ẩm Ngày Đêm Pond's Bright Beauty 30G & 50G x2\",\n",
       " '[Made in Japan] Combo 3 Bông Tẩy Trang Jomi (80 Miếng / Túi)',\n",
       " '[Made in Korea] Mặt Nạ Ngủ Cho Môi Laneige Lip Sleeping Mask Berry 8g',\n",
       " 'Sữa Chống Nắng Nâng Tông Dành Cho Da Dầu/Hỗn Hợp Sunplay Skin Aqua Tone Up UV Milk Happiness Aura (Rose) (Cho Da Sáng Hồng, Khuyết Điểm Xanh) (50g)',\n",
       " 'Gel Chăm Sóc Sẹo Mụn Và Mụn Thâm Hiruscar Post Acne 10G',\n",
       " 'Kem Chống Nắng Mỏng Nhẹ Neutrogena U.S Dry Touch SPF 50 88ml',\n",
       " 'Kem Hỗ Trợ Giảm Mụn Mủ Mụn Viêm Mụn Bọc Acnevir Santafa xanh ( Tuýp 10gr )',\n",
       " 'Kem Chống Nắng Không Màu Kiểm Soát Dầu La Roche-Posay Anthelios XL Dry Touch Gel-Cream SPF 50+ UVB & UVA (50ml)',\n",
       " 'Kem Rửa Mặt Dưỡng Trắng Hada Labo Perfect White Tranexamic Acid Cleanser (80g)',\n",
       " 'Dầu tẩy trang dưỡng ẩm Hada Labo Advanced Nourish Hyaluronic Acid Cleansing Oil (200ml)',\n",
       " \"Dung Dịch Tẩy Tế Bào Chết Paula's Choice Skin Perfecting 2% BHA Liquid (30ml)\",\n",
       " 'Sữa Rửa Mặt Dịu Nhẹ Cho Da Thường Đến Da Dầu Cerave Foaming Facial Cleanser 355ml - 473ml Hàng Nhập Mỹ']"
      ]
     },
     "execution_count": 148,
     "metadata": {},
     "output_type": "execute_result"
    }
   ],
   "source": [
    "title"
   ]
  },
  {
   "cell_type": "code",
   "execution_count": 149,
   "metadata": {},
   "outputs": [
    {
     "data": {
      "text/plain": [
       "55"
      ]
     },
     "execution_count": 149,
     "metadata": {},
     "output_type": "execute_result"
    }
   ],
   "source": [
    "len(title)"
   ]
  },
  {
   "cell_type": "code",
   "execution_count": 150,
   "metadata": {},
   "outputs": [],
   "source": [
    "price_sale = driver.find_elements(By.CSS_SELECTOR , \".bqaPbq .price-discount\")"
   ]
  },
  {
   "cell_type": "code",
   "execution_count": 151,
   "metadata": {},
   "outputs": [
    {
     "data": {
      "text/plain": [
       "[<undetected_chromedriver.webelement.WebElement (session=\"12041c1ca47f342b7863879bac184824\", element=\"238CCC79B4E7BEFB313CFEAC44380FA7_element_727\")>,\n",
       " <undetected_chromedriver.webelement.WebElement (session=\"12041c1ca47f342b7863879bac184824\", element=\"238CCC79B4E7BEFB313CFEAC44380FA7_element_832\")>,\n",
       " <undetected_chromedriver.webelement.WebElement (session=\"12041c1ca47f342b7863879bac184824\", element=\"238CCC79B4E7BEFB313CFEAC44380FA7_element_8890\")>,\n",
       " <undetected_chromedriver.webelement.WebElement (session=\"12041c1ca47f342b7863879bac184824\", element=\"238CCC79B4E7BEFB313CFEAC44380FA7_element_8786\")>,\n",
       " <undetected_chromedriver.webelement.WebElement (session=\"12041c1ca47f342b7863879bac184824\", element=\"238CCC79B4E7BEFB313CFEAC44380FA7_element_8682\")>,\n",
       " <undetected_chromedriver.webelement.WebElement (session=\"12041c1ca47f342b7863879bac184824\", element=\"238CCC79B4E7BEFB313CFEAC44380FA7_element_1250\")>,\n",
       " <undetected_chromedriver.webelement.WebElement (session=\"12041c1ca47f342b7863879bac184824\", element=\"238CCC79B4E7BEFB313CFEAC44380FA7_element_1352\")>,\n",
       " <undetected_chromedriver.webelement.WebElement (session=\"12041c1ca47f342b7863879bac184824\", element=\"238CCC79B4E7BEFB313CFEAC44380FA7_element_1454\")>,\n",
       " <undetected_chromedriver.webelement.WebElement (session=\"12041c1ca47f342b7863879bac184824\", element=\"238CCC79B4E7BEFB313CFEAC44380FA7_element_1556\")>,\n",
       " <undetected_chromedriver.webelement.WebElement (session=\"12041c1ca47f342b7863879bac184824\", element=\"238CCC79B4E7BEFB313CFEAC44380FA7_element_1653\")>,\n",
       " <undetected_chromedriver.webelement.WebElement (session=\"12041c1ca47f342b7863879bac184824\", element=\"238CCC79B4E7BEFB313CFEAC44380FA7_element_8578\")>,\n",
       " <undetected_chromedriver.webelement.WebElement (session=\"12041c1ca47f342b7863879bac184824\", element=\"238CCC79B4E7BEFB313CFEAC44380FA7_element_8474\")>,\n",
       " <undetected_chromedriver.webelement.WebElement (session=\"12041c1ca47f342b7863879bac184824\", element=\"238CCC79B4E7BEFB313CFEAC44380FA7_element_8374\")>,\n",
       " <undetected_chromedriver.webelement.WebElement (session=\"12041c1ca47f342b7863879bac184824\", element=\"238CCC79B4E7BEFB313CFEAC44380FA7_element_2068\")>,\n",
       " <undetected_chromedriver.webelement.WebElement (session=\"12041c1ca47f342b7863879bac184824\", element=\"238CCC79B4E7BEFB313CFEAC44380FA7_element_2173\")>,\n",
       " <undetected_chromedriver.webelement.WebElement (session=\"12041c1ca47f342b7863879bac184824\", element=\"238CCC79B4E7BEFB313CFEAC44380FA7_element_2276\")>,\n",
       " <undetected_chromedriver.webelement.WebElement (session=\"12041c1ca47f342b7863879bac184824\", element=\"238CCC79B4E7BEFB313CFEAC44380FA7_element_2378\")>,\n",
       " <undetected_chromedriver.webelement.WebElement (session=\"12041c1ca47f342b7863879bac184824\", element=\"238CCC79B4E7BEFB313CFEAC44380FA7_element_2480\")>,\n",
       " <undetected_chromedriver.webelement.WebElement (session=\"12041c1ca47f342b7863879bac184824\", element=\"238CCC79B4E7BEFB313CFEAC44380FA7_element_2582\")>,\n",
       " <undetected_chromedriver.webelement.WebElement (session=\"12041c1ca47f342b7863879bac184824\", element=\"238CCC79B4E7BEFB313CFEAC44380FA7_element_2679\")>,\n",
       " <undetected_chromedriver.webelement.WebElement (session=\"12041c1ca47f342b7863879bac184824\", element=\"238CCC79B4E7BEFB313CFEAC44380FA7_element_8270\")>,\n",
       " <undetected_chromedriver.webelement.WebElement (session=\"12041c1ca47f342b7863879bac184824\", element=\"238CCC79B4E7BEFB313CFEAC44380FA7_element_8228\")>,\n",
       " <undetected_chromedriver.webelement.WebElement (session=\"12041c1ca47f342b7863879bac184824\", element=\"238CCC79B4E7BEFB313CFEAC44380FA7_element_8124\")>,\n",
       " <undetected_chromedriver.webelement.WebElement (session=\"12041c1ca47f342b7863879bac184824\", element=\"238CCC79B4E7BEFB313CFEAC44380FA7_element_3035\")>,\n",
       " <undetected_chromedriver.webelement.WebElement (session=\"12041c1ca47f342b7863879bac184824\", element=\"238CCC79B4E7BEFB313CFEAC44380FA7_element_3136\")>,\n",
       " <undetected_chromedriver.webelement.WebElement (session=\"12041c1ca47f342b7863879bac184824\", element=\"238CCC79B4E7BEFB313CFEAC44380FA7_element_3235\")>,\n",
       " <undetected_chromedriver.webelement.WebElement (session=\"12041c1ca47f342b7863879bac184824\", element=\"238CCC79B4E7BEFB313CFEAC44380FA7_element_3337\")>,\n",
       " <undetected_chromedriver.webelement.WebElement (session=\"12041c1ca47f342b7863879bac184824\", element=\"238CCC79B4E7BEFB313CFEAC44380FA7_element_3435\")>,\n",
       " <undetected_chromedriver.webelement.WebElement (session=\"12041c1ca47f342b7863879bac184824\", element=\"238CCC79B4E7BEFB313CFEAC44380FA7_element_3537\")>,\n",
       " <undetected_chromedriver.webelement.WebElement (session=\"12041c1ca47f342b7863879bac184824\", element=\"238CCC79B4E7BEFB313CFEAC44380FA7_element_3639\")>,\n",
       " <undetected_chromedriver.webelement.WebElement (session=\"12041c1ca47f342b7863879bac184824\", element=\"238CCC79B4E7BEFB313CFEAC44380FA7_element_3740\")>,\n",
       " <undetected_chromedriver.webelement.WebElement (session=\"12041c1ca47f342b7863879bac184824\", element=\"238CCC79B4E7BEFB313CFEAC44380FA7_element_3841\")>,\n",
       " <undetected_chromedriver.webelement.WebElement (session=\"12041c1ca47f342b7863879bac184824\", element=\"238CCC79B4E7BEFB313CFEAC44380FA7_element_3943\")>,\n",
       " <undetected_chromedriver.webelement.WebElement (session=\"12041c1ca47f342b7863879bac184824\", element=\"238CCC79B4E7BEFB313CFEAC44380FA7_element_4045\")>,\n",
       " <undetected_chromedriver.webelement.WebElement (session=\"12041c1ca47f342b7863879bac184824\", element=\"238CCC79B4E7BEFB313CFEAC44380FA7_element_4147\")>,\n",
       " <undetected_chromedriver.webelement.WebElement (session=\"12041c1ca47f342b7863879bac184824\", element=\"238CCC79B4E7BEFB313CFEAC44380FA7_element_4249\")>,\n",
       " <undetected_chromedriver.webelement.WebElement (session=\"12041c1ca47f342b7863879bac184824\", element=\"238CCC79B4E7BEFB313CFEAC44380FA7_element_4351\")>,\n",
       " <undetected_chromedriver.webelement.WebElement (session=\"12041c1ca47f342b7863879bac184824\", element=\"238CCC79B4E7BEFB313CFEAC44380FA7_element_4449\")>,\n",
       " <undetected_chromedriver.webelement.WebElement (session=\"12041c1ca47f342b7863879bac184824\", element=\"238CCC79B4E7BEFB313CFEAC44380FA7_element_4550\")>,\n",
       " <undetected_chromedriver.webelement.WebElement (session=\"12041c1ca47f342b7863879bac184824\", element=\"238CCC79B4E7BEFB313CFEAC44380FA7_element_4652\")>,\n",
       " <undetected_chromedriver.webelement.WebElement (session=\"12041c1ca47f342b7863879bac184824\", element=\"238CCC79B4E7BEFB313CFEAC44380FA7_element_4750\")>,\n",
       " <undetected_chromedriver.webelement.WebElement (session=\"12041c1ca47f342b7863879bac184824\", element=\"238CCC79B4E7BEFB313CFEAC44380FA7_element_4852\")>,\n",
       " <undetected_chromedriver.webelement.WebElement (session=\"12041c1ca47f342b7863879bac184824\", element=\"238CCC79B4E7BEFB313CFEAC44380FA7_element_4950\")>,\n",
       " <undetected_chromedriver.webelement.WebElement (session=\"12041c1ca47f342b7863879bac184824\", element=\"238CCC79B4E7BEFB313CFEAC44380FA7_element_5052\")>,\n",
       " <undetected_chromedriver.webelement.WebElement (session=\"12041c1ca47f342b7863879bac184824\", element=\"238CCC79B4E7BEFB313CFEAC44380FA7_element_5154\")>,\n",
       " <undetected_chromedriver.webelement.WebElement (session=\"12041c1ca47f342b7863879bac184824\", element=\"238CCC79B4E7BEFB313CFEAC44380FA7_element_5256\")>,\n",
       " <undetected_chromedriver.webelement.WebElement (session=\"12041c1ca47f342b7863879bac184824\", element=\"238CCC79B4E7BEFB313CFEAC44380FA7_element_5358\")>,\n",
       " <undetected_chromedriver.webelement.WebElement (session=\"12041c1ca47f342b7863879bac184824\", element=\"238CCC79B4E7BEFB313CFEAC44380FA7_element_5456\")>,\n",
       " <undetected_chromedriver.webelement.WebElement (session=\"12041c1ca47f342b7863879bac184824\", element=\"238CCC79B4E7BEFB313CFEAC44380FA7_element_5495\")>,\n",
       " <undetected_chromedriver.webelement.WebElement (session=\"12041c1ca47f342b7863879bac184824\", element=\"238CCC79B4E7BEFB313CFEAC44380FA7_element_5597\")>,\n",
       " <undetected_chromedriver.webelement.WebElement (session=\"12041c1ca47f342b7863879bac184824\", element=\"238CCC79B4E7BEFB313CFEAC44380FA7_element_5699\")>,\n",
       " <undetected_chromedriver.webelement.WebElement (session=\"12041c1ca47f342b7863879bac184824\", element=\"238CCC79B4E7BEFB313CFEAC44380FA7_element_5801\")>,\n",
       " <undetected_chromedriver.webelement.WebElement (session=\"12041c1ca47f342b7863879bac184824\", element=\"238CCC79B4E7BEFB313CFEAC44380FA7_element_5903\")>,\n",
       " <undetected_chromedriver.webelement.WebElement (session=\"12041c1ca47f342b7863879bac184824\", element=\"238CCC79B4E7BEFB313CFEAC44380FA7_element_6005\")>,\n",
       " <undetected_chromedriver.webelement.WebElement (session=\"12041c1ca47f342b7863879bac184824\", element=\"238CCC79B4E7BEFB313CFEAC44380FA7_element_6102\")>]"
      ]
     },
     "execution_count": 151,
     "metadata": {},
     "output_type": "execute_result"
    }
   ],
   "source": [
    "price_sale"
   ]
  },
  {
   "cell_type": "code",
   "execution_count": 152,
   "metadata": {},
   "outputs": [
    {
     "data": {
      "text/plain": [
       "['99.000₫\\n-25%',\n",
       " '214.000₫\\n-29%',\n",
       " '700.000₫\\n-30%',\n",
       " '198.000₫\\n-25%',\n",
       " '95.000₫\\n-28%',\n",
       " '26.000₫\\n-21%',\n",
       " '54.000₫\\n-21%',\n",
       " '100.000₫\\n-21%',\n",
       " '93.000₫\\n-15%',\n",
       " '535.000₫',\n",
       " '409.000₫\\n-25%',\n",
       " '307.000₫',\n",
       " '212.000₫\\n-8%',\n",
       " '198.000₫\\n-25%',\n",
       " '259.000₫\\n-26%',\n",
       " '54.000₫\\n-21%',\n",
       " '82.000₫\\n-15%',\n",
       " '149.000₫\\n-15%',\n",
       " '114.000₫\\n-14%',\n",
       " '45.000₫',\n",
       " '872.000₫\\n-50%',\n",
       " '699.000₫\\n-9%',\n",
       " '699.000₫\\n-9%',\n",
       " '960.000₫\\n-9%',\n",
       " '517.000₫',\n",
       " '39.000₫',\n",
       " '120.000₫\\n-15%',\n",
       " '99.000₫',\n",
       " '499.000₫\\n-5%',\n",
       " '99.000₫\\n-21%',\n",
       " '169.000₫\\n-23%',\n",
       " '301.000₫\\n-25%',\n",
       " '122.000₫\\n-24%',\n",
       " '157.000₫\\n-15%',\n",
       " '163.000₫\\n-18%',\n",
       " '157.000₫\\n-15%',\n",
       " '214.000₫\\n-29%',\n",
       " '495.000₫',\n",
       " '459.000₫\\n-15%',\n",
       " '157.000₫\\n-15%',\n",
       " '495.000₫',\n",
       " '128.000₫\\n-25%',\n",
       " '307.000₫',\n",
       " '409.000₫\\n-25%',\n",
       " '68.100₫\\n-24%',\n",
       " '195.000₫\\n-11%',\n",
       " '157.000₫\\n-15%',\n",
       " '307.000₫',\n",
       " '260.000₫\\n-35%',\n",
       " '94.000₫\\n-29%',\n",
       " '389.000₫\\n-27%',\n",
       " '79.000₫\\n-15%',\n",
       " '204.000₫\\n-20%',\n",
       " '299.000₫\\n-25%',\n",
       " '372.000₫']"
      ]
     },
     "execution_count": 152,
     "metadata": {},
     "output_type": "execute_result"
    }
   ],
   "source": [
    "price = [elem.text for elem in price_sale]\n",
    "price"
   ]
  },
  {
   "cell_type": "code",
   "execution_count": 167,
   "metadata": {},
   "outputs": [
    {
     "data": {
      "text/plain": [
       "55"
      ]
     },
     "execution_count": 167,
     "metadata": {},
     "output_type": "execute_result"
    }
   ],
   "source": [
    "len(price_sale)"
   ]
  },
  {
   "cell_type": "code",
   "execution_count": 169,
   "metadata": {},
   "outputs": [
    {
     "data": {
      "text/plain": [
       "['99.000₫',\n",
       " '214.000₫',\n",
       " '700.000₫',\n",
       " '198.000₫',\n",
       " '95.000₫',\n",
       " '26.000₫',\n",
       " '54.000₫',\n",
       " '100.000₫',\n",
       " '93.000₫',\n",
       " '535.000₫',\n",
       " '409.000₫',\n",
       " '307.000₫',\n",
       " '212.000₫',\n",
       " '198.000₫',\n",
       " '259.000₫',\n",
       " '54.000₫',\n",
       " '82.000₫',\n",
       " '149.000₫',\n",
       " '114.000₫',\n",
       " '45.000₫',\n",
       " '872.000₫',\n",
       " '699.000₫',\n",
       " '699.000₫',\n",
       " '960.000₫',\n",
       " '517.000₫',\n",
       " '39.000₫',\n",
       " '120.000₫',\n",
       " '99.000₫',\n",
       " '499.000₫',\n",
       " '99.000₫',\n",
       " '169.000₫',\n",
       " '301.000₫',\n",
       " '122.000₫',\n",
       " '157.000₫',\n",
       " '163.000₫',\n",
       " '157.000₫',\n",
       " '214.000₫',\n",
       " '495.000₫',\n",
       " '459.000₫',\n",
       " '157.000₫',\n",
       " '495.000₫',\n",
       " '128.000₫',\n",
       " '307.000₫',\n",
       " '409.000₫',\n",
       " '68.100₫',\n",
       " '195.000₫',\n",
       " '157.000₫',\n",
       " '307.000₫',\n",
       " '260.000₫',\n",
       " '94.000₫',\n",
       " '389.000₫',\n",
       " '79.000₫',\n",
       " '204.000₫',\n",
       " '299.000₫',\n",
       " '372.000₫']"
      ]
     },
     "execution_count": 169,
     "metadata": {},
     "output_type": "execute_result"
    }
   ],
   "source": [
    "import re\n",
    "\n",
    "def split_price_discount(lst):\n",
    "    prices = []\n",
    "    discounts = []\n",
    "    for item in lst:\n",
    "        # Tách giá và mức giảm giá bằng regex\n",
    "        price, *discount = re.findall(r'(\\d+\\.?\\d*₫)(?:\\n-(\\d+)%)*', item)[0]\n",
    "        prices.append(price)\n",
    "        discounts.append(f\"{discount[0]}%\" if discount else None)\n",
    "    return prices, discounts\n",
    "\n",
    "price_list, discount_list = split_price_discount(price)\n",
    "price_list"
   ]
  },
  {
   "cell_type": "code",
   "execution_count": 170,
   "metadata": {},
   "outputs": [
    {
     "data": {
      "text/plain": [
       "['25%',\n",
       " '29%',\n",
       " '30%',\n",
       " '25%',\n",
       " '28%',\n",
       " '21%',\n",
       " '21%',\n",
       " '21%',\n",
       " '15%',\n",
       " '%',\n",
       " '25%',\n",
       " '%',\n",
       " '8%',\n",
       " '25%',\n",
       " '26%',\n",
       " '21%',\n",
       " '15%',\n",
       " '15%',\n",
       " '14%',\n",
       " '%',\n",
       " '50%',\n",
       " '9%',\n",
       " '9%',\n",
       " '9%',\n",
       " '%',\n",
       " '%',\n",
       " '15%',\n",
       " '%',\n",
       " '5%',\n",
       " '21%',\n",
       " '23%',\n",
       " '25%',\n",
       " '24%',\n",
       " '15%',\n",
       " '18%',\n",
       " '15%',\n",
       " '29%',\n",
       " '%',\n",
       " '15%',\n",
       " '15%',\n",
       " '%',\n",
       " '25%',\n",
       " '%',\n",
       " '25%',\n",
       " '24%',\n",
       " '11%',\n",
       " '15%',\n",
       " '%',\n",
       " '35%',\n",
       " '29%',\n",
       " '27%',\n",
       " '15%',\n",
       " '20%',\n",
       " '25%',\n",
       " '%']"
      ]
     },
     "execution_count": 170,
     "metadata": {},
     "output_type": "execute_result"
    }
   ],
   "source": [
    "discount_list"
   ]
  },
  {
   "cell_type": "code",
   "execution_count": 191,
   "metadata": {},
   "outputs": [],
   "source": [
    "page = 1"
   ]
  },
  {
   "cell_type": "code",
   "execution_count": 192,
   "metadata": {},
   "outputs": [
    {
     "name": "stdout",
     "output_type": "stream",
     "text": [
      "https://tiki.vn/cham-soc-da-mat/c1582?page=1\n"
     ]
    }
   ],
   "source": [
    "print(\"https://tiki.vn/cham-soc-da-mat/c1582?page=\"+str(page))\n"
   ]
  },
  {
   "cell_type": "code",
   "execution_count": 190,
   "metadata": {},
   "outputs": [
    {
     "ename": "NoSuchElementException",
     "evalue": "Message: no such element: Unable to locate element: {\"method\":\"xpath\",\"selector\":\"/html/body/div[1]/div[1]/main/div[2]/div[1]/div[2]/div/div[1]/div[2]/div[1]/div[2]/div[2]/img[2]\"}\n  (Session info: chrome=121.0.6167.86); For documentation on this error, please visit: https://www.selenium.dev/documentation/webdriver/troubleshooting/errors#no-such-element-exception\nStacktrace:\n\tGetHandleVerifier [0x006E1673+52979]\n\t(No symbol) [0x00667961]\n\t(No symbol) [0x0054DD3D]\n\t(No symbol) [0x00585FBB]\n\t(No symbol) [0x005860FB]\n\t(No symbol) [0x005BCF92]\n\t(No symbol) [0x005A4534]\n\t(No symbol) [0x005BB3FE]\n\t(No symbol) [0x005A4286]\n\t(No symbol) [0x0057C063]\n\t(No symbol) [0x0057CECD]\n\tGetHandleVerifier [0x009F8D83+3294723]\n\tGetHandleVerifier [0x00A36CC2+3548482]\n\tGetHandleVerifier [0x00A31C9C+3527964]\n\tGetHandleVerifier [0x0077870E+671630]\n\t(No symbol) [0x00671EB4]\n\t(No symbol) [0x0066D808]\n\t(No symbol) [0x0066D92D]\n\t(No symbol) [0x0065F7E0]\n\tBaseThreadInitThunk [0x758B7BA9+25]\n\tRtlInitializeExceptionChain [0x7713BD2B+107]\n\tRtlClearBits [0x7713BCAF+191]\n",
     "output_type": "error",
     "traceback": [
      "\u001b[1;31m---------------------------------------------------------------------------\u001b[0m",
      "\u001b[1;31mNoSuchElementException\u001b[0m                    Traceback (most recent call last)",
      "Cell \u001b[1;32mIn [190], line 1\u001b[0m\n\u001b[1;32m----> 1\u001b[0m next_page \u001b[38;5;241m=\u001b[39m \u001b[43mdriver\u001b[49m\u001b[38;5;241;43m.\u001b[39;49m\u001b[43mfind_element\u001b[49m\u001b[43m(\u001b[49m\u001b[38;5;124;43m\"\u001b[39;49m\u001b[38;5;124;43mxpath\u001b[39;49m\u001b[38;5;124;43m\"\u001b[39;49m\u001b[43m \u001b[49m\u001b[43m,\u001b[49m\u001b[43m \u001b[49m\u001b[38;5;124;43m\"\u001b[39;49m\u001b[38;5;124;43m/html/body/div[1]/div[1]/main/div[2]/div[1]/div[2]/div/div[1]/div[2]/div[1]/div[2]/div[2]/img[2]\u001b[39;49m\u001b[38;5;124;43m\"\u001b[39;49m\u001b[43m)\u001b[49m\n\u001b[0;32m      2\u001b[0m next_page\u001b[38;5;241m.\u001b[39mclick()\n\u001b[0;32m      3\u001b[0m \u001b[38;5;66;03m#/html/body/div[1]/div[1]/main/div[2]/div[1]/div[2]/div/div[1]/div[2]/div[1]/div[2]/div[2]/img[2]\u001b[39;00m\n",
      "File \u001b[1;32mc:\\Users\\ADMIN\\AppData\\Local\\Programs\\Python\\Python310\\lib\\site-packages\\selenium\\webdriver\\remote\\webdriver.py:741\u001b[0m, in \u001b[0;36mWebDriver.find_element\u001b[1;34m(self, by, value)\u001b[0m\n\u001b[0;32m    738\u001b[0m     by \u001b[38;5;241m=\u001b[39m By\u001b[38;5;241m.\u001b[39mCSS_SELECTOR\n\u001b[0;32m    739\u001b[0m     value \u001b[38;5;241m=\u001b[39m \u001b[38;5;124mf\u001b[39m\u001b[38;5;124m'\u001b[39m\u001b[38;5;124m[name=\u001b[39m\u001b[38;5;124m\"\u001b[39m\u001b[38;5;132;01m{\u001b[39;00mvalue\u001b[38;5;132;01m}\u001b[39;00m\u001b[38;5;124m\"\u001b[39m\u001b[38;5;124m]\u001b[39m\u001b[38;5;124m'\u001b[39m\n\u001b[1;32m--> 741\u001b[0m \u001b[38;5;28;01mreturn\u001b[39;00m \u001b[38;5;28;43mself\u001b[39;49m\u001b[38;5;241;43m.\u001b[39;49m\u001b[43mexecute\u001b[49m\u001b[43m(\u001b[49m\u001b[43mCommand\u001b[49m\u001b[38;5;241;43m.\u001b[39;49m\u001b[43mFIND_ELEMENT\u001b[49m\u001b[43m,\u001b[49m\u001b[43m \u001b[49m\u001b[43m{\u001b[49m\u001b[38;5;124;43m\"\u001b[39;49m\u001b[38;5;124;43musing\u001b[39;49m\u001b[38;5;124;43m\"\u001b[39;49m\u001b[43m:\u001b[49m\u001b[43m \u001b[49m\u001b[43mby\u001b[49m\u001b[43m,\u001b[49m\u001b[43m \u001b[49m\u001b[38;5;124;43m\"\u001b[39;49m\u001b[38;5;124;43mvalue\u001b[39;49m\u001b[38;5;124;43m\"\u001b[39;49m\u001b[43m:\u001b[49m\u001b[43m \u001b[49m\u001b[43mvalue\u001b[49m\u001b[43m}\u001b[49m\u001b[43m)\u001b[49m[\u001b[38;5;124m\"\u001b[39m\u001b[38;5;124mvalue\u001b[39m\u001b[38;5;124m\"\u001b[39m]\n",
      "File \u001b[1;32mc:\\Users\\ADMIN\\AppData\\Local\\Programs\\Python\\Python310\\lib\\site-packages\\selenium\\webdriver\\remote\\webdriver.py:347\u001b[0m, in \u001b[0;36mWebDriver.execute\u001b[1;34m(self, driver_command, params)\u001b[0m\n\u001b[0;32m    345\u001b[0m response \u001b[38;5;241m=\u001b[39m \u001b[38;5;28mself\u001b[39m\u001b[38;5;241m.\u001b[39mcommand_executor\u001b[38;5;241m.\u001b[39mexecute(driver_command, params)\n\u001b[0;32m    346\u001b[0m \u001b[38;5;28;01mif\u001b[39;00m response:\n\u001b[1;32m--> 347\u001b[0m     \u001b[38;5;28;43mself\u001b[39;49m\u001b[38;5;241;43m.\u001b[39;49m\u001b[43merror_handler\u001b[49m\u001b[38;5;241;43m.\u001b[39;49m\u001b[43mcheck_response\u001b[49m\u001b[43m(\u001b[49m\u001b[43mresponse\u001b[49m\u001b[43m)\u001b[49m\n\u001b[0;32m    348\u001b[0m     response[\u001b[38;5;124m\"\u001b[39m\u001b[38;5;124mvalue\u001b[39m\u001b[38;5;124m\"\u001b[39m] \u001b[38;5;241m=\u001b[39m \u001b[38;5;28mself\u001b[39m\u001b[38;5;241m.\u001b[39m_unwrap_value(response\u001b[38;5;241m.\u001b[39mget(\u001b[38;5;124m\"\u001b[39m\u001b[38;5;124mvalue\u001b[39m\u001b[38;5;124m\"\u001b[39m, \u001b[38;5;28;01mNone\u001b[39;00m))\n\u001b[0;32m    349\u001b[0m     \u001b[38;5;28;01mreturn\u001b[39;00m response\n",
      "File \u001b[1;32mc:\\Users\\ADMIN\\AppData\\Local\\Programs\\Python\\Python310\\lib\\site-packages\\selenium\\webdriver\\remote\\errorhandler.py:229\u001b[0m, in \u001b[0;36mErrorHandler.check_response\u001b[1;34m(self, response)\u001b[0m\n\u001b[0;32m    227\u001b[0m         alert_text \u001b[38;5;241m=\u001b[39m value[\u001b[38;5;124m\"\u001b[39m\u001b[38;5;124malert\u001b[39m\u001b[38;5;124m\"\u001b[39m]\u001b[38;5;241m.\u001b[39mget(\u001b[38;5;124m\"\u001b[39m\u001b[38;5;124mtext\u001b[39m\u001b[38;5;124m\"\u001b[39m)\n\u001b[0;32m    228\u001b[0m     \u001b[38;5;28;01mraise\u001b[39;00m exception_class(message, screen, stacktrace, alert_text)  \u001b[38;5;66;03m# type: ignore[call-arg]  # mypy is not smart enough here\u001b[39;00m\n\u001b[1;32m--> 229\u001b[0m \u001b[38;5;28;01mraise\u001b[39;00m exception_class(message, screen, stacktrace)\n",
      "\u001b[1;31mNoSuchElementException\u001b[0m: Message: no such element: Unable to locate element: {\"method\":\"xpath\",\"selector\":\"/html/body/div[1]/div[1]/main/div[2]/div[1]/div[2]/div/div[1]/div[2]/div[1]/div[2]/div[2]/img[2]\"}\n  (Session info: chrome=121.0.6167.86); For documentation on this error, please visit: https://www.selenium.dev/documentation/webdriver/troubleshooting/errors#no-such-element-exception\nStacktrace:\n\tGetHandleVerifier [0x006E1673+52979]\n\t(No symbol) [0x00667961]\n\t(No symbol) [0x0054DD3D]\n\t(No symbol) [0x00585FBB]\n\t(No symbol) [0x005860FB]\n\t(No symbol) [0x005BCF92]\n\t(No symbol) [0x005A4534]\n\t(No symbol) [0x005BB3FE]\n\t(No symbol) [0x005A4286]\n\t(No symbol) [0x0057C063]\n\t(No symbol) [0x0057CECD]\n\tGetHandleVerifier [0x009F8D83+3294723]\n\tGetHandleVerifier [0x00A36CC2+3548482]\n\tGetHandleVerifier [0x00A31C9C+3527964]\n\tGetHandleVerifier [0x0077870E+671630]\n\t(No symbol) [0x00671EB4]\n\t(No symbol) [0x0066D808]\n\t(No symbol) [0x0066D92D]\n\t(No symbol) [0x0065F7E0]\n\tBaseThreadInitThunk [0x758B7BA9+25]\n\tRtlInitializeExceptionChain [0x7713BD2B+107]\n\tRtlClearBits [0x7713BCAF+191]\n"
     ]
    }
   ],
   "source": [
    "next_page = driver.find_element(\"xpath\" , \"/html/body/div[1]/div[1]/main/div[2]/div[1]/div[2]/div/div[1]/div[2]/div[1]/div[2]/div[2]/img[2]\")\n",
    "next_page.click()\n",
    "#/html/body/div[1]/div[1]/main/div[2]/div[1]/div[2]/div/div[1]/div[2]/div[1]/div[2]/div[2]/img[2]"
   ]
  },
  {
   "cell_type": "code",
   "execution_count": null,
   "metadata": {},
   "outputs": [],
   "source": []
  },
  {
   "cell_type": "code",
   "execution_count": null,
   "metadata": {},
   "outputs": [],
   "source": []
  },
  {
   "cell_type": "code",
   "execution_count": null,
   "metadata": {},
   "outputs": [],
   "source": []
  },
  {
   "cell_type": "code",
   "execution_count": null,
   "metadata": {},
   "outputs": [],
   "source": []
  },
  {
   "cell_type": "code",
   "execution_count": null,
   "metadata": {},
   "outputs": [],
   "source": []
  },
  {
   "cell_type": "code",
   "execution_count": null,
   "metadata": {},
   "outputs": [],
   "source": []
  },
  {
   "cell_type": "code",
   "execution_count": 163,
   "metadata": {},
   "outputs": [
    {
     "ename": "NameError",
     "evalue": "name 'count_reviews' is not defined",
     "output_type": "error",
     "traceback": [
      "\u001b[1;31m---------------------------------------------------------------------------\u001b[0m",
      "\u001b[1;31mNameError\u001b[0m                                 Traceback (most recent call last)",
      "Cell \u001b[1;32mIn [163], line 1\u001b[0m\n\u001b[1;32m----> 1\u001b[0m price \u001b[38;5;241m=\u001b[39m (\u001b[43msplit_review\u001b[49m\u001b[43m(\u001b[49m\u001b[43mprice_sale\u001b[49m\u001b[43m)\u001b[49m)[\u001b[38;5;241m0\u001b[39m]\n",
      "Cell \u001b[1;32mIn [161], line 15\u001b[0m, in \u001b[0;36msplit_review\u001b[1;34m(list_count_reviews)\u001b[0m\n\u001b[0;32m     12\u001b[0m review \u001b[38;5;241m=\u001b[39m []\n\u001b[0;32m     13\u001b[0m city \u001b[38;5;241m=\u001b[39m []\n\u001b[1;32m---> 15\u001b[0m \u001b[38;5;28;01mfor\u001b[39;00m item \u001b[38;5;129;01min\u001b[39;00m \u001b[43mcount_reviews\u001b[49m:\n\u001b[0;32m     16\u001b[0m     match \u001b[38;5;241m=\u001b[39m re\u001b[38;5;241m.\u001b[39mmatch(pattern, item)\n\u001b[0;32m     17\u001b[0m     \u001b[38;5;28;01mif\u001b[39;00m match:\n",
      "\u001b[1;31mNameError\u001b[0m: name 'count_reviews' is not defined"
     ]
    }
   ],
   "source": [
    "price = (split_review(price_sale))[0]"
   ]
  },
  {
   "cell_type": "code",
   "execution_count": 153,
   "metadata": {},
   "outputs": [
    {
     "data": {
      "text/plain": [
       "55"
      ]
     },
     "execution_count": 153,
     "metadata": {},
     "output_type": "execute_result"
    }
   ],
   "source": [
    "len(price_sale)"
   ]
  },
  {
   "cell_type": "code",
   "execution_count": 154,
   "metadata": {},
   "outputs": [],
   "source": [
    "saled = driver.find_elements(By.CSS_SELECTOR , \".eMNcac\")"
   ]
  },
  {
   "cell_type": "code",
   "execution_count": 155,
   "metadata": {},
   "outputs": [
    {
     "data": {
      "text/plain": [
       "['Đã bán 5k+',\n",
       " 'Đã bán 5k+',\n",
       " 'Đã bán 641',\n",
       " 'Đã bán 5k+',\n",
       " 'Đã bán 5k+',\n",
       " 'Đã bán 5k+',\n",
       " 'Đã bán 5k+',\n",
       " 'Đã bán 5k+',\n",
       " 'Đã bán 5k+',\n",
       " 'Đã bán 5k+',\n",
       " 'Đã bán 1.3k',\n",
       " 'Đã bán 1.2k',\n",
       " 'Đã bán 52',\n",
       " 'Đã bán 5k+',\n",
       " 'Đã bán 1.6k',\n",
       " 'Đã bán 5k+',\n",
       " 'Đã bán 5k+',\n",
       " 'Đã bán 5k+',\n",
       " 'Đã bán 2.6k',\n",
       " 'Đã bán 882',\n",
       " 'Đã bán 996',\n",
       " 'Đã bán 129',\n",
       " 'Đã bán 79',\n",
       " 'Đã bán 48',\n",
       " 'Đã bán 5k+',\n",
       " 'Đã bán 1.3k',\n",
       " 'Đã bán 5k+',\n",
       " 'Đã bán 978',\n",
       " 'Đã bán 4.2k',\n",
       " 'Đã bán 4.4k',\n",
       " 'Đã bán 995',\n",
       " 'Đã bán 5k+',\n",
       " 'Đã bán 603',\n",
       " 'Đã bán 5k+',\n",
       " 'Đã bán 5k+',\n",
       " 'Đã bán 5k+',\n",
       " 'Đã bán 5k+',\n",
       " 'Đã bán 5k+',\n",
       " 'Đã bán 398',\n",
       " 'Đã bán 4.9k',\n",
       " 'Đã bán 5k+',\n",
       " 'Đã bán 968',\n",
       " 'Đã bán 1.2k',\n",
       " 'Đã bán 1.3k',\n",
       " 'Đã bán 3.2k',\n",
       " 'Đã bán 5k+',\n",
       " 'Đã bán 2.3k',\n",
       " 'Đã bán 1.2k',\n",
       " 'Đã bán 3',\n",
       " 'Đã bán 1.1k',\n",
       " 'Đã bán 609',\n",
       " 'Đã bán 5k+',\n",
       " 'Đã bán 3.4k',\n",
       " 'Đã bán 5k+',\n",
       " 'Đã bán 239']"
      ]
     },
     "execution_count": 155,
     "metadata": {},
     "output_type": "execute_result"
    }
   ],
   "source": [
    "saled = [elem.text for elem in saled]\n",
    "saled"
   ]
  },
  {
   "cell_type": "code",
   "execution_count": 156,
   "metadata": {},
   "outputs": [
    {
     "data": {
      "text/plain": [
       "55"
      ]
     },
     "execution_count": 156,
     "metadata": {},
     "output_type": "execute_result"
    }
   ],
   "source": [
    "len(saled)"
   ]
  },
  {
   "cell_type": "code",
   "execution_count": 157,
   "metadata": {},
   "outputs": [],
   "source": [
    "links = driver.find_elements(By.CSS_SELECTOR , \".jXFjHV .product-item\")"
   ]
  },
  {
   "cell_type": "code",
   "execution_count": 158,
   "metadata": {},
   "outputs": [],
   "source": [
    "links =[link.get_attribute('href') for link in links]"
   ]
  },
  {
   "cell_type": "code",
   "execution_count": 160,
   "metadata": {},
   "outputs": [
    {
     "data": {
      "text/plain": [
       "['https://tka.tiki.vn/pixel/pixel?data=qGBOXoQcM6BIKS-vaz7dtsQ1hR0KMDfUpGrtvVoE6HCCXAYyWHQFEKaBJKVJudwUYZOhoXMhtal1hQ8kb8zFnd5cTpc8u89M2Tz7wyGuv0yARFluU2rywIevprgi80183FTVjlbnBiqxSG4utuyKUNhLa7Ghgc7DWx_6c_ic-ctynHsQpNQFbUPe7wVtTHa_F8Vmnk8a6ZHQbVENxslXRV1cQdSFmHJjhbXPlafeGbZGaBJtuKfBiLWCZ0NmOstDaaoh0-MAY05WYyzJv_zHe_6wy76tK8_c97Cc8XXO6jEpoMQACjZ4bKPSS1nzSkUD7eFv6XgEyU4O6o-o8e0M-2-PGT4DtFtSfJ9Gj9JTlISZYGeJTGm5ToajmVhVS_TGxnSKHdvtIrgvf9AkzKABUyUQbrUBMhonNpnAB4e7QUu7XaZtHcF2vewv5tMsDd-DfAiyk0bt6Lg2ZKmYnNU_ddYl1yxqaYa2wItjyfRYjlJcEZN8QDH8xV43AVTtxGSIB5xgWGp4JE1Jda8D6hB3MYPVIcEqsuPMjZjVtli_ebzwBZMxMXTxg1GPcCPm7iX8Jo0zd-LeCtCFk49BbIW7onc9KB0CrWxbb-oH1xOhR1WQQRFK1qpo6wKIbQ90FClSIYQMGWNfNY_SyETvyJ85nv2MA8FL0POYlkbvhMaLPQv2ZmaWe94eaUibJg5S-berpPn30sp_SpYlhBHSMlaRZe7zd5CKlQ_YV5ySA7VhaKdvz8sZ3X7s116C_K0cSEyJ8OdXNdEPjOo244RB1uuveN6KBqEbNSFF62_xqX0LTLXkK_eIhopnQPQhL9vtOBAPXjDG2NNm_DY0Rh9RlkJMELlCpOgHePv3oQgR90edjVQ9Edw68kbJOuRJleyuSNJWsoJcJ0X-pXupn4M1q-JwdDw3kd3Oo7Am_K1R8MpKVIu5Q2es0CFcptOKd49xKreQ8JJwVe7xrdvKt64C5A9SFXuLUHxTMYbuNjQb-7CI6OfWv7HOprXQ1bgMpLpBGBNGXLG7LvcyhAJjg82Jj6wmEDlE4ee8wsIyvWgttlkZj1k9kfT7hxqxnZy6VgPC-V4NK_30W3pSjNF1t9A-ZwRZWQTmsQV4RUpAjD1wSr36eTWE6Odt7cDQSPW5Jrg9W9SLeB6NC8efd7JmB-g6bTpdJOi2ysrbggTTecoBNmbk&reqid=zrU0IIHZOyOljS24&type=CLICK&pos=1',\n",
       " 'https://tka.tiki.vn/pixel/pixel?data=IQ3rSfB3IKMgaHlTP6_kci2Sd755FHihw3ViHXSiDwPfgIWg7Kr26dAwrt4I3_Kj-QxUutylT8xlQ5YAjOXmu3Fjd-YD4by4T22te8--lGpYPT-jEKTa3swwT0WXDVTphRvrTAV7dK_dyrn4qIHRTt1VPNWEQoI1P8JcnVxdutjscKxMvqNtCbj0ikIBuYM45otAWiTJRu_7h1cNrGedkfPI38QmHZe7cfqw5y77AuZPJd0h5QN121OKvSNtrUqgRcN3HlhEo8ScaN-LK5DNUs-vIN5HUXXaD333Yllw8QZAuZryFPsY-FLGRPRJ9SxHH7fIgM7733GMF5Fjj8LstI0mErrY_Dg4ghCtO50bOZcjK1Ulcqle8wIn3fmugMA24p4O-T_NZB3hZVqUsYeuDDKz2B7JqzweIUkOXjYuf67lXwPM_lCWOVG9VW9Hix4uwkVDRXK7It3sUc_ISUIMBahBYYbb-xmy5TlIFh4pUKWhXF-9HDlRKBOjQ92wtP_fPctRPjRt09raK90t-rknMBRnlggYRx7GVSPKD9wdvMxSiRyNwF5poBRRV4wvW8dNpEcSmyLhEWO_RDDj6k7eMKDExgUnBta3t0Y7metgMtNIR5VmK9rJOIh6XVZ2GIha6R7Ao1JpJAFSJVYgqh27woCKsFjDrYL02yrBD_o1IViZwwuynxN-bw6za6Lb2j-xr5H-FpE2knEHO1r9_zpWvlU8-8k_2AZoVphyvu_gZulTBN4-QVmvbyvitFoZac8-wWH5QOUTO1rT6KIUZzh-H9OgjNjd5wuc07HWB1-IybEwKhzNp3hqvQzHgfHD46hX40I_Xnygz8jOJaoolhj-cB4jl9d43d6Iv-UJsCBoMDj0LjoLFoRNQj-RGMOpPtROQKwGEVWKC845YQyziCa0v1PhuyBD_d1qD43XfBvvFDvbv8cK0zjRgyyaC5f6YPuBGvMhzcldKG4Gj2ixV_tUSiJSd3MzY87boamU6J51FFCVtgKw5WozmuPUgRpmzW4WPYYmmbLciHIjPwZR_ogSPs7Am1y7TEUY8vO2L3WRtJQpZI9XOkiF_Jf2Ym-p9_aYgOZq99rsCAVuJKg3__b3F7yEDpgo88oS3U-9a2mPlA5Q_jui442KCGKXjZ6TM_IIOStFAjgFAOcVQbgd7gPKlUqKsbkk0DiDxVKJnEt_zQ&reqid=zrU0IIHZOyOljS24&type=CLICK&pos=2',\n",
       " 'https://tka.tiki.vn/pixel/pixel?data=qRH-7Wfe5eFqD0hjvgV5s1QoIFWzBc9ZpIm4nx8AuU2CnWVX7qck-ohcOcqGQfzTk8JE0rOfHitjCHmufxJpgSZwvkQbzOSfQm7by-pLi6gaXkyEaKncdYtXEJMWHGHtPH7ZWqP_TrxwugaNuYhYSH_zKwDV4kbB0TSZ42lwFqqRqE10RlkvrXvs8d8z_hbRdVSBbDLKNPsAvlcCE9DNLXi7zQh0X93FxkriBM7XAhyzEPG-q90buMhbRaoRMNF0unai0f7MhXcyjSSgMZz36RlCcTFtDPd6vgEf5ii9L5b4PbVDuOA5U6DEG95xmg20M5jUwx1fycoae379IrQjBwzoauPnUDzkLvBJV1SO3pu92kfUaPWla3iOk2vL1Tr__MATu-QjCe4VLjyeHsBUzM_tCQMZH2INQ1EKqOkuMiWD4bRD8yMesmnQ38ZIHWK8G7c4q8_VH4aXyHjWVsv6JRMDkjffV2HRuwYx6YMyysmcIzA0BrqWeAYo19yRlMEqdK4e7e-plJiGvj91EZ3TTr1lQ6L2xqzdnf1dw_T-U24766lM_d1GcDky-rwcNOKBJ1gdFeX4w44_jcEAFtsFI9sWXFzFzLRmmwviz0r82miWPg8PEo4oK-ul8SJ-M7OdibSkBJvOkBszjCyOAY7RC1rSeDvQBheGOhNF3NGSHGs_I_liTp9dNjVXJNdcwq6rcZvtjPqR04lGLO_1VU4gtRWEus6lZaIBsxc-8hNFQkltH9HhVADmOjGwTI3m6TNc9LQG7JVm9F9LGnUnN2VMbx0j678wUpYbkocaiMQZKWfEUs0UngBKwgCuz2LOgRMQk9goO7hrni0kIYy_yHieUBqndbaDEJZyl2R95fEhp7QEC-GGV8NS5kfgpe_hXlbz8KSmEtvpTNMIJiDnsJ28UkgAszTZ8vtGySiBsOOD5eTgquc6ZFPgud2w0EOx6sw0usHopkRHvdPyle4NIKj1v22B9G1UvQkHkX-bEnb7ojktgSR53aZiMN6lfiX97xQVC5lqzCGGCiwmgwdLlyK6DbQ78SRYuyElcn3yktWKpM5m0mi0RTvJADI5piZ1LefY8JrUP5VCpzQaZA7VjAPAfJ265NnTUDEE5XBzRvEdIQxCRD1qvRoUAll612pL8fgNGhQKMNqhEFCXEUZA50SPAkdwviyBGzFWR1RsbhU5z4S32F0ECaw&reqid=zrU0IIHZOyOljS24&type=CLICK&pos=3',\n",
       " 'https://tka.tiki.vn/pixel/pixel?data=zERzEFnwVTYpAog2TPrKQ1R9a6xzBMwSZuedeAFtSgiY4uI5IJngIIcSgXTDPdR5cRUJe4Yuc-lPwRX3PjdZfNk-p5jNXFdQJdlJSoHxJwBOgRkf7jn2--AaFHp7a0F4wq5ZHW3-NZcDrn7LUt6Zw-dttXxvnkQxG2NmHpULDPeaUXihJ4c8MOhyIp3yvrrs_WcPbS50aEge8UISDMDiJxnqyM6d2n-j3RgwfAS5wQ4nlKk5AZSrS359IU8wGXyBGF0ZE4fLNsN0NYKq8qhuMIyYKK4nZBv5iQQjXAxQYhldTZfvJ6Szc_kBmmXOdRPFyH5S5iUXRtX7Y0ZMK3_bCOSMXiEKaunXq8KsAmMng4i02W32TR_D4YP77NUc3UJkj-_WndcqE9pUTrqNzTq2XB5Pyrk1JaaACYHFpfzDsSTtKl2vZcc6jskoiqqogDjke-YdjITVa5PR18yCAyppZWO396YpDI3-UCc0F-v8X7RUqDDEP6dF2c_ttxVgWCqMwo-CtlYbCYYUNe9CbpbYwMgQnIfbfTaaHJvSKg9MCrYonUCQg29Irru_WED0cTe9OLONO3w5_rOeK9o9Ly2FrkiklFpVNo3zgFgm_ASLahnHCJzTx716uzWGcoJRq3nVtDp2esQEG4tb_KHrwrOzZGvNLZ43PQvOfXtII4-FU2ITzxCc5LoKPs8JL96Mbl3PuKPADBqqFSvgWQy7TqmIADnQE648Kd96V2k0Pc1wHifN1M3r8bBK4a2ZACPo-py1IzMhBL4NV7FM7N2P38kN0i3pJKpyaKkbgrEvtHTZNlDMli8zuyB5YP6dgoP5RiOGw2ogEFklPpxK8k-mJOZJbI3JRROjkhge3Y-R65lo_Z6Dn5QYoSXv5_I6c5Gj2GK8zDSeelvMMNBA0bnwvdqunCU05uEJcjV5-w4PfOghjNuXG0jLBXoUeU1Bv-1RLgWE2c_86QmiCr7BiquqiTb_-O6pxVz0Bvk6-iTbladu40IzZz5VeV7sAq5rlkKAbz0E91niUL1u2yL8QRUDkSoCe7kplBxnkidh0AKgGUjEDOmGBy_qvyyXxnWodpnQVDt8PH0IatWStyhSg7EtDinEFkrQtz6B-MXKIkGdAP3TSrgEJTNESkUUWTR1UMCKCapCnw&reqid=zrU0IIHZOyOljS24&type=CLICK&pos=4',\n",
       " 'https://tka.tiki.vn/pixel/pixel?data=4VMdgwaGjbkA1QoKV4jxQetZK_CQXn1yIqR5b2qP8gLFlzEbMDdkqfIoCdL3ANB9uuMkUOAiyVr4cfygVt-CCMNN8FmS_VfnCmWvQ4JWfkpCzAM4eCTrUOwgFt-z-wiMyHJWfU4gIsAI8_nrKKe-fA1NwTO4AzU0OXErrjW4Y6BnfdIY0tnIw9DAb3OaPpiNhJOIBD7A_JxLhRt8M5LjfHk08NxrSIbeLsImLSEPDlqJQgprilWmcMcWKMvVS4ShQsvf482iWxqSgVXWT_rvGg1ZzPBRbQsopRgBZcPlI9RDT_M2EDKaJbB8-zl1Ug2ApwA3jDBEhic7DIDgrYKj0Ko-6PGHNgHyt6hQIc6BT1-OWiJ8xM18se1MH-GU07kh7Q7mLMKr8NFouKFk0O9O-BE1U6-OLWZF_T9v8kM2XXfDPrdJR3SWFzQihmyYqM5kwlpf0AzOzoQaD2BQLJyA4x4XDOn21ADye27e1oNTHunwmiHURUKpeKgI55VEDakDGpEaMEuB2LT4Yg9EdO3mUCO-ijmp6Gjie0oa1wyvOUeZdBYyM3FdblLJZfDOI85nzEcgmrbNeqKxdnpV4H7-ogZsIgOBLenyYlTDNDNHMNXp0j1i3r4y7rpRm6DkNqVeFTaZXDkOKS1HfRXwu2_fO-chF3gnyAZUzee6MBoxmQpuhLgg40DwJFMIPtR8OBqHuHKIo15toirnwAbANzT3be3QOc1gbdAuP9Y0Of8ZWa9httInyj91VVXQ3GDHTx-VWD9CkjpnbPySU9Nfiim3HV7aYapHpkZ8unstr2fecOE9wCybLXf-9rTUBloWLTdkJMmOOsTYFahs72saavaiLWI1uMq7OcM_KphAWdvNblgnJ6S7UHk4neEll0L7DtmY0xqYgas3FVRU5k6pWpmuIAszlIkOM6RThWPfF0P6xXNjpOM2-FUBbXHq8JXK6ZLuZdoHb9YqcvEcC8fLzD3PALj5DWBKWNeEYhlSTrO3R60iD2ahPHv6Q2BDqAhn26-kjrUJL6pbVH8b7sTbglYSjkcPyI5m7Qhr4yYsw6OcBrJC_HALyAtke7eG_R8hPVIw5kiGvEpAdJdntNuF5X6oTJq012kSEh4dl14kh1woYTgo_ospdyk04U6n7v5VYlF5vzoM5qBOQtMJAcUVrRlFC_Ajiq-57zvYcFdVN8Hh2jae5PREVA-vpQvS&reqid=zrU0IIHZOyOljS24&type=CLICK&pos=5',\n",
       " 'https://tiki.vn/giay-tham-dau-acnes-oil-remover-paper-100-to-p1634981.html?spid=10862722',\n",
       " 'https://tiki.vn/kem-rua-mat-vitamin-acnes-vitamin-cleanser-100g-p5902685.html?spid=10863053',\n",
       " 'https://tiki.vn/made-in-japan-bo-3-hop-silcot-bong-trang-diem-bong-tay-trang-nhat-ban-82-mieng-hop-p2738475.html?spid=13670127',\n",
       " 'https://tiki.vn/kem-duong-cap-nuoc-cho-da-hon-hop-neutrogena-hydro-boost-water-gel-p116438272.html?spid=79245451',\n",
       " 'https://tiki.vn/kem-chong-nang-khong-mau-kiem-soat-dau-la-roche-posay-anthelios-xl-dry-touch-gel-cream-spf-50-uvb-uva-50ml-p70662253.html?spid=70662254',\n",
       " 'https://tka.tiki.vn/pixel/pixel?data=CiIRrfejvnJNnOVvhGostaOP6vVRuXsHQ4eeNInW1iY5i7ZwSrDWgmwss7zvj28USvHX7HJPN_nVTkSwOdf_paFL3d51GdxqwlJ2v9tCYlasQZ_XdOVzDgByIaKDqrMSWTi_P1_Hr7AIcPPo9lPSEQEN07n1bxOhCFl4BRXTJ6m5HlfKRmSQw3mcf9MSC4y6Dq48ptgBiFMWvlUvg7Nwt39EBfeUhaK6XDoE4u8DLrkyUwQKOkRwt5gqpLQM9lPb-j0NcFd_JvU0B4evfuz_2eVmTf-Tnrf_i6fORXSMXUAoXCcCOMeeYkecJcsbNrs85k82TTgYHVSOFmRGsiQPNpDiLWpDbaVY0oR0ESfs8RQ_PUS-XjfmiW6RHaonOjxrLpy0Tl4T8zQKCmlnPeaPRnYD3TPDfYp4T6SXvhZsOQf93lZLLBRmALiFsm5xaNQzpKL95pJ2w8uS5SGyCF4w_7TpocuKLgSKWY-goQ_mIHUJ9b5g24Sk3hRuKmb-Hy_EKfGfu1WVTbQj1ta7wK-MoKuZe37WhCMlTx6EuZouIaZsMzvIZFOC08HZBWNO7CLJ2-oNIx57yLue25-Mk1jyFjlQoIWr4BtSDfPjLqIvfKV-Wli58Zf7wFVVCA6a32tPjdrW7j9V1tZWtG0ETR6EaB1CDHLnm1SjR-NPoJcxMaT0P7D7rr1tJF9vhD8KWH_VJGST1owmHEkjlv8unKG-ZAMFjBUHitG1LVuXNRmJRzoMuS8iv-MeYBeL5rPMz44bzbER3Qsg56L9u8ODvlde7LqvewOfIBZW6MTrafwuuDEiImXcFBqjXcenS3zqOWrh6DJnf2BN2OljM3bPckcmyCGAYdAt5_qHAlA8ArYtaVHMiHsNmj9Q6tRrUAw7x_bVrOIm4sk188qrrSdt3iRWviFSoKM1tUb_afpKRZbgsITe4PwCydggtIkorqnI006glKZS8OS1YIjc0TYT6ga2B5HhT6eAIBV5ImVDgWI_U13L_w_s9dDAUouXz-n8wmH2KhLvrubjl-wExGeEyBR4j5oUTg1B99fhmUaZdgNE9ifWZNo42enaw3TjE2wwkj65Jzgcs7C6NS4I6yFB0kOLRentcH0grZfItnYeVzxnO-ftGzzwU5H0qQfy0ZxhTsc0UyNxI-KyvwYpjsf0VVPkSeww83A54qxua8GskdbJanTekHkv7nUMQnWdeM_3kFEmx8S6hQwWx-2h_OfjyrYgwBvYlOmJj0xcGObA1XVa-pH_foerJEY8RA&reqid=zrU0IIHZOyOljS24&type=CLICK&pos=11',\n",
       " 'https://tka.tiki.vn/pixel/pixel?data=N2t4hldbAJiQME72JyumjbWULx4XiPpS_rncA7WdXLdqyFJn9qWCVYhUbeLInBfyXG0oo0g2EwGm1W4lmivNoq-nyIRIBmhbV3iB1hs1dIoCquwoe5J4g8bmqOrx9eOPdbZmPA4BSPF5sVf3RjUSjXMWczAZyNhd8aCyT3urI68mo7-jqzo9uWPXx3bg-hllYwbDW-tAyAqnE0SDTe9U3q1CiAs46yxh9bI3W01i_ENHgsBypNNXqsXrPFRxQ6FW7tp61niyoOHCjUQUVz8Gq2HzQMh27VVZuE2hRpr62YKyaO5ElH86y_Eo7kTzuS-bPZ5KvYSiFosUCzrtMYFDzWwSHmdXG6h2okbWTdBfp55Ib-rulQp0KDTaKhsyAYMqImaPkP7Ms7pTAE6zkI1ylC2sTeQ_ZZmE7tHjszrK6i_e4xr0eYEGWplB2QZw-RIOpL1t24kTKKRI_IMDUg7H7_lVFi9JKTzbPMYVUB3GZMgFiAYvASk9LoLDipCGLJ_V6tmxaCDO1296E9tgFniJPlepYZ3JFmp3_6J1789kavhGt_jp75yE30EwxXhJw97-ttS_4DgSrkMkrxO5RIzASRJSkwbpOzB4xJPn_Xv-F7Y5Ph3WLXVpPZp1oJaYBrvXd6B1K1dcaqjkT5IGA8G2MpFXnBfcQI1h5IT-_EEoMQn-7KeU5fS7NP8HZGJu__NhURLOAS33jJc0_HKegi2N_rnu8R-dfutY_uN-H9Wt5U6Gn6-sE63sgLVBPCyKi7BPyE-Zbd180CnVNn6rWGkJYIoVtu4Lc11-aHBHrkKKx9s3BgYLhOihoJFMeammjn689igA6tPL7EqDhdDvLhB7bg0m0pp2ZPO40_cYfr2U6lmhBJLylDPrMhh2mwP0YRAz820EwbwhOFqjdEkfVUwkjXBCCk7XuU-ZsXZ62cDHJUOt-Yd7HaTkHQWl4haekoXxHralaIzprkDirTGZERNT8KYgUQO8TgJtkV6ijOT-5zD1Ga1FmtjXypL41Y3yxJ_bXCtMG_n7Yp765NadzSxfOZtVcPQO5jHsrcQLr3YVvzgnboA8sHwPq083LcWf3IoSMq28PKH-SWv2yqFM6U5TQYyYVP87OqMVr888gF1aDxgrojmSQWIoNaW9zm9pryUWGdgbJtpckuwwJ7C0Qd9Zm7Y&reqid=zrU0IIHZOyOljS24&type=CLICK&pos=12',\n",
       " 'https://tka.tiki.vn/pixel/pixel?data=GAyPYFJ5bRxY18qwttrAzk0o4KUjX7bAkzI91EY1eiz_DctTp5EQd9dCaM03jWIzjKeYMjWzJEU84BEFH6NyzfP4H-LkGn7XEWFs16v0J--clTnjiibU3jpR5El60hnKSUgtTSysoce4QXJqPGALffSyI2ITUccBWt-4sF09ybBx2L-udx7o9YLFiOsci7O1zzHSfs6262tgtuGglF4aj3zvioUpYPX2yH-0cfSIfan9Tq6EW62M8T3HL5WqO1ZfGu7WlTzy5TGJZyQ61oSPSvmtlbG-YiCQoKwAEaG3lLnuA-wzQgZSCPRN0mbkJk7M9Qb39MEVS4ZHHbeMR9Anw4cUetIOMUnM6I_UWaMzJGsZqD0sTY1oBGN61Y_jYugp4eRibTwXIIeAWh5-eFlIf7m3-Yq_2-eLBomRC_-smOFb23cfMbesC8QOYZL05QRblW7cSvHK9-XzIKCWc1xoXqutroGSzfW9Q0megoU--Mo2c0tcfaoOz1Dv7tlFepN7Yu9MyJ7c70hkAQyut5yUy0BJPbqlcWEN02olbOVNqgypYuGbsZj1Ks7bQQTRHfU3rlGsqXCx-cLXY6bQidUMZUEDSuEtW4H6hrnVOaZd7Ytx8dghLoTxohw5RO65sdMy-swNbQfso9N2o_fraFwnBia_PO7PRHIvdl5CVibs_0V1MGIbnWPxu_w2Vb-LPxZXOM1Z8qfGmhJsAyWHrNJMfh9UYjAxoy44QXYj0_8eVjAf5c4tSgBJ_Nbau0W1kPYti3uu11OfCGA3kuw9nUWvGU8hKLqVho39vKmrbWY4_SoXZk2U2_jEfmlMHkpHdPIpgruo8VbEMfHSFeuzH9iM1Odxff2DGZoTILEcqmj0Ywi-p8YtUWSCF8FPADHIRjc1HwmYWYO_u8XueEA5_RT5VzhHlFLiRldBlR4GHu-6S39wg2px4p6YbfwPLQ0Ls1DDmMz3oKNWCxSP1KRUaD1lYjQnQ55BGWHu2jAJJwyB664OvNcxfGKVtkQRuB70IAKVjh7MDWJUxE07QczVtbeJPnDQvWIDDy4fgtoKh5or65i1ZHvfnkcfNHMIi6bPtHilimKcwO9ZLO7Ok-ALryloN6GMyePaOuECnZa9amGi7GmoU36FVcXK6C0uHRvBmXHIfKgd0IL_TsBjcYx3jq6oo4L83qYf8_bIhtP_oCW8VU5svKrWFul6n-K8MtbS0sL60ITnwu_iniBfTh8&reqid=zrU0IIHZOyOljS24&type=CLICK&pos=13',\n",
       " 'https://tka.tiki.vn/pixel/pixel?data=EJGFTUXzVjG2nprz6c_fey-4e9-2QG89A7Om-Q32mqnkX01mTAWi23ag6KS82F-5B1YG4rkQm0eGgOFtRbQ1mGq7quesRLaSnvu86VLhrI-Q3xzxyOV7PRqhetuofFGOMEqj6w-pSE2lZZn6fzwAW8vHBqId3BvNFj0ITWwhetDdcXiVruoG-MPtLAlaIleaLMnD_hbM1pcLgijD6rDr2mPJIF6R7zJNFRb6hvUBny3SyRr0y-5Mm7UlYVBQZv26cuaPX7lzdR7FKu6Tk-xmXpVZFnADZSEvnLrQVHiV4w96Gs3qxFwliuOb9XhBjVmqTBVBqEKBRr0LtYEM6sLBLiTn4Q6ewIx1BCXX1qQrGqb5bKN1A0QwHUt3fGS7WVLKxgOru_GJUjKF0zIVtoWTBMWsew0XEoUW8uCNXngvCYz5eJ7sVn38aJJLugXbXYGvNi67Y5jV8YEUWslVGo27k5wy4Py6lKZ3hawub4ZFB8NSGrIlRHyt4I55DLioGHn63x0A8qezowwM23nYuWxHNRdR6IAblkKMBa4AUjty4HQhTqciNeonZGxwr6YyiulohPXMTpKwtoQqpFjSvM25I1OT5qAIKqH4T8-nA3fX5ECi8yeJvJVBKZlhUV8zEBnO5L-NZFfSUnB-Mup_3ht12_0wqOAQiA81NMk2464W1EZoMBcV04IpFey-D2DI3eDInykQCCGsbuBuQ9TGKv-UWUCSMkmd3_-XOTQscMNZdXSxsjaQ-iaI7pSPU1ya3zHvJRM9Yc1LxFVBJ24d3ieoZTXZyQ2YybAZQKMhyBZGjA0rmRpyetHFPkuCguSEWK9hsAJIBFr2GFadPCsiK-mH2WsRCRg6YQXlXp-nUdNG5CVyPV8x4QQTigsBH3ZOjnmH_MEBsXv6TspwULJVJQphFWJHm50I5Zl7UkKAxxBg4qJk291Fic1_-V2eEad0K71OiGJQ4qeCZa674gwWPwTHbhoMrtAr33z0Why4-6aWaYHyVoUIeLjSr0TxM-GSITJuxePWood-dzy4F5hhBEvW51FrdTfz30ofKb810NSYRSu_Zo_xJSfzdnQ8INwcSk2qYb83ViUW7LPgB8ValMEcZkqf5_tGQ-v1hTPSRe4Gk6rbGTsWHijTNJ8_DaQJXP3INDTufffaIfAVZh-_hfiD7Oyhid6ZDbdqfUn-vVJuQ1Mh5dEZ4oKk80u_F041BGg5_KH1ulY&reqid=zrU0IIHZOyOljS24&type=CLICK&pos=14',\n",
       " 'https://tka.tiki.vn/pixel/pixel?data=Cbr4MFA06LVwrWSFyZIQek0e02HmqVEhoSJ-y8BXY5wAxXK0J-z228ulbgx28ebbxxCkWTaraFN4gCyTyLJ7PSF9jnMEzMpFlieGoLGO3hM-EG30nDuCvrxs_6z2UfRlmLpbKXniCMKjUUXiMkwjqSPZkautwBNm_ljeOM4aVNknX3cNAmEvX_9rHeThEk5nzKb0dds7ccjuHDuvl1llJG4xJzMBjXfxRhI4uF39lbtotRbnb5ah-HffDEM5YVnYqYQvqI-FKjQQvh99gzyDKHuG-zK4zsXy82FIBENozdG7nqzVHRPXl1ZN9JIwXYZknuJl7zuZ2FdEkYaie7tMMHYgIkYSpk6WucQNZk0rslsukRvW2MF0XYqiuVyHc9PoUEpV61P5D4OdODSUNsfunvzzEONJ9AJ8ZBW-XrOwb8FWLKodU5oWrVt62v0WCShrTbT8BWRhB62lwsszvghgnZ-hjjnklCeNVVzFCilRhEwJYSfMKvEiuBBnXu2PmhS8lwan-7fr5f-aOMTDLvbjChin5DUx6Z0lCUWpc6AZKmNeR7jsNH0Vr1QcGwvCrwmk7L0YQTjptxexhUJlYXlvODLjc7yEC9EhHCU1PwWlaEKkvP6FcZqeXJnonAXXz3qzV3TtnLQ79GJN78XuXiHP8wuENymIXePLKN6cIMWms95KXXhxijC_L11VGxPz5_ENmxaBksdKmU1lwUROuj-nS4BFK_W1LvS5ufJQ5cghbgOcBuTfuTb5vj6QRW0uUqV_qw5kz6BqWoy6ctE1-O-tVMX9aOhINRtYIC3qTnVDAMAcE9Q_eLwcAbMiyF4WsCHJvKjMKbVNM8RUVWAFu-mm-LjtLCQAfk2IemkIi0Bnh6DJqvEtrZDsVy1cvtoVTOwsZdD4rfhnmWTX5XY_gIZnDNI_byaQM3inDJygzqQrGQZxvreOw4t39xk5nddJZpLWTk9mGUp4VFXULl2GBn5_36oT5eqnEBWyMaR7l7PsQOkqiBMXJEGSszn949yhIFdLXIM4BGHrK7RiG7xurWtEoBc1AcvT108UElgBgRby5cFSlXFsF2MAyrHVrIMozRg9hKboDHJHktx6eqwgGHC4knuFbuxBh46ib-1LimeobJRybKsSgfDVO9tp_mMrbZt4zPTUetExJSZ9lw&reqid=zrU0IIHZOyOljS24&type=CLICK&pos=15',\n",
       " 'https://tiki.vn/kem-rua-mat-ngan-ngua-mun-acnes-creamy-wash-100g-p25108217.html?spid=25108218',\n",
       " 'https://tiki.vn/sua-chong-nang-sunplay-cuc-manh-sunplay-super-block-spf-81-pa-30g-p1313871.html?spid=10862283',\n",
       " 'https://tiki.vn/sua-chong-nang-cuc-manh-sunplay-super-block-spf81-pa-70g-p630777.html?spid=10861844',\n",
       " 'https://tiki.vn/nuoc-hoa-hong-khong-chua-con-neutrogena-alcohol-free-toner-150ml-p55915384.html?spid=55915385',\n",
       " 'https://tiki.vn/nuoc-hoa-hong-toner-hoa-cuc-aha-ngua-mun-giam-dau-danh-cho-da-mun-nhay-cam-milaganics-p183544236.html?spid=189601117',\n",
       " 'https://tka.tiki.vn/pixel/pixel?data=TdUerLXlWMeNPOBNWhrh272Eg9y-nhm-haA6Zl0gk_NC4DFQ7euPRK5aU7bNQpkeqDoqxkEmvMrG5e3w_5BsqGMhMoAQb8AwJQLKJntQg2kd6e8RopZ7YeZzILk1VKJTjf_udPciQUcVd0htRqLswiiiOptHTVFZJzCWkg0bPzBlhUc7b5hEXR1ORpEAfCglK5dr_ap-lvBh2shD1c-nH5SP9nJjBlw9gW4W2-8Ut3sWLfTqdGl_PJoi8UGe25vhAPtXz6dEIoIxuYOFD3BFN3vct0CGgypTuju1U0gM7LjfmyEVvEohDRpmyMJMjH2oY5oPBi3-HoCUF4u3qosuhpdhxNzsZVOMNrbtdCES8qkHtPCd2cghs0NByA0GtEowyRTC1aEffqwaw47UQE4iNW9fNoZiieL2Da5_DkyMqByx_A2tQu2__EcpdHQ84FbLNA90EknJWEj8hDz7PF1T6qYVgfKB75gcUXgyVq-3LwH-j5aj0PoUclBrceYZ48fMS6Q1l3jNi_bRndwTFJi_z06Wj3vu93JRKRHtj0viv3xGDyYyYo0IduANocpln5jy91o6iLniqztylPDY_wQxBR6WdTcKzmfrY-qMgKQ4p10cMDX5gj-hB4cdyZzSQ1vTOPfPCzi9AYo-1VPhd8ZJFZ9DIZrnXiTaJ3Q2lhgq9NZQ-ZQPEhURWnxj-UULZ8mMqMjcTjMOS2j7Ghght1W8lcriimeuiARKQqUFTpPu4LsLqG0ldhDCvrpwLkxdj4S43zzbC5Qk6IkVyAnP8_n_G7pSlJQERmNKXCLPvFdfk44OxpYB0VBW0LcXDckmBIjNxUaNApyIhzq_Ytb9i-zff1CYV0lBuaJbjVFCAOBX5WjNhpNenvOkkhna1KrSlkEfpd3usnUkF8zR6QXNV9MsPYL29sUgfIwFz4VOqGvZ-230Ji_F6gMSfiC-tVj3YRy0o4yOzkHiGlJJJhsO46h36J9Ow48PljIMdfmhs5ETLQEC_tI3EffTkQvqywTx4eXytxHqOAD4k9L2VBHwut9BzEvKvt_ySeY9TdCe16f4QcXe68zZmHz5IgqeEME0x5Rv4afdhTfmuPzF0479Exg6smUgd1Q2e-lakr0ccR0l-mtvoxKXCRyTwQv_SnhWOBW23v9fnsB1hCJMANEjEPAXDKSmcLJq-kk73-RlX04eHZr9sPU-I1Ef0_bzIipqzCd9o25kq0DsCg6iabsnwbttECdINVlHCMv9h_liFIzT&reqid=zrU0IIHZOyOljS24&type=CLICK&pos=21',\n",
       " 'https://tka.tiki.vn/pixel/pixel?data=9JjUC1BKXbx3hG9TlVoNRB_ESA11na_luho33ACLD0tMPiZQvT8ZCGBvZCnNx2qAGVEUw5oA1yYGCNdAxJj2wUM1M89oY81lMYxJIiWyg2f970smx4xsEALmRgo6VBkk_DwthvPHct-JMPcm0ESRnYfeN9vYNc2Rkeub-TsSYc3oc0CFNGTnWRzWODUqEc4hWrCDO-JwdU79IXe0Lm_2msas8uwCRFUukyvz6spC0IKub5tVcOzex3f_rORSkDo-xNv_eGLKBuHVIhlY3H4q9PcLUe60aQ2oEvC1_2dF1PltoXfter97atHaeNwIKjMvv8NqJhnV4cTDSTYth-HGPl1GpnBFSYCmDpXzJXoVEqO2Yd6l7n5PsuoN-gDXO6Ri0hXqGM-u_hC3RhN4SKhqznlwCsQNZLgqa6RlDmAlkscUqFTgwfavqLW0zUe0qVIIGXFFOuh0dVB-ax4dkpT8V-S5POy-MUHVePWSbtDy3Iu2KkAb4yWZw9suC42LLegKvm-cSo9bK60XgincWncfOeZZqlDlZPnL1J2djksSi_kbFJbHc_yuzZbd7RE5zYhTiQP6lqOw0x1Nz0EDKx_G_-BQkHak7qgdigJcCkAa324oFpgZTkqJaw5hbPwbbGp6-ckAcR2f47wkg-QWZZd2NHTGUw-hYxKCzovSC5Ruaj2ctiMRD6ecdtbt1OgUwqedUyE1XtnSxjnyhCEkoMcGUzGqPO8k12AKEr_L92PMpE_9OSesFpQGGCoXZ6LFqjD8uGNsgTnfTuNUd7AEADm1XgGH7EugOjl2axjfVh44oCMcaRis0GFKZFAXU6KaPofUuIWo6spISQC-zJNKpFJ-vDytTIKh0WerKSUNV08PE7PkNQ_jFibIN-XvL3T5Hi_cH2LP9ivbpzS-qIeG4fFU-6oK2yMDPR71Cx-lOF7H1KqEUbBXXdfrFuqKT_AK4mm8hCMs6SHQpb15JWCgnBXKm3c-aYXjh4nWREq5D07chU_Smr5qE3U089OAnToQ-EpkCDuTeJz4a59Uw2snaiaAWVqZnOX_BBuurV_huGSSPaQuuQ8qRJwCjoeTzVnRFJD2NPawHdWYWc7ZqkwJuwFQTCVaIRDOgGi4wFHLSsO3zKcr_SWdK2773DT8jMg8lx3ng6ZACYNACWtE4bGAsryFNbIkpebTelmmAmigSlmpR_HQNw7quoJkAimPWpDyIgDpoo3C7l0OThnGyu6qOC9E&reqid=zrU0IIHZOyOljS24&type=CLICK&pos=22',\n",
       " 'https://tka.tiki.vn/pixel/pixel?data=Vi9MeRrd5KVlxnhSzcnQKCZM2zuOF7FFWfg94FDs1A1SrShkenPpZ_t6qoF5igwbqQTIDf4lrJPTnPv3tIirJnhW3aZa_ZhLQFQUDKp53y-7hbI9VpT5BG_8w6TlMaNYa8EwK0IAsmHbKqOZXYQuZuw1BzcQ0ZmhF76oVKGsWcpoekuxBmFKiykhSwCaRNo8pwk0kBkHr7CI4_vF3SywlNcc8-J5ROyCYj9kHeg4IpqILk2QwEUWHe7fILuuIeDj4hOjo3PDqYX4HYqQXnvi1ovfMZXQO8-7T0UEMUag4EKnfpgiGtrpX-48R8oXTEbw8vuwdC9XRGh4kyIdw_cDlAqZ5rg0u9YeRjdJXObMiVdvTKVKUwhVg3iVUsZpc05RACZVqCmD6Xfd5d4gSL4hMl7LgyyVOuCSRWFZsiaoGbWmYtdJsE6pGBfS_E_U0GgtqRqAZ6qsr9f8svYhkNCnC6RQFfGFZBRlNHfH82eiHjYcuTfRJAtL3bldYaNay4zc0CPrqScN7RZve65X0MkJzzU1xVU78N28UZXMXYh7QPYDBPbpdL2goqlEk-0dGXwwOB9zQobKLDyhg00qGEvQotMY8ZO6bQjFKM9lot7V8AfPFVCWpXB84Kp_aAvCpZGsFE6hOBll-oID0PrJ6JnJ7vhtRkcBO_XTRtKox5xjtrPnrHeDYcrNIxzy394DVMQauEg4Y7uwwI_7T8QhfDKFEHh8bY-Juf0L9eSLZ0_2S_c7p8ywKJ9gZ61qimdGZDAcssn9zNhXH3gRamgxuagqiJ70IdaewY4w_ryPnKV0iVvrhb75MbkVFzGagI5hG-1YzbQAqfGaV8RQKHOEqbwvnEflMIPNjrKUg0Sfwnf63YXrPbr4jvdsdciINBba6eMOJ03MQ4Gn7dO9U3y-tv6NohAP0N1t8N_DxJQiEvZdVkoEz4rC7jRm70o1eSr6pUbdhx6JQt3pWHp-ucR96KdFVIr8ki8Bv7Akf8NLLRCLUg8a45JFvxPXtxo0XmP19qbpBlggHZosN_l8H3-GzC7cSV9-zdF3OgdEmkxPeQHt7EFURCsMOCaUHcFEXQZnr831UlOEg1DXwsiJlwr3kXnDUQCJAJ6r7tR1jcNzR1vaOuc2xuPE02c8YBHFxDulBWUuNENh_UbDVfi16wXleupP0N2xymZNAfI7Gc3mt_4TD13G0bQpDgFTRGShdyeGSW4&reqid=zrU0IIHZOyOljS24&type=CLICK&pos=23',\n",
       " 'https://tka.tiki.vn/pixel/pixel?data=IbJuM8QRuRealup7We1g24zzVv9nJ4ePRrXz_HBt-JSEDUftq3bSjd3Aslkaniv-JeLdRga1YP_9ePtzx4hHbF3vX3anjOWgc8FrzyxM3gTt-G_YM61ZFl7F9wdEYPZqtMD7cQSPHMuCgjto7TjtnAjN3lQdOs1nlLjl4PFr-kTDDzY0yDla11mbKLwGFTMX_vIl9uGwEc9n_9myNJBxEdJPTkfatg9dUNdIePxKsv3OEzDp32j2Jf41U1pZ2iLCB-CCmAw92ti20QWynMlRCQp-GGeFqCaKpX5yGCBRSO_4uA29Auey-PuLYDWGlUweJ0V6QDes4jkF5wbBxK7opBcswH4PyZYMSjXY5Uipas5cOEpExN777jisbBeNX6CC6LesObIm30Apzjn8t-ea5t7XmrVJazs6OPtMQZNJHlDNdqPQQlm4HxyUUUvpHoXclSKXTge9n1u_swUnV5PWJEECkplg3Rpu2BHQ58yUwM-1zemQuW1SIUUmfd_Gssns24GYu9ihpcT8nwom92tNxgxfedl5TFF83UAjfhGfIXaJJoacyilFjVP2IpbPr6Gx1RnBF3dB32363SWCHW3-UnPBDLjEZh304Mc2hvhuGwpdWJqUuXXNwYpluLI-On2eQxiQO9U1-ZhMZVRA9MnMG0Yyy5qt5LIFuss8I2QcjVz20mRBplDubR1hxPffbFX4X2Z3i23TRH6eqq7Pa5Lc6Gz0X1n4vUgZZkztfw17hbrRZQbbnbfpqIHQaDu4b-V-P0WKeYJ1Gi_wV7QsKip8wcNYIWvmwZ6qJ6SKzBPz9N70NqdE9SOHQnqterJguCd3Qfe-CS2EtalYgcq8cl_bhJCHB0nnXinbWJZ-Cc6s99j0O3Pc5h4jjwxez6v9T4gKYSiTYRJdcq53vSiFb6zFhah0G6t-MvD0a3UAFqdS1osZakN91NHXbI7-Om4aesDmM066aJZxrn94Rcp0DAd_i7Dc5cnJkQLcCC0JQVkb3fgPEV3s8uOGe-08nWW_sdQFSwH7WzJPBoziAbOfWV1JWa4XThAVp5lQrFZj0fiLD_gIrK0lmdJcW5SVvzBO4MqtShk4JMfiyklqUlh_s_Smf5kZbBj4oDAFklTeS9jxxi8ZRu_03S2BIa5q8e-ss0SexGKNajdXXTrWcj-Xsz0-aG86LKi__vL__vzmzv4&reqid=zrU0IIHZOyOljS24&type=CLICK&pos=24',\n",
       " 'https://tka.tiki.vn/pixel/pixel?data=XVKEQY7yAZtAdL8ojdBn1f-_jsW0azmMGLT4ovnz2d7iWWrbSpfcUVmPFAH5SVGgZxQNshWZa8dseAw4H8p3wyFYFvOzpkT9nZFUOoHtRSpUilT-PKtFlKxDR2a5HMIvC--WF_jh8H2nqcYf0VHhs8M3DuF8bxYyFOA9zL3Hiu7I8xxFkrC56vry9a1rOeWKR2SuUUkRmYRnRbwtpDYtAvmZ2GxTFM_lDGQQilen9zdY3Z_uXGOAqsv2NntEQLpo9FSO0-HoY5LZy9CXYH1YUXeVueGe3swB4XmFinmkFZizUX-WZiyT9dt5js6Gc9SXDRnV1cPBZh4bAP28gLoR-O8r9BR67WZnZBKtRwmpfoVP22ElSJxUR4H4uJqABN83iK1Rw9Vq6VWNwCrgPfbAluaTNscsDIeelizPaVZ_QBBN-NlngjbitnBti6x9h-I6KooddRq3Ibnvj1wbtUs58TLAbi2_HNi_0SATsh5Dfsl1E3eeY1e9HY7BxFRw3a4RQhoHGnJPUK9FR_RJvMhw4bVkvEo00DcIDzPHbgK6gmjhPPlNbtXT8lDBbjumoiM0TMF8RQOhWaOElNdrlzCeDjFbyWEe20iKifdUcY1q6FqIYEnzNbawmtAIbcv7Ylax7pmpQE6weQx503anNLibbfh-_gv2arhoyRjsNqoYFk_vS-oJlVfaVCxm4oUB5aX3MWs3FV5YAJGGhTnjzx3oK3WsacFbKAROcM1zOvn_EnSUo35CKSORFnwcDNIptfQFRUewGVhriNzBBUwJvr0NeSyDsfc-NeetmUyEbAIrkQ-657Fg6X48wmQW-2WvyKiAWYkyf_aTYd8r3s2q8OJC9IQ7Vs9N9kXLUMYVsdcRsxCuchlpsOo-Ac8qbOtc9l5X_yLbXcumPtKNW5Wk6g2Gq9dExs6Gd0Ntwa5AhD7VsFiLD0NFOwtmgzikAIsgcqgycfKEGykRjZWUsQbnWwzKw3SqFPhZqdtLZeFs7RPTMYp5iAcgZ1TaZ1OttjEhnOqPSmL8zBYK0DfU-REiCLJOrLbMG_SUX6HupkGWgoYlQNvVl_njBsBKV-2Mo9wuDjnvjfWmprZyJ66Ox2bCvzSPiBMun0n7YNOdeG9eU3a5PI9CHAX66vV7DOXvljPjtenxzdS8fbtWMHTFLhzMl-O8zq9-7yaI&reqid=zrU0IIHZOyOljS24&type=CLICK&pos=25',\n",
       " 'https://tiki.vn/bot-dau-do-duong-trang-da-milaganics-100g-p594891.html?spid=116125772',\n",
       " 'https://tiki.vn/made-in-japan-bo-3-hop-silcot-bong-trang-diem-bong-tay-trang-nhat-ban-cao-cap-66-mieng-hop-p2738497.html?spid=13670130',\n",
       " 'https://tiki.vn/gel-lo-hoi-duong-am-da-nang-lam-mem-da-tu-nha-dam-tuoi-milaganics-300ml-hu-p116331199.html?spid=116331203',\n",
       " 'https://tiki.vn/nuoc-tay-trang-cong-nghe-micella-bioderma-sensibio-h2o-500ml-p50699284.html?spid=50699285',\n",
       " 'https://tiki.vn/sua-rua-mat-neutrogena-lam-sach-sau-va-kiem-soat-nhon-p35526543.html?spid=43235877',\n",
       " 'https://tiki.vn/nuoc-tay-trang-thanh-loc-va-lam-sach-sau-neutrogena-deep-clean-micellar-purifying-water-400ml-p56381615.html?spid=56381616',\n",
       " 'https://tiki.vn/kem-lam-mo-seo-tham-seo-ro-seo-lom-scar-esthetique-cua-rejuvaskin-thuong-hieu-ho-tro-tri-seo-hoa-ky-p260844985.html?spid=38705976',\n",
       " 'https://tiki.vn/derma-forte-gel-15g-adavanced-giam-mun-trung-ca-mo-seo-duong-da-p124480931.html?spid=171236786',\n",
       " 'https://tiki.vn/sua-chong-nang-nang-tong-danh-cho-da-dau-hon-hop-sunplay-skin-aqua-tone-up-uv-milk-lavender-spf50-pa-50g-p13325863.html?spid=13325864',\n",
       " 'https://tiki.vn/made-in-japan-combo-3-phim-tham-dau-jomi-mayan-70-to-xanh-p426104.html?spid=130332',\n",
       " 'https://tiki.vn/tinh-chat-chong-nang-nang-tong-danh-cho-da-kho-thuong-sunplay-skin-aqua-tone-up-uv-essence-lavender-spf50-pa-50g-p8959289.html?spid=10863050',\n",
       " 'https://tiki.vn/bo-doi-kem-duong-da-ngay-va-dem-trang-hong-rang-ro-pond-s-white-beauty-50g-p16625449.html?spid=16625450',\n",
       " 'https://tiki.vn/nuoc-tay-trang-lam-sach-sau-cho-da-nhay-cam-la-roche-posay-micellar-water-ultra-sensitive-skin-400ml-p2609469.html?spid=2609471',\n",
       " 'https://tiki.vn/gel-rua-mat-danh-cho-da-dau-svr-sebiaclear-gel-moussant-400ml-p174834852.html?spid=174834853',\n",
       " 'https://tiki.vn/sua-chong-nang-nang-tong-danh-cho-da-dau-hon-hop-sunplay-skin-aqua-tone-up-uv-milk-mint-green-danh-cho-da-sang-co-khuyet-diem-do-50g-p52280564.html?spid=52280565',\n",
       " 'https://tiki.vn/nuoc-tay-trang-lam-sach-sau-kiem-soat-ba-nhon-cho-da-dau-nhay-cam-la-roche-posay-micellar-water-ultra-oily-skin-400ml-p2616909.html?spid=2616911',\n",
       " 'https://tiki.vn/megaduo-gel-15g-giam-mun-trung-ca-ngua-tham-mo-seo-duong-da-gam-ma-p125608918.html?spid=190359069',\n",
       " 'https://tiki.vn/gel-tri-seo-mo-to-loi-va-phi-dai-hiruscar-silicone-pro-10g-p25917932.html?spid=52674967',\n",
       " 'https://tiki.vn/hop-qua-pond-s--combo-serum-duong-sang-mo-tham-va-kem-duong-am-ngay-dem-pond-s-bright-beauty-30g-50g-x2-tang-may-rua-mat-tien-loi-p125864764.html?spid=125864765',\n",
       " 'https://tiki.vn/made-in-japan-combo-3-bong-tay-trang-jomi-80-mieng-tui-p877362.html?spid=878678',\n",
       " 'https://tiki.vn/made-in-korea-mat-na-ngu-cho-moi-laneige-lip-sleeping-mask-berry-8g-p568659.html?spid=303935',\n",
       " 'https://tiki.vn/sua-chong-nang-nang-tong-danh-cho-da-dau-hon-hop-sunplay-skin-aqua-tone-up-uv-essence-happiness-aura-rose-cho-da-sang-hong-khuyet-diem-xanh-50g-p80138957.html?spid=80138958',\n",
       " 'https://tiki.vn/gel-cham-soc-seo-mun-va-mun-tham-hiruscar-post-acne-10g-p25917926.html?spid=52674843',\n",
       " 'https://tiki.vn/kem-chong-nang-mong-nhe-neutrogena-u-s-dry-touch-spf-50-88ml-p56371532.html?spid=273560935',\n",
       " 'https://tiki.vn/kem-ho-tro-giam-mun-mu-mun-viem-mun-boc-acnevir-santafa-xanh-tuyp-10gr-p65401394.html?spid=65401395',\n",
       " 'https://tiki.vn/kem-chong-nang-khong-mau-kiem-soat-dau-la-roche-posay-anthelios-xl-dry-touch-gel-cream-spf-50-uvb-uva-50ml-p638369.html?spid=22651665',\n",
       " 'https://tiki.vn/kem-rua-mat-duong-trang-hada-labo-perfect-white-tranexamic-acid-cleanser-80g-p54058503.html?spid=54058504',\n",
       " 'https://tiki.vn/dau-tay-trang-duong-am-hada-labo-advanced-nourish-hyaluronic-acid-cleansing-oil--200ml--p1081764.html?spid=10862635',\n",
       " 'https://tiki.vn/dung-dich-tay-te-bao-chet-paula-s-choice-skin-perfecting-2-bha-liquid-30ml-p7319063.html?spid=7319065',\n",
       " 'https://tiki.vn/sua-rua-mat-diu-nhe-cho-da-thuong-den-da-dau-cerave-foaming-facial-cleanser-355ml-p249881973.html?spid=178069248']"
      ]
     },
     "execution_count": 160,
     "metadata": {},
     "output_type": "execute_result"
    }
   ],
   "source": [
    "links"
   ]
  },
  {
   "cell_type": "code",
   "execution_count": 159,
   "metadata": {},
   "outputs": [
    {
     "data": {
      "text/plain": [
       "55"
      ]
     },
     "execution_count": 159,
     "metadata": {},
     "output_type": "execute_result"
    }
   ],
   "source": [
    "len(links)"
   ]
  },
  {
   "cell_type": "code",
   "execution_count": 173,
   "metadata": {},
   "outputs": [],
   "source": [
    "df1 = pd.DataFrame(list(zip(title,price_list,links,discount_list,saled)), columns=['title' , 'price' ,'link' ,'discount','saled'])\n"
   ]
  },
  {
   "cell_type": "code",
   "execution_count": 174,
   "metadata": {},
   "outputs": [
    {
     "data": {
      "text/html": [
       "<div>\n",
       "<style scoped>\n",
       "    .dataframe tbody tr th:only-of-type {\n",
       "        vertical-align: middle;\n",
       "    }\n",
       "\n",
       "    .dataframe tbody tr th {\n",
       "        vertical-align: top;\n",
       "    }\n",
       "\n",
       "    .dataframe thead th {\n",
       "        text-align: right;\n",
       "    }\n",
       "</style>\n",
       "<table border=\"1\" class=\"dataframe\">\n",
       "  <thead>\n",
       "    <tr style=\"text-align: right;\">\n",
       "      <th></th>\n",
       "      <th>title</th>\n",
       "      <th>price</th>\n",
       "      <th>link</th>\n",
       "      <th>discount</th>\n",
       "      <th>saled</th>\n",
       "    </tr>\n",
       "  </thead>\n",
       "  <tbody>\n",
       "    <tr>\n",
       "      <th>0</th>\n",
       "      <td>Sữa rửa mặt Simple giúp da sạch thoáng &amp; không...</td>\n",
       "      <td>99.000₫</td>\n",
       "      <td>https://tka.tiki.vn/pixel/pixel?data=qGBOXoQcM...</td>\n",
       "      <td>25%</td>\n",
       "      <td>Đã bán 5k+</td>\n",
       "    </tr>\n",
       "    <tr>\n",
       "      <th>1</th>\n",
       "      <td>Bộ Đôi Kem Dưỡng Da Ngày Và Đêm Trắng Hồng Rạn...</td>\n",
       "      <td>214.000₫</td>\n",
       "      <td>https://tka.tiki.vn/pixel/pixel?data=IQ3rSfB3I...</td>\n",
       "      <td>29%</td>\n",
       "      <td>Đã bán 5k+</td>\n",
       "    </tr>\n",
       "    <tr>\n",
       "      <th>2</th>\n",
       "      <td>Bộ đôi Kem chống nắng dạng sữa dưỡng da kiềm d...</td>\n",
       "      <td>700.000₫</td>\n",
       "      <td>https://tka.tiki.vn/pixel/pixel?data=qRH-7Wfe5...</td>\n",
       "      <td>30%</td>\n",
       "      <td>Đã bán 641</td>\n",
       "    </tr>\n",
       "    <tr>\n",
       "      <th>3</th>\n",
       "      <td>Combo 2 Sữa rửa mặt Simple giúp da sạch thoáng...</td>\n",
       "      <td>198.000₫</td>\n",
       "      <td>https://tka.tiki.vn/pixel/pixel?data=zERzEFnwV...</td>\n",
       "      <td>25%</td>\n",
       "      <td>Đã bán 5k+</td>\n",
       "    </tr>\n",
       "    <tr>\n",
       "      <th>4</th>\n",
       "      <td>Sữa rửa mặt Simple giúp cấp ẩm, da trông khỏe ...</td>\n",
       "      <td>95.000₫</td>\n",
       "      <td>https://tka.tiki.vn/pixel/pixel?data=4VMdgwaGj...</td>\n",
       "      <td>28%</td>\n",
       "      <td>Đã bán 5k+</td>\n",
       "    </tr>\n",
       "    <tr>\n",
       "      <th>5</th>\n",
       "      <td>Giấy Thấm Dầu Acnes Oil Remover Paper (100 Tờ)</td>\n",
       "      <td>26.000₫</td>\n",
       "      <td>https://tiki.vn/giay-tham-dau-acnes-oil-remove...</td>\n",
       "      <td>21%</td>\n",
       "      <td>Đã bán 5k+</td>\n",
       "    </tr>\n",
       "    <tr>\n",
       "      <th>6</th>\n",
       "      <td>Kem rửa mặt Vitamin Acnes Vitamin Cleanser 100g</td>\n",
       "      <td>54.000₫</td>\n",
       "      <td>https://tiki.vn/kem-rua-mat-vitamin-acnes-vita...</td>\n",
       "      <td>21%</td>\n",
       "      <td>Đã bán 5k+</td>\n",
       "    </tr>\n",
       "    <tr>\n",
       "      <th>7</th>\n",
       "      <td>[Made in Japan] Bộ 3 Hộp Silcot Bông Trang Điể...</td>\n",
       "      <td>100.000₫</td>\n",
       "      <td>https://tiki.vn/made-in-japan-bo-3-hop-silcot-...</td>\n",
       "      <td>21%</td>\n",
       "      <td>Đã bán 5k+</td>\n",
       "    </tr>\n",
       "    <tr>\n",
       "      <th>8</th>\n",
       "      <td>Kem Dưỡng Cấp Nước Cho Da Hỗn Hợp Neutrogena H...</td>\n",
       "      <td>93.000₫</td>\n",
       "      <td>https://tiki.vn/kem-duong-cap-nuoc-cho-da-hon-...</td>\n",
       "      <td>15%</td>\n",
       "      <td>Đã bán 5k+</td>\n",
       "    </tr>\n",
       "    <tr>\n",
       "      <th>9</th>\n",
       "      <td>Kem Chống Nắng Không Màu Kiểm Soát Dầu La Roch...</td>\n",
       "      <td>535.000₫</td>\n",
       "      <td>https://tiki.vn/kem-chong-nang-khong-mau-kiem-...</td>\n",
       "      <td>%</td>\n",
       "      <td>Đã bán 5k+</td>\n",
       "    </tr>\n",
       "    <tr>\n",
       "      <th>10</th>\n",
       "      <td>Combo Serum Dưỡng Sáng Mờ Thâm và Kem Dưỡng Ẩm...</td>\n",
       "      <td>409.000₫</td>\n",
       "      <td>https://tka.tiki.vn/pixel/pixel?data=CiIRrfejv...</td>\n",
       "      <td>25%</td>\n",
       "      <td>Đã bán 1.3k</td>\n",
       "    </tr>\n",
       "    <tr>\n",
       "      <th>11</th>\n",
       "      <td>Gel Hỗ Trợ Trị Sẹo Mổ, To, Lồi Và Phì Đại Hiru...</td>\n",
       "      <td>307.000₫</td>\n",
       "      <td>https://tka.tiki.vn/pixel/pixel?data=N2t4hldbA...</td>\n",
       "      <td>%</td>\n",
       "      <td>Đã bán 1.2k</td>\n",
       "    </tr>\n",
       "    <tr>\n",
       "      <th>12</th>\n",
       "      <td>Xịt khoáng Alba Skin Care chống lão hóa dưỡng ...</td>\n",
       "      <td>212.000₫</td>\n",
       "      <td>https://tka.tiki.vn/pixel/pixel?data=GAyPYFJ5b...</td>\n",
       "      <td>8%</td>\n",
       "      <td>Đã bán 52</td>\n",
       "    </tr>\n",
       "    <tr>\n",
       "      <th>13</th>\n",
       "      <td>Combo 2 Sữa rửa mặt Simple giúp kiềm dầu và ng...</td>\n",
       "      <td>198.000₫</td>\n",
       "      <td>https://tka.tiki.vn/pixel/pixel?data=EJGFTUXzV...</td>\n",
       "      <td>25%</td>\n",
       "      <td>Đã bán 5k+</td>\n",
       "    </tr>\n",
       "    <tr>\n",
       "      <th>14</th>\n",
       "      <td>Tẩy Da Chết Tế Bào Gốc Thực Vật Làm Sạch Sâu D...</td>\n",
       "      <td>259.000₫</td>\n",
       "      <td>https://tka.tiki.vn/pixel/pixel?data=Cbr4MFA06...</td>\n",
       "      <td>26%</td>\n",
       "      <td>Đã bán 1.6k</td>\n",
       "    </tr>\n",
       "    <tr>\n",
       "      <th>15</th>\n",
       "      <td>Kem rửa mặt ngăn ngừa mụn Acnes Creamy Wash (1...</td>\n",
       "      <td>54.000₫</td>\n",
       "      <td>https://tiki.vn/kem-rua-mat-ngan-ngua-mun-acne...</td>\n",
       "      <td>21%</td>\n",
       "      <td>Đã bán 5k+</td>\n",
       "    </tr>\n",
       "    <tr>\n",
       "      <th>16</th>\n",
       "      <td>Sữa Chống Nắng Sunplay Cực Mạnh Sunplay Super ...</td>\n",
       "      <td>82.000₫</td>\n",
       "      <td>https://tiki.vn/sua-chong-nang-sunplay-cuc-man...</td>\n",
       "      <td>15%</td>\n",
       "      <td>Đã bán 5k+</td>\n",
       "    </tr>\n",
       "    <tr>\n",
       "      <th>17</th>\n",
       "      <td>Sữa Chống Nắng Cực Mạnh Sunplay Super Block SP...</td>\n",
       "      <td>149.000₫</td>\n",
       "      <td>https://tiki.vn/sua-chong-nang-cuc-manh-sunpla...</td>\n",
       "      <td>15%</td>\n",
       "      <td>Đã bán 5k+</td>\n",
       "    </tr>\n",
       "    <tr>\n",
       "      <th>18</th>\n",
       "      <td>Nước hoa hồng không chứa cồn Neutrogena Alcoho...</td>\n",
       "      <td>114.000₫</td>\n",
       "      <td>https://tiki.vn/nuoc-hoa-hong-khong-chua-con-n...</td>\n",
       "      <td>14%</td>\n",
       "      <td>Đã bán 2.6k</td>\n",
       "    </tr>\n",
       "    <tr>\n",
       "      <th>19</th>\n",
       "      <td>Nước Hoa Hồng Toner Hoa Cúc &amp; AHA Ngừa Mụn, Gi...</td>\n",
       "      <td>45.000₫</td>\n",
       "      <td>https://tiki.vn/nuoc-hoa-hong-toner-hoa-cuc-ah...</td>\n",
       "      <td>%</td>\n",
       "      <td>Đã bán 882</td>\n",
       "    </tr>\n",
       "    <tr>\n",
       "      <th>20</th>\n",
       "      <td>[Made in Japan] Bộ sản phẩm Kem chống nắng dưỡ...</td>\n",
       "      <td>872.000₫</td>\n",
       "      <td>https://tka.tiki.vn/pixel/pixel?data=TdUerLXlW...</td>\n",
       "      <td>50%</td>\n",
       "      <td>Đã bán 996</td>\n",
       "    </tr>\n",
       "    <tr>\n",
       "      <th>21</th>\n",
       "      <td>[Made in Korea] Nước Cân Bằng Dưỡng Ẩm Dành Ch...</td>\n",
       "      <td>699.000₫</td>\n",
       "      <td>https://tka.tiki.vn/pixel/pixel?data=9JjUC1BKX...</td>\n",
       "      <td>9%</td>\n",
       "      <td>Đã bán 129</td>\n",
       "    </tr>\n",
       "    <tr>\n",
       "      <th>22</th>\n",
       "      <td>Nước Cân Bằng Dưỡng Ẩm Dành Cho Da Thường Và D...</td>\n",
       "      <td>699.000₫</td>\n",
       "      <td>https://tka.tiki.vn/pixel/pixel?data=Vi9MeRrd5...</td>\n",
       "      <td>9%</td>\n",
       "      <td>Đã bán 79</td>\n",
       "    </tr>\n",
       "    <tr>\n",
       "      <th>23</th>\n",
       "      <td>[Made in Korea] Tinh Chất Dưỡng Sáng Da Laneig...</td>\n",
       "      <td>960.000₫</td>\n",
       "      <td>https://tka.tiki.vn/pixel/pixel?data=IbJuM8QRu...</td>\n",
       "      <td>9%</td>\n",
       "      <td>Đã bán 48</td>\n",
       "    </tr>\n",
       "    <tr>\n",
       "      <th>24</th>\n",
       "      <td>Bộ Đôi Kem Dưỡng Chống Lão Hóa Da Ngày Và Đêm ...</td>\n",
       "      <td>517.000₫</td>\n",
       "      <td>https://tka.tiki.vn/pixel/pixel?data=XVKEQY7yA...</td>\n",
       "      <td>%</td>\n",
       "      <td>Đã bán 5k+</td>\n",
       "    </tr>\n",
       "    <tr>\n",
       "      <th>25</th>\n",
       "      <td>Bột Đậu Đỏ Dưỡng Trắng Da Milaganics 100g</td>\n",
       "      <td>39.000₫</td>\n",
       "      <td>https://tiki.vn/bot-dau-do-duong-trang-da-mila...</td>\n",
       "      <td>%</td>\n",
       "      <td>Đã bán 1.3k</td>\n",
       "    </tr>\n",
       "    <tr>\n",
       "      <th>26</th>\n",
       "      <td>[Made in Japan] Bộ 3 Hộp Silcot Bông Trang Điể...</td>\n",
       "      <td>120.000₫</td>\n",
       "      <td>https://tiki.vn/made-in-japan-bo-3-hop-silcot-...</td>\n",
       "      <td>15%</td>\n",
       "      <td>Đã bán 5k+</td>\n",
       "    </tr>\n",
       "    <tr>\n",
       "      <th>27</th>\n",
       "      <td>Gel Lô Hội Dưỡng Ẩm Đa Năng &amp; Làm Mềm Da Từ Nh...</td>\n",
       "      <td>99.000₫</td>\n",
       "      <td>https://tiki.vn/gel-lo-hoi-duong-am-da-nang-la...</td>\n",
       "      <td>%</td>\n",
       "      <td>Đã bán 978</td>\n",
       "    </tr>\n",
       "    <tr>\n",
       "      <th>28</th>\n",
       "      <td>Nước tẩy trang Công Nghệ Micella Bioderma Sens...</td>\n",
       "      <td>499.000₫</td>\n",
       "      <td>https://tiki.vn/nuoc-tay-trang-cong-nghe-micel...</td>\n",
       "      <td>5%</td>\n",
       "      <td>Đã bán 4.2k</td>\n",
       "    </tr>\n",
       "    <tr>\n",
       "      <th>29</th>\n",
       "      <td>Sữa Rửa Mặt Neutrogena Làm Sạch Sâu Và Kiểm So...</td>\n",
       "      <td>99.000₫</td>\n",
       "      <td>https://tiki.vn/sua-rua-mat-neutrogena-lam-sac...</td>\n",
       "      <td>21%</td>\n",
       "      <td>Đã bán 4.4k</td>\n",
       "    </tr>\n",
       "    <tr>\n",
       "      <th>30</th>\n",
       "      <td>Nước Tẩy Trang Thanh Lọc Và Làm Sạch Sâu Neutr...</td>\n",
       "      <td>169.000₫</td>\n",
       "      <td>https://tiki.vn/nuoc-tay-trang-thanh-loc-va-la...</td>\n",
       "      <td>23%</td>\n",
       "      <td>Đã bán 995</td>\n",
       "    </tr>\n",
       "    <tr>\n",
       "      <th>31</th>\n",
       "      <td>Kem Làm Mờ Sẹo Thâm, Sẹo Rỗ, Sẹo Lõm Scar Esth...</td>\n",
       "      <td>301.000₫</td>\n",
       "      <td>https://tiki.vn/kem-lam-mo-seo-tham-seo-ro-seo...</td>\n",
       "      <td>25%</td>\n",
       "      <td>Đã bán 5k+</td>\n",
       "    </tr>\n",
       "    <tr>\n",
       "      <th>32</th>\n",
       "      <td>Derma Forte Gel 15g - Adavanced, Giảm Mụn Trứn...</td>\n",
       "      <td>122.000₫</td>\n",
       "      <td>https://tiki.vn/derma-forte-gel-15g-adavanced-...</td>\n",
       "      <td>24%</td>\n",
       "      <td>Đã bán 603</td>\n",
       "    </tr>\n",
       "    <tr>\n",
       "      <th>33</th>\n",
       "      <td>Sữa chống nắng nâng tông dành cho da dầu/hỗn h...</td>\n",
       "      <td>157.000₫</td>\n",
       "      <td>https://tiki.vn/sua-chong-nang-nang-tong-danh-...</td>\n",
       "      <td>15%</td>\n",
       "      <td>Đã bán 5k+</td>\n",
       "    </tr>\n",
       "    <tr>\n",
       "      <th>34</th>\n",
       "      <td>[Made in Japan] Combo 3 Phim Thấm Dầu Jomi May...</td>\n",
       "      <td>163.000₫</td>\n",
       "      <td>https://tiki.vn/made-in-japan-combo-3-phim-tha...</td>\n",
       "      <td>18%</td>\n",
       "      <td>Đã bán 5k+</td>\n",
       "    </tr>\n",
       "    <tr>\n",
       "      <th>35</th>\n",
       "      <td>Tinh chất chống nắng nâng tông dành cho da khô...</td>\n",
       "      <td>157.000₫</td>\n",
       "      <td>https://tiki.vn/tinh-chat-chong-nang-nang-tong...</td>\n",
       "      <td>15%</td>\n",
       "      <td>Đã bán 5k+</td>\n",
       "    </tr>\n",
       "    <tr>\n",
       "      <th>36</th>\n",
       "      <td>Bộ Đôi Kem Dưỡng Da Ngày Và Đêm Trắng Hồng Rạn...</td>\n",
       "      <td>214.000₫</td>\n",
       "      <td>https://tiki.vn/bo-doi-kem-duong-da-ngay-va-de...</td>\n",
       "      <td>29%</td>\n",
       "      <td>Đã bán 5k+</td>\n",
       "    </tr>\n",
       "    <tr>\n",
       "      <th>37</th>\n",
       "      <td>Nước Tẩy Trang Làm Sạch Sâu Cho Da Nhạy Cảm La...</td>\n",
       "      <td>495.000₫</td>\n",
       "      <td>https://tiki.vn/nuoc-tay-trang-lam-sach-sau-ch...</td>\n",
       "      <td>%</td>\n",
       "      <td>Đã bán 5k+</td>\n",
       "    </tr>\n",
       "    <tr>\n",
       "      <th>38</th>\n",
       "      <td>Sữa Rửa Mặt Dạng Gel Dành Cho Da Nhờn Mụn SVR ...</td>\n",
       "      <td>459.000₫</td>\n",
       "      <td>https://tiki.vn/gel-rua-mat-danh-cho-da-dau-sv...</td>\n",
       "      <td>15%</td>\n",
       "      <td>Đã bán 398</td>\n",
       "    </tr>\n",
       "    <tr>\n",
       "      <th>39</th>\n",
       "      <td>Sữa chống nắng nâng tông dành cho da dầu/hỗn h...</td>\n",
       "      <td>157.000₫</td>\n",
       "      <td>https://tiki.vn/sua-chong-nang-nang-tong-danh-...</td>\n",
       "      <td>15%</td>\n",
       "      <td>Đã bán 4.9k</td>\n",
       "    </tr>\n",
       "    <tr>\n",
       "      <th>40</th>\n",
       "      <td>Nước Tẩy Trang Làm Sạch Sâu &amp; Kiểm Soát Bã Nhờ...</td>\n",
       "      <td>495.000₫</td>\n",
       "      <td>https://tiki.vn/nuoc-tay-trang-lam-sach-sau-ki...</td>\n",
       "      <td>%</td>\n",
       "      <td>Đã bán 5k+</td>\n",
       "    </tr>\n",
       "    <tr>\n",
       "      <th>41</th>\n",
       "      <td>Megaduo Gel 15g - Giảm Mụn Trứng Cá, Ngừa Thâm...</td>\n",
       "      <td>128.000₫</td>\n",
       "      <td>https://tiki.vn/megaduo-gel-15g-giam-mun-trung...</td>\n",
       "      <td>25%</td>\n",
       "      <td>Đã bán 968</td>\n",
       "    </tr>\n",
       "    <tr>\n",
       "      <th>42</th>\n",
       "      <td>Gel Hỗ Trợ Trị Sẹo Mổ, To, Lồi Và Phì Đại Hiru...</td>\n",
       "      <td>307.000₫</td>\n",
       "      <td>https://tiki.vn/gel-tri-seo-mo-to-loi-va-phi-d...</td>\n",
       "      <td>%</td>\n",
       "      <td>Đã bán 1.2k</td>\n",
       "    </tr>\n",
       "    <tr>\n",
       "      <th>43</th>\n",
       "      <td>Combo Serum Dưỡng Sáng Mờ Thâm và Kem Dưỡng Ẩm...</td>\n",
       "      <td>409.000₫</td>\n",
       "      <td>https://tiki.vn/hop-qua-pond-s--combo-serum-du...</td>\n",
       "      <td>25%</td>\n",
       "      <td>Đã bán 1.3k</td>\n",
       "    </tr>\n",
       "    <tr>\n",
       "      <th>44</th>\n",
       "      <td>[Made in Japan] Combo 3 Bông Tẩy Trang Jomi (8...</td>\n",
       "      <td>68.100₫</td>\n",
       "      <td>https://tiki.vn/made-in-japan-combo-3-bong-tay...</td>\n",
       "      <td>24%</td>\n",
       "      <td>Đã bán 3.2k</td>\n",
       "    </tr>\n",
       "    <tr>\n",
       "      <th>45</th>\n",
       "      <td>[Made in Korea] Mặt Nạ Ngủ Cho Môi Laneige Lip...</td>\n",
       "      <td>195.000₫</td>\n",
       "      <td>https://tiki.vn/made-in-korea-mat-na-ngu-cho-m...</td>\n",
       "      <td>11%</td>\n",
       "      <td>Đã bán 5k+</td>\n",
       "    </tr>\n",
       "    <tr>\n",
       "      <th>46</th>\n",
       "      <td>Sữa Chống Nắng Nâng Tông Dành Cho Da Dầu/Hỗn H...</td>\n",
       "      <td>157.000₫</td>\n",
       "      <td>https://tiki.vn/sua-chong-nang-nang-tong-danh-...</td>\n",
       "      <td>15%</td>\n",
       "      <td>Đã bán 2.3k</td>\n",
       "    </tr>\n",
       "    <tr>\n",
       "      <th>47</th>\n",
       "      <td>Gel Chăm Sóc Sẹo Mụn Và Mụn Thâm Hiruscar Post...</td>\n",
       "      <td>307.000₫</td>\n",
       "      <td>https://tiki.vn/gel-cham-soc-seo-mun-va-mun-th...</td>\n",
       "      <td>%</td>\n",
       "      <td>Đã bán 1.2k</td>\n",
       "    </tr>\n",
       "    <tr>\n",
       "      <th>48</th>\n",
       "      <td>Kem Chống Nắng Mỏng Nhẹ Neutrogena U.S Dry Tou...</td>\n",
       "      <td>260.000₫</td>\n",
       "      <td>https://tiki.vn/kem-chong-nang-mong-nhe-neutro...</td>\n",
       "      <td>35%</td>\n",
       "      <td>Đã bán 3</td>\n",
       "    </tr>\n",
       "    <tr>\n",
       "      <th>49</th>\n",
       "      <td>Kem Hỗ Trợ Giảm Mụn Mủ Mụn Viêm Mụn Bọc Acnevi...</td>\n",
       "      <td>94.000₫</td>\n",
       "      <td>https://tiki.vn/kem-ho-tro-giam-mun-mu-mun-vie...</td>\n",
       "      <td>29%</td>\n",
       "      <td>Đã bán 1.1k</td>\n",
       "    </tr>\n",
       "    <tr>\n",
       "      <th>50</th>\n",
       "      <td>Kem Chống Nắng Không Màu Kiểm Soát Dầu La Roch...</td>\n",
       "      <td>389.000₫</td>\n",
       "      <td>https://tiki.vn/kem-chong-nang-khong-mau-kiem-...</td>\n",
       "      <td>27%</td>\n",
       "      <td>Đã bán 609</td>\n",
       "    </tr>\n",
       "    <tr>\n",
       "      <th>51</th>\n",
       "      <td>Kem Rửa Mặt Dưỡng Trắng Hada Labo Perfect Whit...</td>\n",
       "      <td>79.000₫</td>\n",
       "      <td>https://tiki.vn/kem-rua-mat-duong-trang-hada-l...</td>\n",
       "      <td>15%</td>\n",
       "      <td>Đã bán 5k+</td>\n",
       "    </tr>\n",
       "    <tr>\n",
       "      <th>52</th>\n",
       "      <td>Dầu tẩy trang dưỡng ẩm Hada Labo Advanced Nour...</td>\n",
       "      <td>204.000₫</td>\n",
       "      <td>https://tiki.vn/dau-tay-trang-duong-am-hada-la...</td>\n",
       "      <td>20%</td>\n",
       "      <td>Đã bán 3.4k</td>\n",
       "    </tr>\n",
       "    <tr>\n",
       "      <th>53</th>\n",
       "      <td>Dung Dịch Tẩy Tế Bào Chết Paula's Choice Skin ...</td>\n",
       "      <td>299.000₫</td>\n",
       "      <td>https://tiki.vn/dung-dich-tay-te-bao-chet-paul...</td>\n",
       "      <td>25%</td>\n",
       "      <td>Đã bán 5k+</td>\n",
       "    </tr>\n",
       "    <tr>\n",
       "      <th>54</th>\n",
       "      <td>Sữa Rửa Mặt Dịu Nhẹ Cho Da Thường Đến Da Dầu C...</td>\n",
       "      <td>372.000₫</td>\n",
       "      <td>https://tiki.vn/sua-rua-mat-diu-nhe-cho-da-thu...</td>\n",
       "      <td>%</td>\n",
       "      <td>Đã bán 239</td>\n",
       "    </tr>\n",
       "  </tbody>\n",
       "</table>\n",
       "</div>"
      ],
      "text/plain": [
       "                                                title     price  \\\n",
       "0   Sữa rửa mặt Simple giúp da sạch thoáng & không...   99.000₫   \n",
       "1   Bộ Đôi Kem Dưỡng Da Ngày Và Đêm Trắng Hồng Rạn...  214.000₫   \n",
       "2   Bộ đôi Kem chống nắng dạng sữa dưỡng da kiềm d...  700.000₫   \n",
       "3   Combo 2 Sữa rửa mặt Simple giúp da sạch thoáng...  198.000₫   \n",
       "4   Sữa rửa mặt Simple giúp cấp ẩm, da trông khỏe ...   95.000₫   \n",
       "5      Giấy Thấm Dầu Acnes Oil Remover Paper (100 Tờ)   26.000₫   \n",
       "6     Kem rửa mặt Vitamin Acnes Vitamin Cleanser 100g   54.000₫   \n",
       "7   [Made in Japan] Bộ 3 Hộp Silcot Bông Trang Điể...  100.000₫   \n",
       "8   Kem Dưỡng Cấp Nước Cho Da Hỗn Hợp Neutrogena H...   93.000₫   \n",
       "9   Kem Chống Nắng Không Màu Kiểm Soát Dầu La Roch...  535.000₫   \n",
       "10  Combo Serum Dưỡng Sáng Mờ Thâm và Kem Dưỡng Ẩm...  409.000₫   \n",
       "11  Gel Hỗ Trợ Trị Sẹo Mổ, To, Lồi Và Phì Đại Hiru...  307.000₫   \n",
       "12  Xịt khoáng Alba Skin Care chống lão hóa dưỡng ...  212.000₫   \n",
       "13  Combo 2 Sữa rửa mặt Simple giúp kiềm dầu và ng...  198.000₫   \n",
       "14  Tẩy Da Chết Tế Bào Gốc Thực Vật Làm Sạch Sâu D...  259.000₫   \n",
       "15  Kem rửa mặt ngăn ngừa mụn Acnes Creamy Wash (1...   54.000₫   \n",
       "16  Sữa Chống Nắng Sunplay Cực Mạnh Sunplay Super ...   82.000₫   \n",
       "17  Sữa Chống Nắng Cực Mạnh Sunplay Super Block SP...  149.000₫   \n",
       "18  Nước hoa hồng không chứa cồn Neutrogena Alcoho...  114.000₫   \n",
       "19  Nước Hoa Hồng Toner Hoa Cúc & AHA Ngừa Mụn, Gi...   45.000₫   \n",
       "20  [Made in Japan] Bộ sản phẩm Kem chống nắng dưỡ...  872.000₫   \n",
       "21  [Made in Korea] Nước Cân Bằng Dưỡng Ẩm Dành Ch...  699.000₫   \n",
       "22  Nước Cân Bằng Dưỡng Ẩm Dành Cho Da Thường Và D...  699.000₫   \n",
       "23  [Made in Korea] Tinh Chất Dưỡng Sáng Da Laneig...  960.000₫   \n",
       "24  Bộ Đôi Kem Dưỡng Chống Lão Hóa Da Ngày Và Đêm ...  517.000₫   \n",
       "25          Bột Đậu Đỏ Dưỡng Trắng Da Milaganics 100g   39.000₫   \n",
       "26  [Made in Japan] Bộ 3 Hộp Silcot Bông Trang Điể...  120.000₫   \n",
       "27  Gel Lô Hội Dưỡng Ẩm Đa Năng & Làm Mềm Da Từ Nh...   99.000₫   \n",
       "28  Nước tẩy trang Công Nghệ Micella Bioderma Sens...  499.000₫   \n",
       "29  Sữa Rửa Mặt Neutrogena Làm Sạch Sâu Và Kiểm So...   99.000₫   \n",
       "30  Nước Tẩy Trang Thanh Lọc Và Làm Sạch Sâu Neutr...  169.000₫   \n",
       "31  Kem Làm Mờ Sẹo Thâm, Sẹo Rỗ, Sẹo Lõm Scar Esth...  301.000₫   \n",
       "32  Derma Forte Gel 15g - Adavanced, Giảm Mụn Trứn...  122.000₫   \n",
       "33  Sữa chống nắng nâng tông dành cho da dầu/hỗn h...  157.000₫   \n",
       "34  [Made in Japan] Combo 3 Phim Thấm Dầu Jomi May...  163.000₫   \n",
       "35  Tinh chất chống nắng nâng tông dành cho da khô...  157.000₫   \n",
       "36  Bộ Đôi Kem Dưỡng Da Ngày Và Đêm Trắng Hồng Rạn...  214.000₫   \n",
       "37  Nước Tẩy Trang Làm Sạch Sâu Cho Da Nhạy Cảm La...  495.000₫   \n",
       "38  Sữa Rửa Mặt Dạng Gel Dành Cho Da Nhờn Mụn SVR ...  459.000₫   \n",
       "39  Sữa chống nắng nâng tông dành cho da dầu/hỗn h...  157.000₫   \n",
       "40  Nước Tẩy Trang Làm Sạch Sâu & Kiểm Soát Bã Nhờ...  495.000₫   \n",
       "41  Megaduo Gel 15g - Giảm Mụn Trứng Cá, Ngừa Thâm...  128.000₫   \n",
       "42  Gel Hỗ Trợ Trị Sẹo Mổ, To, Lồi Và Phì Đại Hiru...  307.000₫   \n",
       "43  Combo Serum Dưỡng Sáng Mờ Thâm và Kem Dưỡng Ẩm...  409.000₫   \n",
       "44  [Made in Japan] Combo 3 Bông Tẩy Trang Jomi (8...   68.100₫   \n",
       "45  [Made in Korea] Mặt Nạ Ngủ Cho Môi Laneige Lip...  195.000₫   \n",
       "46  Sữa Chống Nắng Nâng Tông Dành Cho Da Dầu/Hỗn H...  157.000₫   \n",
       "47  Gel Chăm Sóc Sẹo Mụn Và Mụn Thâm Hiruscar Post...  307.000₫   \n",
       "48  Kem Chống Nắng Mỏng Nhẹ Neutrogena U.S Dry Tou...  260.000₫   \n",
       "49  Kem Hỗ Trợ Giảm Mụn Mủ Mụn Viêm Mụn Bọc Acnevi...   94.000₫   \n",
       "50  Kem Chống Nắng Không Màu Kiểm Soát Dầu La Roch...  389.000₫   \n",
       "51  Kem Rửa Mặt Dưỡng Trắng Hada Labo Perfect Whit...   79.000₫   \n",
       "52  Dầu tẩy trang dưỡng ẩm Hada Labo Advanced Nour...  204.000₫   \n",
       "53  Dung Dịch Tẩy Tế Bào Chết Paula's Choice Skin ...  299.000₫   \n",
       "54  Sữa Rửa Mặt Dịu Nhẹ Cho Da Thường Đến Da Dầu C...  372.000₫   \n",
       "\n",
       "                                                 link discount        saled  \n",
       "0   https://tka.tiki.vn/pixel/pixel?data=qGBOXoQcM...      25%   Đã bán 5k+  \n",
       "1   https://tka.tiki.vn/pixel/pixel?data=IQ3rSfB3I...      29%   Đã bán 5k+  \n",
       "2   https://tka.tiki.vn/pixel/pixel?data=qRH-7Wfe5...      30%   Đã bán 641  \n",
       "3   https://tka.tiki.vn/pixel/pixel?data=zERzEFnwV...      25%   Đã bán 5k+  \n",
       "4   https://tka.tiki.vn/pixel/pixel?data=4VMdgwaGj...      28%   Đã bán 5k+  \n",
       "5   https://tiki.vn/giay-tham-dau-acnes-oil-remove...      21%   Đã bán 5k+  \n",
       "6   https://tiki.vn/kem-rua-mat-vitamin-acnes-vita...      21%   Đã bán 5k+  \n",
       "7   https://tiki.vn/made-in-japan-bo-3-hop-silcot-...      21%   Đã bán 5k+  \n",
       "8   https://tiki.vn/kem-duong-cap-nuoc-cho-da-hon-...      15%   Đã bán 5k+  \n",
       "9   https://tiki.vn/kem-chong-nang-khong-mau-kiem-...        %   Đã bán 5k+  \n",
       "10  https://tka.tiki.vn/pixel/pixel?data=CiIRrfejv...      25%  Đã bán 1.3k  \n",
       "11  https://tka.tiki.vn/pixel/pixel?data=N2t4hldbA...        %  Đã bán 1.2k  \n",
       "12  https://tka.tiki.vn/pixel/pixel?data=GAyPYFJ5b...       8%    Đã bán 52  \n",
       "13  https://tka.tiki.vn/pixel/pixel?data=EJGFTUXzV...      25%   Đã bán 5k+  \n",
       "14  https://tka.tiki.vn/pixel/pixel?data=Cbr4MFA06...      26%  Đã bán 1.6k  \n",
       "15  https://tiki.vn/kem-rua-mat-ngan-ngua-mun-acne...      21%   Đã bán 5k+  \n",
       "16  https://tiki.vn/sua-chong-nang-sunplay-cuc-man...      15%   Đã bán 5k+  \n",
       "17  https://tiki.vn/sua-chong-nang-cuc-manh-sunpla...      15%   Đã bán 5k+  \n",
       "18  https://tiki.vn/nuoc-hoa-hong-khong-chua-con-n...      14%  Đã bán 2.6k  \n",
       "19  https://tiki.vn/nuoc-hoa-hong-toner-hoa-cuc-ah...        %   Đã bán 882  \n",
       "20  https://tka.tiki.vn/pixel/pixel?data=TdUerLXlW...      50%   Đã bán 996  \n",
       "21  https://tka.tiki.vn/pixel/pixel?data=9JjUC1BKX...       9%   Đã bán 129  \n",
       "22  https://tka.tiki.vn/pixel/pixel?data=Vi9MeRrd5...       9%    Đã bán 79  \n",
       "23  https://tka.tiki.vn/pixel/pixel?data=IbJuM8QRu...       9%    Đã bán 48  \n",
       "24  https://tka.tiki.vn/pixel/pixel?data=XVKEQY7yA...        %   Đã bán 5k+  \n",
       "25  https://tiki.vn/bot-dau-do-duong-trang-da-mila...        %  Đã bán 1.3k  \n",
       "26  https://tiki.vn/made-in-japan-bo-3-hop-silcot-...      15%   Đã bán 5k+  \n",
       "27  https://tiki.vn/gel-lo-hoi-duong-am-da-nang-la...        %   Đã bán 978  \n",
       "28  https://tiki.vn/nuoc-tay-trang-cong-nghe-micel...       5%  Đã bán 4.2k  \n",
       "29  https://tiki.vn/sua-rua-mat-neutrogena-lam-sac...      21%  Đã bán 4.4k  \n",
       "30  https://tiki.vn/nuoc-tay-trang-thanh-loc-va-la...      23%   Đã bán 995  \n",
       "31  https://tiki.vn/kem-lam-mo-seo-tham-seo-ro-seo...      25%   Đã bán 5k+  \n",
       "32  https://tiki.vn/derma-forte-gel-15g-adavanced-...      24%   Đã bán 603  \n",
       "33  https://tiki.vn/sua-chong-nang-nang-tong-danh-...      15%   Đã bán 5k+  \n",
       "34  https://tiki.vn/made-in-japan-combo-3-phim-tha...      18%   Đã bán 5k+  \n",
       "35  https://tiki.vn/tinh-chat-chong-nang-nang-tong...      15%   Đã bán 5k+  \n",
       "36  https://tiki.vn/bo-doi-kem-duong-da-ngay-va-de...      29%   Đã bán 5k+  \n",
       "37  https://tiki.vn/nuoc-tay-trang-lam-sach-sau-ch...        %   Đã bán 5k+  \n",
       "38  https://tiki.vn/gel-rua-mat-danh-cho-da-dau-sv...      15%   Đã bán 398  \n",
       "39  https://tiki.vn/sua-chong-nang-nang-tong-danh-...      15%  Đã bán 4.9k  \n",
       "40  https://tiki.vn/nuoc-tay-trang-lam-sach-sau-ki...        %   Đã bán 5k+  \n",
       "41  https://tiki.vn/megaduo-gel-15g-giam-mun-trung...      25%   Đã bán 968  \n",
       "42  https://tiki.vn/gel-tri-seo-mo-to-loi-va-phi-d...        %  Đã bán 1.2k  \n",
       "43  https://tiki.vn/hop-qua-pond-s--combo-serum-du...      25%  Đã bán 1.3k  \n",
       "44  https://tiki.vn/made-in-japan-combo-3-bong-tay...      24%  Đã bán 3.2k  \n",
       "45  https://tiki.vn/made-in-korea-mat-na-ngu-cho-m...      11%   Đã bán 5k+  \n",
       "46  https://tiki.vn/sua-chong-nang-nang-tong-danh-...      15%  Đã bán 2.3k  \n",
       "47  https://tiki.vn/gel-cham-soc-seo-mun-va-mun-th...        %  Đã bán 1.2k  \n",
       "48  https://tiki.vn/kem-chong-nang-mong-nhe-neutro...      35%     Đã bán 3  \n",
       "49  https://tiki.vn/kem-ho-tro-giam-mun-mu-mun-vie...      29%  Đã bán 1.1k  \n",
       "50  https://tiki.vn/kem-chong-nang-khong-mau-kiem-...      27%   Đã bán 609  \n",
       "51  https://tiki.vn/kem-rua-mat-duong-trang-hada-l...      15%   Đã bán 5k+  \n",
       "52  https://tiki.vn/dau-tay-trang-duong-am-hada-la...      20%  Đã bán 3.4k  \n",
       "53  https://tiki.vn/dung-dich-tay-te-bao-chet-paul...      25%   Đã bán 5k+  \n",
       "54  https://tiki.vn/sua-rua-mat-diu-nhe-cho-da-thu...        %   Đã bán 239  "
      ]
     },
     "execution_count": 174,
     "metadata": {},
     "output_type": "execute_result"
    }
   ],
   "source": [
    "df1"
   ]
  },
  {
   "cell_type": "code",
   "execution_count": null,
   "metadata": {},
   "outputs": [],
   "source": []
  },
  {
   "cell_type": "code",
   "execution_count": null,
   "metadata": {},
   "outputs": [],
   "source": []
  },
  {
   "cell_type": "code",
   "execution_count": null,
   "metadata": {},
   "outputs": [],
   "source": []
  },
  {
   "cell_type": "code",
   "execution_count": null,
   "metadata": {},
   "outputs": [],
   "source": []
  },
  {
   "cell_type": "code",
   "execution_count": null,
   "metadata": {},
   "outputs": [],
   "source": []
  },
  {
   "cell_type": "code",
   "execution_count": null,
   "metadata": {},
   "outputs": [],
   "source": []
  },
  {
   "cell_type": "code",
   "execution_count": 27,
   "metadata": {},
   "outputs": [],
   "source": [
    "price =[elem.get_attribute('href') for elem in elems]"
   ]
  },
  {
   "cell_type": "code",
   "execution_count": 28,
   "metadata": {},
   "outputs": [
    {
     "data": {
      "text/plain": [
       "[None,\n",
       " None,\n",
       " None,\n",
       " None,\n",
       " None,\n",
       " None,\n",
       " None,\n",
       " None,\n",
       " None,\n",
       " None,\n",
       " None,\n",
       " None,\n",
       " None,\n",
       " None,\n",
       " None,\n",
       " None,\n",
       " None,\n",
       " None,\n",
       " None,\n",
       " None,\n",
       " None,\n",
       " None,\n",
       " None,\n",
       " None,\n",
       " None,\n",
       " None,\n",
       " None,\n",
       " None,\n",
       " None,\n",
       " None,\n",
       " None,\n",
       " None,\n",
       " None,\n",
       " None,\n",
       " None,\n",
       " None,\n",
       " None,\n",
       " None,\n",
       " None,\n",
       " None,\n",
       " None,\n",
       " None,\n",
       " None,\n",
       " None,\n",
       " None,\n",
       " None,\n",
       " None,\n",
       " None,\n",
       " None,\n",
       " None,\n",
       " None,\n",
       " None,\n",
       " None,\n",
       " None,\n",
       " None]"
      ]
     },
     "execution_count": 28,
     "metadata": {},
     "output_type": "execute_result"
    }
   ],
   "source": [
    "links"
   ]
  },
  {
   "cell_type": "code",
   "execution_count": 199,
   "metadata": {},
   "outputs": [
    {
     "data": {
      "text/html": [
       "<div>\n",
       "<style scoped>\n",
       "    .dataframe tbody tr th:only-of-type {\n",
       "        vertical-align: middle;\n",
       "    }\n",
       "\n",
       "    .dataframe tbody tr th {\n",
       "        vertical-align: top;\n",
       "    }\n",
       "\n",
       "    .dataframe thead th {\n",
       "        text-align: right;\n",
       "    }\n",
       "</style>\n",
       "<table border=\"1\" class=\"dataframe\">\n",
       "  <thead>\n",
       "    <tr style=\"text-align: right;\">\n",
       "      <th></th>\n",
       "      <th>title</th>\n",
       "      <th>price</th>\n",
       "      <th>link</th>\n",
       "      <th>discount</th>\n",
       "      <th>saled</th>\n",
       "    </tr>\n",
       "  </thead>\n",
       "  <tbody>\n",
       "    <tr>\n",
       "      <th>0</th>\n",
       "      <td>Kem Xịt Chống Nắng Dưỡng Trắng Da, Che Khuyết ...</td>\n",
       "      <td>50.000₫</td>\n",
       "      <td>https://tiki.vn/kem-xit-chong-nang-duong-trang...</td>\n",
       "      <td>41%</td>\n",
       "      <td>Đã bán 32</td>\n",
       "    </tr>\n",
       "    <tr>\n",
       "      <th>1</th>\n",
       "      <td>Tẩy tế bào chết da mặt cà phê Daklak Cocoon (1...</td>\n",
       "      <td>165.000₫</td>\n",
       "      <td>https://tiki.vn/tay-te-bao-chet-da-mat-ca-phe-...</td>\n",
       "      <td>%</td>\n",
       "      <td>Đã bán 5</td>\n",
       "    </tr>\n",
       "    <tr>\n",
       "      <th>2</th>\n",
       "      <td>Kem Chống Nắng Kiểm Soát Dầu Có Mùi La Roche P...</td>\n",
       "      <td>455.000₫</td>\n",
       "      <td>https://tiki.vn/kem-chong-nang-kiem-soat-dau-c...</td>\n",
       "      <td>12%</td>\n",
       "      <td>Đã bán 7</td>\n",
       "    </tr>\n",
       "    <tr>\n",
       "      <th>3</th>\n",
       "      <td>Sữa Rửa Mặt Dạng Gel Dành Cho Da Dầu Nhạy Cảm ...</td>\n",
       "      <td>47.000₫</td>\n",
       "      <td>https://tiki.vn/sua-rua-mat-dang-gel-danh-cho-...</td>\n",
       "      <td>78%</td>\n",
       "      <td>Đã bán 104</td>\n",
       "    </tr>\n",
       "    <tr>\n",
       "      <th>4</th>\n",
       "      <td>Tinh Chất Chống Lão Hóa &amp; Cấp Nước The Ordinar...</td>\n",
       "      <td>469.000₫</td>\n",
       "      <td>https://tiki.vn/tinh-chat-chong-lao-hoa-cap-nu...</td>\n",
       "      <td>%</td>\n",
       "      <td>Đã bán 70</td>\n",
       "    </tr>\n",
       "  </tbody>\n",
       "</table>\n",
       "</div>"
      ],
      "text/plain": [
       "                                               title     price  \\\n",
       "0  Kem Xịt Chống Nắng Dưỡng Trắng Da, Che Khuyết ...   50.000₫   \n",
       "1  Tẩy tế bào chết da mặt cà phê Daklak Cocoon (1...  165.000₫   \n",
       "2  Kem Chống Nắng Kiểm Soát Dầu Có Mùi La Roche P...  455.000₫   \n",
       "3  Sữa Rửa Mặt Dạng Gel Dành Cho Da Dầu Nhạy Cảm ...   47.000₫   \n",
       "4  Tinh Chất Chống Lão Hóa & Cấp Nước The Ordinar...  469.000₫   \n",
       "\n",
       "                                                link discount       saled  \n",
       "0  https://tiki.vn/kem-xit-chong-nang-duong-trang...      41%   Đã bán 32  \n",
       "1  https://tiki.vn/tay-te-bao-chet-da-mat-ca-phe-...        %    Đã bán 5  \n",
       "2  https://tiki.vn/kem-chong-nang-kiem-soat-dau-c...      12%    Đã bán 7  \n",
       "3  https://tiki.vn/sua-rua-mat-dang-gel-danh-cho-...      78%  Đã bán 104  \n",
       "4  https://tiki.vn/tinh-chat-chong-lao-hoa-cap-nu...        %   Đã bán 70  "
      ]
     },
     "execution_count": 199,
     "metadata": {},
     "output_type": "execute_result"
    }
   ],
   "source": [
    "df = pd.read_csv('item.csv')\n",
    "df.head(5)"
   ]
  },
  {
   "cell_type": "code",
   "execution_count": null,
   "metadata": {},
   "outputs": [],
   "source": []
  },
  {
   "cell_type": "code",
   "execution_count": null,
   "metadata": {},
   "outputs": [],
   "source": []
  },
  {
   "cell_type": "code",
   "execution_count": 68,
   "metadata": {},
   "outputs": [],
   "source": [
    "elems_price = driver.find_elements(By.CSS_SELECTOR , \".aBrP0\")"
   ]
  },
  {
   "cell_type": "code",
   "execution_count": 69,
   "metadata": {},
   "outputs": [],
   "source": [
    "price = [elem_price.text for elem_price in elems_price]"
   ]
  },
  {
   "cell_type": "code",
   "execution_count": 70,
   "metadata": {},
   "outputs": [],
   "source": [
    "discounts = driver.find_elements(By.CSS_SELECTOR , \".WNoq3\")\n",
    "discount = [discount.text for discount in discounts]"
   ]
  },
  {
   "cell_type": "code",
   "execution_count": 71,
   "metadata": {},
   "outputs": [],
   "source": [
    "for i in range(len(discount)):\n",
    "    if discount[i] == '':\n",
    "        discount[i] = '0% Off'"
   ]
  },
  {
   "cell_type": "code",
   "execution_count": 72,
   "metadata": {},
   "outputs": [],
   "source": [
    "elems_countreviews = driver.find_elements(By.CSS_SELECTOR , \"._6uN7R\")\n",
    "count_reviews = [elems_countreview.text for elems_countreview in elems_countreviews]"
   ]
  },
  {
   "cell_type": "code",
   "execution_count": 73,
   "metadata": {},
   "outputs": [],
   "source": [
    "import re\n",
    "pattern = r'([\\d,k+]*) Đã bán\\n(\\(\\d*\\))?\\n(.*)'\n",
    "\n",
    "saled = []\n",
    "review = []\n",
    "city = []\n",
    "\n",
    "for item in count_reviews:\n",
    "    match = re.match(pattern, item)\n",
    "    if match:\n",
    "        da_ban_value = match.group(1) if match.group(1) else '0'\n",
    "        saled.append(da_ban_value)\n",
    "        danh_gia_value = match.group(2)\n",
    "        if danh_gia_value:\n",
    "            danh_gia_value = danh_gia_value.strip('()')\n",
    "        else:\n",
    "            danh_gia_value = '0'\n",
    "        review.append(danh_gia_value)\n",
    "\n",
    "        tinh_value = match.group(3) if match.group(3) else '0'\n",
    "        city.append(tinh_value)\n",
    "    else:\n",
    "        saled.append('0')\n",
    "        review.append('0')\n",
    "        city.append('Nan')"
   ]
  },
  {
   "cell_type": "code",
   "execution_count": 74,
   "metadata": {},
   "outputs": [],
   "source": [
    "df1 = pd.DataFrame(list(zip(title,price,links,discount,saled,review,city)), columns=['title' , 'price' ,'link' ,'discount','saled','review','city'])\n",
    "df1['index'] =np.arange(1,len(df1) +1)"
   ]
  },
  {
   "cell_type": "code",
   "execution_count": 75,
   "metadata": {},
   "outputs": [
    {
     "data": {
      "text/html": [
       "<div>\n",
       "<style scoped>\n",
       "    .dataframe tbody tr th:only-of-type {\n",
       "        vertical-align: middle;\n",
       "    }\n",
       "\n",
       "    .dataframe tbody tr th {\n",
       "        vertical-align: top;\n",
       "    }\n",
       "\n",
       "    .dataframe thead th {\n",
       "        text-align: right;\n",
       "    }\n",
       "</style>\n",
       "<table border=\"1\" class=\"dataframe\">\n",
       "  <thead>\n",
       "    <tr style=\"text-align: right;\">\n",
       "      <th></th>\n",
       "      <th>title</th>\n",
       "      <th>price</th>\n",
       "      <th>link</th>\n",
       "      <th>discount</th>\n",
       "      <th>saled</th>\n",
       "      <th>review</th>\n",
       "      <th>city</th>\n",
       "      <th>index</th>\n",
       "    </tr>\n",
       "  </thead>\n",
       "  <tbody>\n",
       "    <tr>\n",
       "      <th>0</th>\n",
       "      <td>Gel rửa mặt ngừa mụn, da sáng khỏe OXY Acne Pr...</td>\n",
       "      <td>65.500 ₫</td>\n",
       "      <td>https://www.lazada.vn/products/gel-rua-mat-ngu...</td>\n",
       "      <td>19% Off</td>\n",
       "      <td>1k+</td>\n",
       "      <td>105</td>\n",
       "      <td>Hồ Chí Minh</td>\n",
       "      <td>1</td>\n",
       "    </tr>\n",
       "    <tr>\n",
       "      <th>1</th>\n",
       "      <td>Kem sữa rửa mặt Pond's Instabright Tone Up Mil...</td>\n",
       "      <td>78.000 ₫</td>\n",
       "      <td>https://www.lazada.vn/products/kem-sua-rua-mat...</td>\n",
       "      <td>0% Off</td>\n",
       "      <td>1k+</td>\n",
       "      <td>322</td>\n",
       "      <td>Hồ Chí Minh</td>\n",
       "      <td>2</td>\n",
       "    </tr>\n",
       "    <tr>\n",
       "      <th>2</th>\n",
       "      <td>Sữa rửa mặt hàng ngày làm sạch sâu lỗ chân lôn...</td>\n",
       "      <td>49.000 ₫</td>\n",
       "      <td>https://www.lazada.vn/products/sua-rua-mat-han...</td>\n",
       "      <td>23% Off</td>\n",
       "      <td>2k+</td>\n",
       "      <td>509</td>\n",
       "      <td>Hồ Chí Minh</td>\n",
       "      <td>3</td>\n",
       "    </tr>\n",
       "    <tr>\n",
       "      <th>3</th>\n",
       "      <td>Kem rửa mặt dưỡng ẩm tối ưu Hada Labo Advanced...</td>\n",
       "      <td>67.500 ₫</td>\n",
       "      <td>https://www.lazada.vn/products/kem-rua-mat-duo...</td>\n",
       "      <td>15% Off</td>\n",
       "      <td>9,999+</td>\n",
       "      <td>2858</td>\n",
       "      <td>Hồ Chí Minh</td>\n",
       "      <td>4</td>\n",
       "    </tr>\n",
       "    <tr>\n",
       "      <th>4</th>\n",
       "      <td>Sữa rửa mặt Sắc Ngọc Khang tinh chất hoa anh đ...</td>\n",
       "      <td>33.000 ₫</td>\n",
       "      <td>https://www.lazada.vn/products/sua-rua-mat-sac...</td>\n",
       "      <td>44% Off</td>\n",
       "      <td>1k+</td>\n",
       "      <td>267</td>\n",
       "      <td>Hồ Chí Minh</td>\n",
       "      <td>5</td>\n",
       "    </tr>\n",
       "    <tr>\n",
       "      <th>5</th>\n",
       "      <td>Sữa Rửa Mặt Tạo Bọt Cerave Foaming Cleanser Sạ...</td>\n",
       "      <td>396.000 ₫</td>\n",
       "      <td>https://www.lazada.vn/products/sua-rua-mat-tao...</td>\n",
       "      <td>10% Off</td>\n",
       "      <td>3k+</td>\n",
       "      <td>546</td>\n",
       "      <td>Hồ Chí Minh</td>\n",
       "      <td>6</td>\n",
       "    </tr>\n",
       "    <tr>\n",
       "      <th>6</th>\n",
       "      <td>Kem Rửa Mặt Dưỡng Ẩm Hada Labo Advanced Nouris...</td>\n",
       "      <td>67.000 ₫</td>\n",
       "      <td>https://www.lazada.vn/products/kem-rua-mat-duo...</td>\n",
       "      <td>15% Off</td>\n",
       "      <td>9,999+</td>\n",
       "      <td>1608</td>\n",
       "      <td>Hồ Chí Minh</td>\n",
       "      <td>7</td>\n",
       "    </tr>\n",
       "    <tr>\n",
       "      <th>7</th>\n",
       "      <td>Sữa rửa mặt tẩy trang, dưỡng ẩm, trắng da Ý Dĩ...</td>\n",
       "      <td>42.731 ₫</td>\n",
       "      <td>https://www.lazada.vn/products/sua-rua-mat-tay...</td>\n",
       "      <td>47% Off</td>\n",
       "      <td>199</td>\n",
       "      <td>59</td>\n",
       "      <td>Hà Nội</td>\n",
       "      <td>8</td>\n",
       "    </tr>\n",
       "    <tr>\n",
       "      <th>8</th>\n",
       "      <td>Gel rửa mặt ngăn ngừa mụn Truesky Centella Cle...</td>\n",
       "      <td>53.967 ₫</td>\n",
       "      <td>https://www.lazada.vn/products/gel-rua-mat-nga...</td>\n",
       "      <td>33% Off</td>\n",
       "      <td>2k+</td>\n",
       "      <td>1434</td>\n",
       "      <td>Hồ Chí Minh</td>\n",
       "      <td>9</td>\n",
       "    </tr>\n",
       "    <tr>\n",
       "      <th>9</th>\n",
       "      <td>Sữa Rửa Mặt Ngừa Mụn Sáng Da Reihaku Hatomugi ...</td>\n",
       "      <td>51.000 ₫</td>\n",
       "      <td>https://www.lazada.vn/products/sua-rua-mat-ngu...</td>\n",
       "      <td>45% Off</td>\n",
       "      <td>344</td>\n",
       "      <td>120</td>\n",
       "      <td>Hồ Chí Minh</td>\n",
       "      <td>10</td>\n",
       "    </tr>\n",
       "    <tr>\n",
       "      <th>10</th>\n",
       "      <td>Sữa Rửa Mặt Chiết Xuất Ý Dĩ Làm Sáng Da Reihak...</td>\n",
       "      <td>61.000 ₫</td>\n",
       "      <td>https://www.lazada.vn/products/sua-rua-mat-chi...</td>\n",
       "      <td>44% Off</td>\n",
       "      <td>917</td>\n",
       "      <td>234</td>\n",
       "      <td>Hồ Chí Minh</td>\n",
       "      <td>11</td>\n",
       "    </tr>\n",
       "    <tr>\n",
       "      <th>11</th>\n",
       "      <td>Bigsize Gel bí đao rửa mặt Cocoon giảm dầu &amp; m...</td>\n",
       "      <td>295.000 ₫</td>\n",
       "      <td>https://www.lazada.vn/products/bigsize-gel-bi-...</td>\n",
       "      <td>0% Off</td>\n",
       "      <td>6k+</td>\n",
       "      <td>944</td>\n",
       "      <td>Hồ Chí Minh</td>\n",
       "      <td>12</td>\n",
       "    </tr>\n",
       "    <tr>\n",
       "      <th>12</th>\n",
       "      <td>Gel rửa mặt không xà phòng, làm sạch và loại b...</td>\n",
       "      <td>304.000 ₫</td>\n",
       "      <td>https://www.lazada.vn/products/gel-rua-mat-kho...</td>\n",
       "      <td>20% Off\\nLazFlash Sale, tới 23:59</td>\n",
       "      <td>1k+</td>\n",
       "      <td>353</td>\n",
       "      <td>Hồ Chí Minh</td>\n",
       "      <td>13</td>\n",
       "    </tr>\n",
       "    <tr>\n",
       "      <th>13</th>\n",
       "      <td>Kem Rửa Mặt Cải Thiện Lão Hóa Da Pro Anti Agin...</td>\n",
       "      <td>75.000 ₫</td>\n",
       "      <td>https://www.lazada.vn/products/kem-rua-mat-cai...</td>\n",
       "      <td>16% Off</td>\n",
       "      <td>1k+</td>\n",
       "      <td>128</td>\n",
       "      <td>Hồ Chí Minh</td>\n",
       "      <td>14</td>\n",
       "    </tr>\n",
       "    <tr>\n",
       "      <th>14</th>\n",
       "      <td>Sữa Rửa Mặt Sạch Sâu Ngừa Mụn BHA, Tea Tree Co...</td>\n",
       "      <td>77.000 ₫</td>\n",
       "      <td>https://www.lazada.vn/products/sua-rua-mat-sac...</td>\n",
       "      <td>52% Off</td>\n",
       "      <td>80</td>\n",
       "      <td>14</td>\n",
       "      <td>Hồ Chí Minh</td>\n",
       "      <td>15</td>\n",
       "    </tr>\n",
       "    <tr>\n",
       "      <th>15</th>\n",
       "      <td>Sữa Rửa Mặt SenZ Facial Wash chuẩn pH 150ml</td>\n",
       "      <td>68.000 ₫</td>\n",
       "      <td>https://www.lazada.vn/products/sua-rua-mat-sen...</td>\n",
       "      <td>46% Off\\nLazFlash Sale, tới 23:59</td>\n",
       "      <td>265</td>\n",
       "      <td>69</td>\n",
       "      <td>Hồ Chí Minh</td>\n",
       "      <td>16</td>\n",
       "    </tr>\n",
       "    <tr>\n",
       "      <th>16</th>\n",
       "      <td>Gel rửa mặt cho da dầu nhạy cảm La Roche-Posay...</td>\n",
       "      <td>504.000 ₫</td>\n",
       "      <td>https://www.lazada.vn/products/gel-rua-mat-cho...</td>\n",
       "      <td>15% Off\\nLazFlash Sale, tới 23:59</td>\n",
       "      <td>9,999+</td>\n",
       "      <td>6063</td>\n",
       "      <td>Hồ Chí Minh</td>\n",
       "      <td>17</td>\n",
       "    </tr>\n",
       "    <tr>\n",
       "      <th>17</th>\n",
       "      <td>Sữa Rửa Mặt Chống Lão Hóa Pond’s 100g Thái Lan</td>\n",
       "      <td>79.000 ₫</td>\n",
       "      <td>https://www.lazada.vn/products/sua-rua-mat-cho...</td>\n",
       "      <td>21% Off</td>\n",
       "      <td>167</td>\n",
       "      <td>46</td>\n",
       "      <td>Hồ Chí Minh</td>\n",
       "      <td>18</td>\n",
       "    </tr>\n",
       "    <tr>\n",
       "      <th>18</th>\n",
       "      <td>Sữa rửa mặt Sắc Ngọc Khang 100g với tinh chất ...</td>\n",
       "      <td>71.000 ₫</td>\n",
       "      <td>https://www.lazada.vn/products/sua-rua-mat-sac...</td>\n",
       "      <td>28% Off</td>\n",
       "      <td>3k+</td>\n",
       "      <td>773</td>\n",
       "      <td>Hồ Chí Minh</td>\n",
       "      <td>19</td>\n",
       "    </tr>\n",
       "    <tr>\n",
       "      <th>19</th>\n",
       "      <td>Kem Rửa Mặt Giúp Dưỡng Sáng Perfect White Clea...</td>\n",
       "      <td>79.000 ₫</td>\n",
       "      <td>https://www.lazada.vn/products/kem-rua-mat-giu...</td>\n",
       "      <td>15% Off</td>\n",
       "      <td>1k+</td>\n",
       "      <td>281</td>\n",
       "      <td>Hồ Chí Minh</td>\n",
       "      <td>20</td>\n",
       "    </tr>\n",
       "    <tr>\n",
       "      <th>20</th>\n",
       "      <td>Sữa rửa mặt ngừa mụn Truesky Centella Cleanser...</td>\n",
       "      <td>58.000 ₫</td>\n",
       "      <td>https://www.lazada.vn/products/sua-rua-mat-ngu...</td>\n",
       "      <td>18% Off\\nLow Price</td>\n",
       "      <td>154</td>\n",
       "      <td>42</td>\n",
       "      <td>Hà Nội</td>\n",
       "      <td>21</td>\n",
       "    </tr>\n",
       "    <tr>\n",
       "      <th>21</th>\n",
       "      <td>Gel rửa mặt tạo bọt cho da hỗn hợp và da dầu B...</td>\n",
       "      <td>473.000 ₫</td>\n",
       "      <td>https://www.lazada.vn/products/gel-rua-mat-tao...</td>\n",
       "      <td>10% Off</td>\n",
       "      <td>1k+</td>\n",
       "      <td>220</td>\n",
       "      <td>Hồ Chí Minh</td>\n",
       "      <td>22</td>\n",
       "    </tr>\n",
       "    <tr>\n",
       "      <th>22</th>\n",
       "      <td>[ USA ] Sữa Rửa Mặt Cerave Foaming Facial Clea...</td>\n",
       "      <td>355.000 ₫</td>\n",
       "      <td>https://www.lazada.vn/products/usa-sua-rua-mat...</td>\n",
       "      <td>41% Off</td>\n",
       "      <td>169</td>\n",
       "      <td>41</td>\n",
       "      <td>Hồ Chí Minh</td>\n",
       "      <td>23</td>\n",
       "    </tr>\n",
       "    <tr>\n",
       "      <th>23</th>\n",
       "      <td>Dung dịch tạo bọt ngăn ngừa mụn Acnes Foaming ...</td>\n",
       "      <td>62.500 ₫</td>\n",
       "      <td>https://www.lazada.vn/products/dung-dich-tao-b...</td>\n",
       "      <td>19% Off</td>\n",
       "      <td>3k+</td>\n",
       "      <td>566</td>\n",
       "      <td>Hồ Chí Minh</td>\n",
       "      <td>24</td>\n",
       "    </tr>\n",
       "    <tr>\n",
       "      <th>24</th>\n",
       "      <td>[Duy nhất 15-31.1 MUA 1 TẶNG 1+ Voucher 70K đơ...</td>\n",
       "      <td>600.000 ₫</td>\n",
       "      <td>https://www.lazada.vn/products/duy-nhat-15-311...</td>\n",
       "      <td>0% Off</td>\n",
       "      <td>391</td>\n",
       "      <td>69</td>\n",
       "      <td>Hồ Chí Minh</td>\n",
       "      <td>25</td>\n",
       "    </tr>\n",
       "    <tr>\n",
       "      <th>25</th>\n",
       "      <td>Kem Rửa Mặt Dưỡng Ẩm Hada Labo Advanced Nouris...</td>\n",
       "      <td>72.500 ₫</td>\n",
       "      <td>https://www.lazada.vn/products/kem-rua-mat-duo...</td>\n",
       "      <td>44% Off</td>\n",
       "      <td>533</td>\n",
       "      <td>68</td>\n",
       "      <td>Hồ Chí Minh</td>\n",
       "      <td>26</td>\n",
       "    </tr>\n",
       "    <tr>\n",
       "      <th>26</th>\n",
       "      <td>Sữa Rửa Mặt Ẩm Mịn Và Săn Chắc Da Perfect Whip...</td>\n",
       "      <td>77.000 ₫</td>\n",
       "      <td>https://www.lazada.vn/products/sua-rua-mat-am-...</td>\n",
       "      <td>35% Off</td>\n",
       "      <td>282</td>\n",
       "      <td>66</td>\n",
       "      <td>Hồ Chí Minh</td>\n",
       "      <td>27</td>\n",
       "    </tr>\n",
       "    <tr>\n",
       "      <th>27</th>\n",
       "      <td>Kem rửa mặt Hada Labo PERFECT WHITE TRANEXAMIC...</td>\n",
       "      <td>79.500 ₫</td>\n",
       "      <td>https://www.lazada.vn/products/kem-rua-mat-had...</td>\n",
       "      <td>15% Off</td>\n",
       "      <td>9,999+</td>\n",
       "      <td>1892</td>\n",
       "      <td>Hồ Chí Minh</td>\n",
       "      <td>28</td>\n",
       "    </tr>\n",
       "    <tr>\n",
       "      <th>28</th>\n",
       "      <td>Sữa rửa mặt BABE Stop Akn Purifying Cleansing ...</td>\n",
       "      <td>364.650 ₫</td>\n",
       "      <td>https://www.lazada.vn/products/sua-rua-mat-bab...</td>\n",
       "      <td>15% Off</td>\n",
       "      <td>1k+</td>\n",
       "      <td>211</td>\n",
       "      <td>Hồ Chí Minh</td>\n",
       "      <td>29</td>\n",
       "    </tr>\n",
       "    <tr>\n",
       "      <th>29</th>\n",
       "      <td>Sữa Rửa Mặt Sạch Nhờn &amp; Lỗ Chân Lông Nhỏ Mịn B...</td>\n",
       "      <td>44.000 ₫</td>\n",
       "      <td>https://www.lazada.vn/products/sua-rua-mat-sac...</td>\n",
       "      <td>20% Off</td>\n",
       "      <td>123</td>\n",
       "      <td>33</td>\n",
       "      <td>Hồ Chí Minh</td>\n",
       "      <td>30</td>\n",
       "    </tr>\n",
       "    <tr>\n",
       "      <th>30</th>\n",
       "      <td>Sữa rửa mặt trắng da Hatomugi Moisturizing &amp; F...</td>\n",
       "      <td>75.000 ₫</td>\n",
       "      <td>https://www.lazada.vn/products/sua-rua-mat-tra...</td>\n",
       "      <td>50% Off</td>\n",
       "      <td>524</td>\n",
       "      <td>84</td>\n",
       "      <td>Hồ Chí Minh</td>\n",
       "      <td>31</td>\n",
       "    </tr>\n",
       "    <tr>\n",
       "      <th>31</th>\n",
       "      <td>Gel Rửa Mặt Sinh Lý Ziaja Med Lipid Dermatolog...</td>\n",
       "      <td>320.000 ₫</td>\n",
       "      <td>https://www.lazada.vn/products/gel-rua-mat-sin...</td>\n",
       "      <td>0% Off</td>\n",
       "      <td>119</td>\n",
       "      <td>14</td>\n",
       "      <td>Hà Nội</td>\n",
       "      <td>32</td>\n",
       "    </tr>\n",
       "    <tr>\n",
       "      <th>32</th>\n",
       "      <td>Kem Rửa Mặt Tút Sáng Da White Complete Oxy 100Gr</td>\n",
       "      <td>61.000 ₫</td>\n",
       "      <td>https://www.lazada.vn/products/kem-rua-mat-tut...</td>\n",
       "      <td>21% Off</td>\n",
       "      <td>478</td>\n",
       "      <td>38</td>\n",
       "      <td>Hồ Chí Minh</td>\n",
       "      <td>33</td>\n",
       "    </tr>\n",
       "    <tr>\n",
       "      <th>33</th>\n",
       "      <td>Rửa Mặt St.Ives Có Hạt Scrub Tẩy Da Chết - 170...</td>\n",
       "      <td>73.000 ₫</td>\n",
       "      <td>https://www.lazada.vn/products/rua-mat-stives-...</td>\n",
       "      <td>39% Off</td>\n",
       "      <td>5k+</td>\n",
       "      <td>731</td>\n",
       "      <td>Hồ Chí Minh</td>\n",
       "      <td>34</td>\n",
       "    </tr>\n",
       "    <tr>\n",
       "      <th>34</th>\n",
       "      <td>Gel Rửa Mặt Giảm Mụn Compliment No Problem 200ml</td>\n",
       "      <td>69.000 ₫</td>\n",
       "      <td>https://www.lazada.vn/products/gel-rua-mat-gia...</td>\n",
       "      <td>47% Off</td>\n",
       "      <td>9,999+</td>\n",
       "      <td>1960</td>\n",
       "      <td>Hồ Chí Minh</td>\n",
       "      <td>35</td>\n",
       "    </tr>\n",
       "    <tr>\n",
       "      <th>35</th>\n",
       "      <td>Sữa rửa mặt Sắc Ngọc Khang thảo dược và tinh c...</td>\n",
       "      <td>39.000 ₫</td>\n",
       "      <td>https://www.lazada.vn/products/sua-rua-mat-sac...</td>\n",
       "      <td>34% Off</td>\n",
       "      <td>107</td>\n",
       "      <td>36</td>\n",
       "      <td>Hồ Chí Minh</td>\n",
       "      <td>36</td>\n",
       "    </tr>\n",
       "    <tr>\n",
       "      <th>36</th>\n",
       "      <td>Sữa rửa mặt Kose Softymo Cleansing Foam Collag...</td>\n",
       "      <td>75.000 ₫</td>\n",
       "      <td>https://www.lazada.vn/products/sua-rua-mat-kos...</td>\n",
       "      <td>38% Off</td>\n",
       "      <td>229</td>\n",
       "      <td>49</td>\n",
       "      <td>Hồ Chí Minh</td>\n",
       "      <td>37</td>\n",
       "    </tr>\n",
       "    <tr>\n",
       "      <th>37</th>\n",
       "      <td>Gel Rửa Mặt La Roche-Posay Dành Cho Da Dầu Nhạ...</td>\n",
       "      <td>39.000 ₫</td>\n",
       "      <td>https://www.lazada.vn/products/gel-rua-mat-la-...</td>\n",
       "      <td>22% Off</td>\n",
       "      <td>702</td>\n",
       "      <td>100</td>\n",
       "      <td>Hồ Chí Minh</td>\n",
       "      <td>38</td>\n",
       "    </tr>\n",
       "    <tr>\n",
       "      <th>38</th>\n",
       "      <td>Combo 2 chai sữa rửa mặt ACNE-AID LIQUID CL...</td>\n",
       "      <td>319.000 ₫</td>\n",
       "      <td>https://www.lazada.vn/products/combo-2-chai-su...</td>\n",
       "      <td>20% Off</td>\n",
       "      <td>23</td>\n",
       "      <td>11</td>\n",
       "      <td>Hồ Chí Minh</td>\n",
       "      <td>39</td>\n",
       "    </tr>\n",
       "    <tr>\n",
       "      <th>39</th>\n",
       "      <td>Sữa Rửa Mặt Kiềm Dầu Hỗ Trợ Ngừa Mụn Simple Pu...</td>\n",
       "      <td>95.000 ₫</td>\n",
       "      <td>https://www.lazada.vn/products/sua-rua-mat-kie...</td>\n",
       "      <td>28% Off</td>\n",
       "      <td>3k+</td>\n",
       "      <td>748</td>\n",
       "      <td>Hồ Chí Minh</td>\n",
       "      <td>40</td>\n",
       "    </tr>\n",
       "  </tbody>\n",
       "</table>\n",
       "</div>"
      ],
      "text/plain": [
       "                                                title      price  \\\n",
       "0   Gel rửa mặt ngừa mụn, da sáng khỏe OXY Acne Pr...   65.500 ₫   \n",
       "1   Kem sữa rửa mặt Pond's Instabright Tone Up Mil...   78.000 ₫   \n",
       "2   Sữa rửa mặt hàng ngày làm sạch sâu lỗ chân lôn...   49.000 ₫   \n",
       "3   Kem rửa mặt dưỡng ẩm tối ưu Hada Labo Advanced...   67.500 ₫   \n",
       "4   Sữa rửa mặt Sắc Ngọc Khang tinh chất hoa anh đ...   33.000 ₫   \n",
       "5   Sữa Rửa Mặt Tạo Bọt Cerave Foaming Cleanser Sạ...  396.000 ₫   \n",
       "6   Kem Rửa Mặt Dưỡng Ẩm Hada Labo Advanced Nouris...   67.000 ₫   \n",
       "7   Sữa rửa mặt tẩy trang, dưỡng ẩm, trắng da Ý Dĩ...   42.731 ₫   \n",
       "8   Gel rửa mặt ngăn ngừa mụn Truesky Centella Cle...   53.967 ₫   \n",
       "9   Sữa Rửa Mặt Ngừa Mụn Sáng Da Reihaku Hatomugi ...   51.000 ₫   \n",
       "10  Sữa Rửa Mặt Chiết Xuất Ý Dĩ Làm Sáng Da Reihak...   61.000 ₫   \n",
       "11  Bigsize Gel bí đao rửa mặt Cocoon giảm dầu & m...  295.000 ₫   \n",
       "12  Gel rửa mặt không xà phòng, làm sạch và loại b...  304.000 ₫   \n",
       "13  Kem Rửa Mặt Cải Thiện Lão Hóa Da Pro Anti Agin...   75.000 ₫   \n",
       "14  Sữa Rửa Mặt Sạch Sâu Ngừa Mụn BHA, Tea Tree Co...   77.000 ₫   \n",
       "15        Sữa Rửa Mặt SenZ Facial Wash chuẩn pH 150ml   68.000 ₫   \n",
       "16  Gel rửa mặt cho da dầu nhạy cảm La Roche-Posay...  504.000 ₫   \n",
       "17     Sữa Rửa Mặt Chống Lão Hóa Pond’s 100g Thái Lan   79.000 ₫   \n",
       "18  Sữa rửa mặt Sắc Ngọc Khang 100g với tinh chất ...   71.000 ₫   \n",
       "19  Kem Rửa Mặt Giúp Dưỡng Sáng Perfect White Clea...   79.000 ₫   \n",
       "20  Sữa rửa mặt ngừa mụn Truesky Centella Cleanser...   58.000 ₫   \n",
       "21  Gel rửa mặt tạo bọt cho da hỗn hợp và da dầu B...  473.000 ₫   \n",
       "22  [ USA ] Sữa Rửa Mặt Cerave Foaming Facial Clea...  355.000 ₫   \n",
       "23  Dung dịch tạo bọt ngăn ngừa mụn Acnes Foaming ...   62.500 ₫   \n",
       "24  [Duy nhất 15-31.1 MUA 1 TẶNG 1+ Voucher 70K đơ...  600.000 ₫   \n",
       "25  Kem Rửa Mặt Dưỡng Ẩm Hada Labo Advanced Nouris...   72.500 ₫   \n",
       "26  Sữa Rửa Mặt Ẩm Mịn Và Săn Chắc Da Perfect Whip...   77.000 ₫   \n",
       "27  Kem rửa mặt Hada Labo PERFECT WHITE TRANEXAMIC...   79.500 ₫   \n",
       "28  Sữa rửa mặt BABE Stop Akn Purifying Cleansing ...  364.650 ₫   \n",
       "29  Sữa Rửa Mặt Sạch Nhờn & Lỗ Chân Lông Nhỏ Mịn B...   44.000 ₫   \n",
       "30  Sữa rửa mặt trắng da Hatomugi Moisturizing & F...   75.000 ₫   \n",
       "31  Gel Rửa Mặt Sinh Lý Ziaja Med Lipid Dermatolog...  320.000 ₫   \n",
       "32   Kem Rửa Mặt Tút Sáng Da White Complete Oxy 100Gr   61.000 ₫   \n",
       "33  Rửa Mặt St.Ives Có Hạt Scrub Tẩy Da Chết - 170...   73.000 ₫   \n",
       "34   Gel Rửa Mặt Giảm Mụn Compliment No Problem 200ml   69.000 ₫   \n",
       "35  Sữa rửa mặt Sắc Ngọc Khang thảo dược và tinh c...   39.000 ₫   \n",
       "36  Sữa rửa mặt Kose Softymo Cleansing Foam Collag...   75.000 ₫   \n",
       "37  Gel Rửa Mặt La Roche-Posay Dành Cho Da Dầu Nhạ...   39.000 ₫   \n",
       "38  Combo 2 chai sữa rửa mặt ACNE-AID LIQUID CL...  319.000 ₫   \n",
       "39  Sữa Rửa Mặt Kiềm Dầu Hỗ Trợ Ngừa Mụn Simple Pu...   95.000 ₫   \n",
       "\n",
       "                                                 link  \\\n",
       "0   https://www.lazada.vn/products/gel-rua-mat-ngu...   \n",
       "1   https://www.lazada.vn/products/kem-sua-rua-mat...   \n",
       "2   https://www.lazada.vn/products/sua-rua-mat-han...   \n",
       "3   https://www.lazada.vn/products/kem-rua-mat-duo...   \n",
       "4   https://www.lazada.vn/products/sua-rua-mat-sac...   \n",
       "5   https://www.lazada.vn/products/sua-rua-mat-tao...   \n",
       "6   https://www.lazada.vn/products/kem-rua-mat-duo...   \n",
       "7   https://www.lazada.vn/products/sua-rua-mat-tay...   \n",
       "8   https://www.lazada.vn/products/gel-rua-mat-nga...   \n",
       "9   https://www.lazada.vn/products/sua-rua-mat-ngu...   \n",
       "10  https://www.lazada.vn/products/sua-rua-mat-chi...   \n",
       "11  https://www.lazada.vn/products/bigsize-gel-bi-...   \n",
       "12  https://www.lazada.vn/products/gel-rua-mat-kho...   \n",
       "13  https://www.lazada.vn/products/kem-rua-mat-cai...   \n",
       "14  https://www.lazada.vn/products/sua-rua-mat-sac...   \n",
       "15  https://www.lazada.vn/products/sua-rua-mat-sen...   \n",
       "16  https://www.lazada.vn/products/gel-rua-mat-cho...   \n",
       "17  https://www.lazada.vn/products/sua-rua-mat-cho...   \n",
       "18  https://www.lazada.vn/products/sua-rua-mat-sac...   \n",
       "19  https://www.lazada.vn/products/kem-rua-mat-giu...   \n",
       "20  https://www.lazada.vn/products/sua-rua-mat-ngu...   \n",
       "21  https://www.lazada.vn/products/gel-rua-mat-tao...   \n",
       "22  https://www.lazada.vn/products/usa-sua-rua-mat...   \n",
       "23  https://www.lazada.vn/products/dung-dich-tao-b...   \n",
       "24  https://www.lazada.vn/products/duy-nhat-15-311...   \n",
       "25  https://www.lazada.vn/products/kem-rua-mat-duo...   \n",
       "26  https://www.lazada.vn/products/sua-rua-mat-am-...   \n",
       "27  https://www.lazada.vn/products/kem-rua-mat-had...   \n",
       "28  https://www.lazada.vn/products/sua-rua-mat-bab...   \n",
       "29  https://www.lazada.vn/products/sua-rua-mat-sac...   \n",
       "30  https://www.lazada.vn/products/sua-rua-mat-tra...   \n",
       "31  https://www.lazada.vn/products/gel-rua-mat-sin...   \n",
       "32  https://www.lazada.vn/products/kem-rua-mat-tut...   \n",
       "33  https://www.lazada.vn/products/rua-mat-stives-...   \n",
       "34  https://www.lazada.vn/products/gel-rua-mat-gia...   \n",
       "35  https://www.lazada.vn/products/sua-rua-mat-sac...   \n",
       "36  https://www.lazada.vn/products/sua-rua-mat-kos...   \n",
       "37  https://www.lazada.vn/products/gel-rua-mat-la-...   \n",
       "38  https://www.lazada.vn/products/combo-2-chai-su...   \n",
       "39  https://www.lazada.vn/products/sua-rua-mat-kie...   \n",
       "\n",
       "                             discount   saled review         city  index  \n",
       "0                             19% Off     1k+    105  Hồ Chí Minh      1  \n",
       "1                              0% Off     1k+    322  Hồ Chí Minh      2  \n",
       "2                             23% Off     2k+    509  Hồ Chí Minh      3  \n",
       "3                             15% Off  9,999+   2858  Hồ Chí Minh      4  \n",
       "4                             44% Off     1k+    267  Hồ Chí Minh      5  \n",
       "5                             10% Off     3k+    546  Hồ Chí Minh      6  \n",
       "6                             15% Off  9,999+   1608  Hồ Chí Minh      7  \n",
       "7                             47% Off     199     59       Hà Nội      8  \n",
       "8                             33% Off     2k+   1434  Hồ Chí Minh      9  \n",
       "9                             45% Off     344    120  Hồ Chí Minh     10  \n",
       "10                            44% Off     917    234  Hồ Chí Minh     11  \n",
       "11                             0% Off     6k+    944  Hồ Chí Minh     12  \n",
       "12  20% Off\\nLazFlash Sale, tới 23:59     1k+    353  Hồ Chí Minh     13  \n",
       "13                            16% Off     1k+    128  Hồ Chí Minh     14  \n",
       "14                            52% Off      80     14  Hồ Chí Minh     15  \n",
       "15  46% Off\\nLazFlash Sale, tới 23:59     265     69  Hồ Chí Minh     16  \n",
       "16  15% Off\\nLazFlash Sale, tới 23:59  9,999+   6063  Hồ Chí Minh     17  \n",
       "17                            21% Off     167     46  Hồ Chí Minh     18  \n",
       "18                            28% Off     3k+    773  Hồ Chí Minh     19  \n",
       "19                            15% Off     1k+    281  Hồ Chí Minh     20  \n",
       "20                 18% Off\\nLow Price     154     42       Hà Nội     21  \n",
       "21                            10% Off     1k+    220  Hồ Chí Minh     22  \n",
       "22                            41% Off     169     41  Hồ Chí Minh     23  \n",
       "23                            19% Off     3k+    566  Hồ Chí Minh     24  \n",
       "24                             0% Off     391     69  Hồ Chí Minh     25  \n",
       "25                            44% Off     533     68  Hồ Chí Minh     26  \n",
       "26                            35% Off     282     66  Hồ Chí Minh     27  \n",
       "27                            15% Off  9,999+   1892  Hồ Chí Minh     28  \n",
       "28                            15% Off     1k+    211  Hồ Chí Minh     29  \n",
       "29                            20% Off     123     33  Hồ Chí Minh     30  \n",
       "30                            50% Off     524     84  Hồ Chí Minh     31  \n",
       "31                             0% Off     119     14       Hà Nội     32  \n",
       "32                            21% Off     478     38  Hồ Chí Minh     33  \n",
       "33                            39% Off     5k+    731  Hồ Chí Minh     34  \n",
       "34                            47% Off  9,999+   1960  Hồ Chí Minh     35  \n",
       "35                            34% Off     107     36  Hồ Chí Minh     36  \n",
       "36                            38% Off     229     49  Hồ Chí Minh     37  \n",
       "37                            22% Off     702    100  Hồ Chí Minh     38  \n",
       "38                            20% Off      23     11  Hồ Chí Minh     39  \n",
       "39                            28% Off     3k+    748  Hồ Chí Minh     40  "
      ]
     },
     "execution_count": 75,
     "metadata": {},
     "output_type": "execute_result"
    }
   ],
   "source": [
    "df1"
   ]
  },
  {
   "cell_type": "code",
   "execution_count": 81,
   "metadata": {},
   "outputs": [],
   "source": [
    "next_page = driver.find_element(\"xpath\" , \"/html/body/div[3]/div/div[3]/div[1]/div/div[1]/div[3]/div/ul/li[9]/button\")\n",
    "next_page.click()"
   ]
  },
  {
   "cell_type": "code",
   "execution_count": 78,
   "metadata": {},
   "outputs": [],
   "source": [
    "next_page.click()"
   ]
  },
  {
   "cell_type": "code",
   "execution_count": 80,
   "metadata": {},
   "outputs": [],
   "source": [
    "next_page = driver.find_element(\"xpath\" , \"/html/body/div[3]/div/div[2]/div[1]/div/div[1]/div[3]/div/ul/li[9]/button\")\n",
    "next_page.click()"
   ]
  },
  {
   "cell_type": "code",
   "execution_count": null,
   "metadata": {},
   "outputs": [],
   "source": []
  },
  {
   "cell_type": "code",
   "execution_count": null,
   "metadata": {},
   "outputs": [],
   "source": []
  },
  {
   "cell_type": "code",
   "execution_count": null,
   "metadata": {},
   "outputs": [],
   "source": []
  },
  {
   "cell_type": "code",
   "execution_count": null,
   "metadata": {},
   "outputs": [],
   "source": []
  },
  {
   "cell_type": "code",
   "execution_count": null,
   "metadata": {},
   "outputs": [],
   "source": []
  },
  {
   "cell_type": "code",
   "execution_count": 14,
   "metadata": {},
   "outputs": [],
   "source": [
    "driver.get(links[0])"
   ]
  },
  {
   "cell_type": "code",
   "execution_count": 15,
   "metadata": {},
   "outputs": [],
   "source": [
    "elems_commemt = driver.find_elements(By.CSS_SELECTOR ,\".item-content .content\")\n",
    "comment = [elem.text for elem in elems_commemt]"
   ]
  },
  {
   "cell_type": "code",
   "execution_count": 32,
   "metadata": {},
   "outputs": [
    {
     "data": {
      "text/plain": [
       "[]"
      ]
     },
     "execution_count": 32,
     "metadata": {},
     "output_type": "execute_result"
    }
   ],
   "source": [
    "comment"
   ]
  },
  {
   "cell_type": "code",
   "execution_count": 16,
   "metadata": {},
   "outputs": [],
   "source": [
    "types = driver.find_elements(By.CSS_SELECTOR ,\".item-content .skuInfo\")\n",
    "types = [elem.text for elem in types]"
   ]
  },
  {
   "cell_type": "code",
   "execution_count": 34,
   "metadata": {},
   "outputs": [
    {
     "data": {
      "text/plain": [
       "[]"
      ]
     },
     "execution_count": 34,
     "metadata": {},
     "output_type": "execute_result"
    }
   ],
   "source": [
    "types"
   ]
  },
  {
   "cell_type": "code",
   "execution_count": 17,
   "metadata": {},
   "outputs": [],
   "source": [
    "likes = driver.find_elements(By.CSS_SELECTOR ,\".item-content .bottom .left .left-content\")\n",
    "likes = [elem.text for elem in likes]"
   ]
  },
  {
   "cell_type": "code",
   "execution_count": 36,
   "metadata": {},
   "outputs": [
    {
     "data": {
      "text/plain": [
       "[]"
      ]
     },
     "execution_count": 36,
     "metadata": {},
     "output_type": "execute_result"
    }
   ],
   "source": [
    "likes"
   ]
  },
  {
   "cell_type": "code",
   "execution_count": 18,
   "metadata": {},
   "outputs": [
    {
     "data": {
      "text/html": [
       "<div>\n",
       "<style scoped>\n",
       "    .dataframe tbody tr th:only-of-type {\n",
       "        vertical-align: middle;\n",
       "    }\n",
       "\n",
       "    .dataframe tbody tr th {\n",
       "        vertical-align: top;\n",
       "    }\n",
       "\n",
       "    .dataframe thead th {\n",
       "        text-align: right;\n",
       "    }\n",
       "</style>\n",
       "<table border=\"1\" class=\"dataframe\">\n",
       "  <thead>\n",
       "    <tr style=\"text-align: right;\">\n",
       "      <th></th>\n",
       "      <th>comment</th>\n",
       "      <th>types</th>\n",
       "      <th>likes</th>\n",
       "    </tr>\n",
       "  </thead>\n",
       "  <tbody>\n",
       "    <tr>\n",
       "      <th>0</th>\n",
       "      <td>Săn sale zá hời 15.2 cụ. Hãng tự kích hoạt bảo...</td>\n",
       "      <td>Color:Tím Fancy, Storage:8GB/256GB</td>\n",
       "      <td>4</td>\n",
       "    </tr>\n",
       "    <tr>\n",
       "      <th>1</th>\n",
       "      <td>canh ddc giá sale mê quá trời. nhận hàng cũng ...</td>\n",
       "      <td>Color:Tím Fancy, Storage:8GB/512GB</td>\n",
       "      <td>0</td>\n",
       "    </tr>\n",
       "    <tr>\n",
       "      <th>2</th>\n",
       "      <td>【セール開催！】👖🎒 服飾90％OFF！お得に自分スタイルを見つけよう！TEMUアプリ！「新...</td>\n",
       "      <td>Color:Xanh Mint, Storage:8GB/512GB</td>\n",
       "      <td>0</td>\n",
       "    </tr>\n",
       "    <tr>\n",
       "      <th>3</th>\n",
       "      <td>Cảm ơn món quà rất giá trị từ Lazada và Samsun...</td>\n",
       "      <td>Color:Xám Indie, Storage:8GB/512GB</td>\n",
       "      <td>3</td>\n",
       "    </tr>\n",
       "    <tr>\n",
       "      <th>4</th>\n",
       "      <td>Trên cả mong đợi. Sáng lên đơn với voucher nhậ...</td>\n",
       "      <td>Color:Xanh Mint, Storage:8GB/512GB</td>\n",
       "      <td>2</td>\n",
       "    </tr>\n",
       "  </tbody>\n",
       "</table>\n",
       "</div>"
      ],
      "text/plain": [
       "                                             comment  \\\n",
       "0  Săn sale zá hời 15.2 cụ. Hãng tự kích hoạt bảo...   \n",
       "1  canh ddc giá sale mê quá trời. nhận hàng cũng ...   \n",
       "2  【セール開催！】👖🎒 服飾90％OFF！お得に自分スタイルを見つけよう！TEMUアプリ！「新...   \n",
       "3  Cảm ơn món quà rất giá trị từ Lazada và Samsun...   \n",
       "4  Trên cả mong đợi. Sáng lên đơn với voucher nhậ...   \n",
       "\n",
       "                                types likes  \n",
       "0  Color:Tím Fancy, Storage:8GB/256GB     4  \n",
       "1  Color:Tím Fancy, Storage:8GB/512GB     0  \n",
       "2  Color:Xanh Mint, Storage:8GB/512GB     0  \n",
       "3  Color:Xám Indie, Storage:8GB/512GB     3  \n",
       "4  Color:Xanh Mint, Storage:8GB/512GB     2  "
      ]
     },
     "execution_count": 18,
     "metadata": {},
     "output_type": "execute_result"
    }
   ],
   "source": [
    "df2 = pd.DataFrame(list(zip(comment,types,likes)), columns=['comment' , 'types' ,'likes'])\n",
    "df2"
   ]
  },
  {
   "cell_type": "code",
   "execution_count": 19,
   "metadata": {},
   "outputs": [],
   "source": [
    "df2.insert(0,'link_item',links[0])"
   ]
  },
  {
   "cell_type": "code",
   "execution_count": 20,
   "metadata": {},
   "outputs": [
    {
     "data": {
      "text/html": [
       "<div>\n",
       "<style scoped>\n",
       "    .dataframe tbody tr th:only-of-type {\n",
       "        vertical-align: middle;\n",
       "    }\n",
       "\n",
       "    .dataframe tbody tr th {\n",
       "        vertical-align: top;\n",
       "    }\n",
       "\n",
       "    .dataframe thead th {\n",
       "        text-align: right;\n",
       "    }\n",
       "</style>\n",
       "<table border=\"1\" class=\"dataframe\">\n",
       "  <thead>\n",
       "    <tr style=\"text-align: right;\">\n",
       "      <th></th>\n",
       "      <th>link_item</th>\n",
       "      <th>comment</th>\n",
       "      <th>types</th>\n",
       "      <th>likes</th>\n",
       "    </tr>\n",
       "  </thead>\n",
       "  <tbody>\n",
       "    <tr>\n",
       "      <th>0</th>\n",
       "      <td>https://www.lazada.vn/products/dien-thoai-sams...</td>\n",
       "      <td>Săn sale zá hời 15.2 cụ. Hãng tự kích hoạt bảo...</td>\n",
       "      <td>Color:Tím Fancy, Storage:8GB/256GB</td>\n",
       "      <td>4</td>\n",
       "    </tr>\n",
       "    <tr>\n",
       "      <th>1</th>\n",
       "      <td>https://www.lazada.vn/products/dien-thoai-sams...</td>\n",
       "      <td>canh ddc giá sale mê quá trời. nhận hàng cũng ...</td>\n",
       "      <td>Color:Tím Fancy, Storage:8GB/512GB</td>\n",
       "      <td>0</td>\n",
       "    </tr>\n",
       "    <tr>\n",
       "      <th>2</th>\n",
       "      <td>https://www.lazada.vn/products/dien-thoai-sams...</td>\n",
       "      <td>【セール開催！】👖🎒 服飾90％OFF！お得に自分スタイルを見つけよう！TEMUアプリ！「新...</td>\n",
       "      <td>Color:Xanh Mint, Storage:8GB/512GB</td>\n",
       "      <td>0</td>\n",
       "    </tr>\n",
       "    <tr>\n",
       "      <th>3</th>\n",
       "      <td>https://www.lazada.vn/products/dien-thoai-sams...</td>\n",
       "      <td>Cảm ơn món quà rất giá trị từ Lazada và Samsun...</td>\n",
       "      <td>Color:Xám Indie, Storage:8GB/512GB</td>\n",
       "      <td>3</td>\n",
       "    </tr>\n",
       "    <tr>\n",
       "      <th>4</th>\n",
       "      <td>https://www.lazada.vn/products/dien-thoai-sams...</td>\n",
       "      <td>Trên cả mong đợi. Sáng lên đơn với voucher nhậ...</td>\n",
       "      <td>Color:Xanh Mint, Storage:8GB/512GB</td>\n",
       "      <td>2</td>\n",
       "    </tr>\n",
       "  </tbody>\n",
       "</table>\n",
       "</div>"
      ],
      "text/plain": [
       "                                           link_item  \\\n",
       "0  https://www.lazada.vn/products/dien-thoai-sams...   \n",
       "1  https://www.lazada.vn/products/dien-thoai-sams...   \n",
       "2  https://www.lazada.vn/products/dien-thoai-sams...   \n",
       "3  https://www.lazada.vn/products/dien-thoai-sams...   \n",
       "4  https://www.lazada.vn/products/dien-thoai-sams...   \n",
       "\n",
       "                                             comment  \\\n",
       "0  Săn sale zá hời 15.2 cụ. Hãng tự kích hoạt bảo...   \n",
       "1  canh ddc giá sale mê quá trời. nhận hàng cũng ...   \n",
       "2  【セール開催！】👖🎒 服飾90％OFF！お得に自分スタイルを見つけよう！TEMUアプリ！「新...   \n",
       "3  Cảm ơn món quà rất giá trị từ Lazada và Samsun...   \n",
       "4  Trên cả mong đợi. Sáng lên đơn với voucher nhậ...   \n",
       "\n",
       "                                types likes  \n",
       "0  Color:Tím Fancy, Storage:8GB/256GB     4  \n",
       "1  Color:Tím Fancy, Storage:8GB/512GB     0  \n",
       "2  Color:Xanh Mint, Storage:8GB/512GB     0  \n",
       "3  Color:Xám Indie, Storage:8GB/512GB     3  \n",
       "4  Color:Xanh Mint, Storage:8GB/512GB     2  "
      ]
     },
     "execution_count": 20,
     "metadata": {},
     "output_type": "execute_result"
    }
   ],
   "source": [
    "df2"
   ]
  },
  {
   "cell_type": "code",
   "execution_count": 24,
   "metadata": {},
   "outputs": [],
   "source": [
    "next_page = driver.find_element(\"xpath\" , \"/html/body/div[4]/div/div[10]/div[1]/div[2]/div/div/div/div[3]/div[2]/div/button[2]\")"
   ]
  },
  {
   "cell_type": "code",
   "execution_count": 25,
   "metadata": {},
   "outputs": [],
   "source": [
    "next_page.click()"
   ]
  },
  {
   "cell_type": "code",
   "execution_count": 23,
   "metadata": {},
   "outputs": [],
   "source": [
    "sleep(random.randint(1,3))"
   ]
  },
  {
   "cell_type": "code",
   "execution_count": null,
   "metadata": {},
   "outputs": [],
   "source": [
    "/html/body/div[8]/div[2]/div"
   ]
  },
  {
   "cell_type": "code",
   "execution_count": 27,
   "metadata": {},
   "outputs": [],
   "source": [
    "close_bth = driver.find_element('xpath' , '/html/body/div[7]/div[2]/div')"
   ]
  },
  {
   "cell_type": "code",
   "execution_count": 28,
   "metadata": {},
   "outputs": [],
   "source": [
    "close_bth.click()"
   ]
  },
  {
   "cell_type": "code",
   "execution_count": 182,
   "metadata": {},
   "outputs": [],
   "source": [
    "df = pd.read_csv('df1.csv')"
   ]
  },
  {
   "cell_type": "code",
   "execution_count": 183,
   "metadata": {},
   "outputs": [
    {
     "data": {
      "text/html": [
       "<div>\n",
       "<style scoped>\n",
       "    .dataframe tbody tr th:only-of-type {\n",
       "        vertical-align: middle;\n",
       "    }\n",
       "\n",
       "    .dataframe tbody tr th {\n",
       "        vertical-align: top;\n",
       "    }\n",
       "\n",
       "    .dataframe thead th {\n",
       "        text-align: right;\n",
       "    }\n",
       "</style>\n",
       "<table border=\"1\" class=\"dataframe\">\n",
       "  <thead>\n",
       "    <tr style=\"text-align: right;\">\n",
       "      <th></th>\n",
       "      <th>title</th>\n",
       "      <th>price</th>\n",
       "      <th>link</th>\n",
       "      <th>discount</th>\n",
       "      <th>saled</th>\n",
       "    </tr>\n",
       "  </thead>\n",
       "  <tbody>\n",
       "    <tr>\n",
       "      <th>0</th>\n",
       "      <td>Gel Cải Thiện Sẹo Vừa, Sẹo Lõm, Sẹo Thâm Hirus...</td>\n",
       "      <td>147.000₫</td>\n",
       "      <td>https://tka.tiki.vn/pixel/pixel?data=LoqVR-SHV...</td>\n",
       "      <td>%</td>\n",
       "      <td>Đã bán 1.6k</td>\n",
       "    </tr>\n",
       "    <tr>\n",
       "      <th>1</th>\n",
       "      <td>Sữa rửa mặt Simple giúp da sạch thoáng &amp; không...</td>\n",
       "      <td>99.000₫</td>\n",
       "      <td>https://tka.tiki.vn/pixel/pixel?data=WkGb_Od1o...</td>\n",
       "      <td>25%</td>\n",
       "      <td>Đã bán 5k+</td>\n",
       "    </tr>\n",
       "    <tr>\n",
       "      <th>2</th>\n",
       "      <td>Sữa rửa mặt Simple giúp cấp ẩm, da trông khỏe ...</td>\n",
       "      <td>95.000₫</td>\n",
       "      <td>https://tka.tiki.vn/pixel/pixel?data=Xacg_3GBU...</td>\n",
       "      <td>28%</td>\n",
       "      <td>Đã bán 5k+</td>\n",
       "    </tr>\n",
       "    <tr>\n",
       "      <th>3</th>\n",
       "      <td>Bộ đôi Kem chống nắng dạng sữa dưỡng da kiềm d...</td>\n",
       "      <td>700.000₫</td>\n",
       "      <td>https://tka.tiki.vn/pixel/pixel?data=gSsmsDQex...</td>\n",
       "      <td>30%</td>\n",
       "      <td>Đã bán 641</td>\n",
       "    </tr>\n",
       "    <tr>\n",
       "      <th>4</th>\n",
       "      <td>Combo 2 Sữa rửa mặt Simple giúp da sạch thoáng...</td>\n",
       "      <td>198.000₫</td>\n",
       "      <td>https://tka.tiki.vn/pixel/pixel?data=6yScK-H8J...</td>\n",
       "      <td>25%</td>\n",
       "      <td>Đã bán 5k+</td>\n",
       "    </tr>\n",
       "    <tr>\n",
       "      <th>...</th>\n",
       "      <td>...</td>\n",
       "      <td>...</td>\n",
       "      <td>...</td>\n",
       "      <td>...</td>\n",
       "      <td>...</td>\n",
       "    </tr>\n",
       "    <tr>\n",
       "      <th>105</th>\n",
       "      <td>Kem Chống Nắng Không Màu Kiểm Soát Dầu La Roch...</td>\n",
       "      <td>389.000₫</td>\n",
       "      <td>https://tiki.vn/kem-chong-nang-khong-mau-kiem-...</td>\n",
       "      <td>27%</td>\n",
       "      <td>Đã bán 609</td>\n",
       "    </tr>\n",
       "    <tr>\n",
       "      <th>106</th>\n",
       "      <td>Kem Rửa Mặt Dưỡng Trắng Hada Labo Perfect Whit...</td>\n",
       "      <td>79.000₫</td>\n",
       "      <td>https://tiki.vn/kem-rua-mat-duong-trang-hada-l...</td>\n",
       "      <td>15%</td>\n",
       "      <td>Đã bán 5k+</td>\n",
       "    </tr>\n",
       "    <tr>\n",
       "      <th>107</th>\n",
       "      <td>Dầu tẩy trang dưỡng ẩm Hada Labo Advanced Nour...</td>\n",
       "      <td>204.000₫</td>\n",
       "      <td>https://tiki.vn/dau-tay-trang-duong-am-hada-la...</td>\n",
       "      <td>20%</td>\n",
       "      <td>Đã bán 3.4k</td>\n",
       "    </tr>\n",
       "    <tr>\n",
       "      <th>108</th>\n",
       "      <td>Dung Dịch Tẩy Tế Bào Chết Paula's Choice Skin ...</td>\n",
       "      <td>299.000₫</td>\n",
       "      <td>https://tiki.vn/dung-dich-tay-te-bao-chet-paul...</td>\n",
       "      <td>25%</td>\n",
       "      <td>Đã bán 5k+</td>\n",
       "    </tr>\n",
       "    <tr>\n",
       "      <th>109</th>\n",
       "      <td>Sữa Rửa Mặt Dịu Nhẹ Cho Da Thường Đến Da Dầu C...</td>\n",
       "      <td>372.000₫</td>\n",
       "      <td>https://tiki.vn/sua-rua-mat-diu-nhe-cho-da-thu...</td>\n",
       "      <td>%</td>\n",
       "      <td>Đã bán 239</td>\n",
       "    </tr>\n",
       "  </tbody>\n",
       "</table>\n",
       "<p>110 rows × 5 columns</p>\n",
       "</div>"
      ],
      "text/plain": [
       "                                                 title     price  \\\n",
       "0    Gel Cải Thiện Sẹo Vừa, Sẹo Lõm, Sẹo Thâm Hirus...  147.000₫   \n",
       "1    Sữa rửa mặt Simple giúp da sạch thoáng & không...   99.000₫   \n",
       "2    Sữa rửa mặt Simple giúp cấp ẩm, da trông khỏe ...   95.000₫   \n",
       "3    Bộ đôi Kem chống nắng dạng sữa dưỡng da kiềm d...  700.000₫   \n",
       "4    Combo 2 Sữa rửa mặt Simple giúp da sạch thoáng...  198.000₫   \n",
       "..                                                 ...       ...   \n",
       "105  Kem Chống Nắng Không Màu Kiểm Soát Dầu La Roch...  389.000₫   \n",
       "106  Kem Rửa Mặt Dưỡng Trắng Hada Labo Perfect Whit...   79.000₫   \n",
       "107  Dầu tẩy trang dưỡng ẩm Hada Labo Advanced Nour...  204.000₫   \n",
       "108  Dung Dịch Tẩy Tế Bào Chết Paula's Choice Skin ...  299.000₫   \n",
       "109  Sữa Rửa Mặt Dịu Nhẹ Cho Da Thường Đến Da Dầu C...  372.000₫   \n",
       "\n",
       "                                                  link discount        saled  \n",
       "0    https://tka.tiki.vn/pixel/pixel?data=LoqVR-SHV...        %  Đã bán 1.6k  \n",
       "1    https://tka.tiki.vn/pixel/pixel?data=WkGb_Od1o...      25%   Đã bán 5k+  \n",
       "2    https://tka.tiki.vn/pixel/pixel?data=Xacg_3GBU...      28%   Đã bán 5k+  \n",
       "3    https://tka.tiki.vn/pixel/pixel?data=gSsmsDQex...      30%   Đã bán 641  \n",
       "4    https://tka.tiki.vn/pixel/pixel?data=6yScK-H8J...      25%   Đã bán 5k+  \n",
       "..                                                 ...      ...          ...  \n",
       "105  https://tiki.vn/kem-chong-nang-khong-mau-kiem-...      27%   Đã bán 609  \n",
       "106  https://tiki.vn/kem-rua-mat-duong-trang-hada-l...      15%   Đã bán 5k+  \n",
       "107  https://tiki.vn/dau-tay-trang-duong-am-hada-la...      20%  Đã bán 3.4k  \n",
       "108  https://tiki.vn/dung-dich-tay-te-bao-chet-paul...      25%   Đã bán 5k+  \n",
       "109  https://tiki.vn/sua-rua-mat-diu-nhe-cho-da-thu...        %   Đã bán 239  \n",
       "\n",
       "[110 rows x 5 columns]"
      ]
     },
     "execution_count": 183,
     "metadata": {},
     "output_type": "execute_result"
    }
   ],
   "source": [
    "df"
   ]
  },
  {
   "cell_type": "code",
   "execution_count": 118,
   "metadata": {},
   "outputs": [
    {
     "data": {
      "text/plain": [
       "'https://www.lazada.vn/sua-rua-mat/?page1=1&spm=a2o4n.home-vn.6598063730.15.79433bdcouC9L8'"
      ]
     },
     "execution_count": 118,
     "metadata": {},
     "output_type": "execute_result"
    }
   ],
   "source": [
    "\"https://www.lazada.vn/sua-rua-mat/?page\" + str(page) + \"=1&spm=a2o4n.home-vn.6598063730.15.79433bdcouC9L8\""
   ]
  },
  {
   "cell_type": "code",
   "execution_count": 207,
   "metadata": {},
   "outputs": [
    {
     "data": {
      "text/plain": [
       "'https://tiki.vn/kem-xit-chong-nang-duong-trang-da-che-khuyet-diem-maycreate-moisturizing-spray-150ml-tang-bich-bong-lameila-p79228298.html?spid=79228299'"
      ]
     },
     "execution_count": 207,
     "metadata": {},
     "output_type": "execute_result"
    }
   ],
   "source": [
    "list(df['link'])[0]"
   ]
  },
  {
   "cell_type": "code",
   "execution_count": 212,
   "metadata": {},
   "outputs": [
    {
     "data": {
      "text/plain": [
       "str"
      ]
     },
     "execution_count": 212,
     "metadata": {},
     "output_type": "execute_result"
    }
   ],
   "source": [
    "type(list(df['link'])[0])"
   ]
  },
  {
   "cell_type": "code",
   "execution_count": 213,
   "metadata": {},
   "outputs": [
    {
     "ename": "NoSuchWindowException",
     "evalue": "Message: no such window: target window already closed\nfrom unknown error: web view not found\n  (Session info: chrome=121.0.6167.86)\nStacktrace:\n\tGetHandleVerifier [0x006E1673+52979]\n\t(No symbol) [0x00667961]\n\t(No symbol) [0x0054DD3D]\n\t(No symbol) [0x0053239A]\n\t(No symbol) [0x005AA71B]\n\t(No symbol) [0x005BACB6]\n\t(No symbol) [0x005A4286]\n\t(No symbol) [0x0057C063]\n\t(No symbol) [0x0057CECD]\n\tGetHandleVerifier [0x009F8D83+3294723]\n\tGetHandleVerifier [0x00A36CC2+3548482]\n\tGetHandleVerifier [0x00A31C9C+3527964]\n\tGetHandleVerifier [0x0077870E+671630]\n\t(No symbol) [0x00671EB4]\n\t(No symbol) [0x0066D808]\n\t(No symbol) [0x0066D92D]\n\t(No symbol) [0x0065F7E0]\n\tBaseThreadInitThunk [0x758B7BA9+25]\n\tRtlInitializeExceptionChain [0x7713BD2B+107]\n\tRtlClearBits [0x7713BCAF+191]\n",
     "output_type": "error",
     "traceback": [
      "\u001b[1;31m---------------------------------------------------------------------------\u001b[0m",
      "\u001b[1;31mNoSuchWindowException\u001b[0m                     Traceback (most recent call last)",
      "Cell \u001b[1;32mIn [213], line 1\u001b[0m\n\u001b[1;32m----> 1\u001b[0m \u001b[43mdriver\u001b[49m\u001b[38;5;241;43m.\u001b[39;49m\u001b[43mget\u001b[49m\u001b[43m(\u001b[49m\u001b[38;5;124;43m'\u001b[39;49m\u001b[38;5;124;43mhttps://tiki.vn/kem-xit-chong-nang-duong-trang-da-che-khuyet-diem-maycreate-moisturizing-spray-150ml-tang-bich-bong-lameila-p79228298.html?spid=79228299\u001b[39;49m\u001b[38;5;124;43m'\u001b[39;49m\u001b[43m)\u001b[49m\n",
      "File \u001b[1;32mc:\\Users\\ADMIN\\AppData\\Local\\Programs\\Python\\Python310\\lib\\site-packages\\undetected_chromedriver\\__init__.py:665\u001b[0m, in \u001b[0;36mChrome.get\u001b[1;34m(self, url)\u001b[0m\n\u001b[0;32m    662\u001b[0m \u001b[38;5;28;01mdef\u001b[39;00m \u001b[38;5;21mget\u001b[39m(\u001b[38;5;28mself\u001b[39m, url):\n\u001b[0;32m    663\u001b[0m     \u001b[38;5;66;03m# if self._get_cdc_props():\u001b[39;00m\n\u001b[0;32m    664\u001b[0m     \u001b[38;5;66;03m#     self._hook_remove_cdc_props()\u001b[39;00m\n\u001b[1;32m--> 665\u001b[0m     \u001b[38;5;28;01mreturn\u001b[39;00m \u001b[38;5;28;43msuper\u001b[39;49m\u001b[43m(\u001b[49m\u001b[43m)\u001b[49m\u001b[38;5;241;43m.\u001b[39;49m\u001b[43mget\u001b[49m\u001b[43m(\u001b[49m\u001b[43murl\u001b[49m\u001b[43m)\u001b[49m\n",
      "File \u001b[1;32mc:\\Users\\ADMIN\\AppData\\Local\\Programs\\Python\\Python310\\lib\\site-packages\\selenium\\webdriver\\remote\\webdriver.py:356\u001b[0m, in \u001b[0;36mWebDriver.get\u001b[1;34m(self, url)\u001b[0m\n\u001b[0;32m    354\u001b[0m \u001b[38;5;28;01mdef\u001b[39;00m \u001b[38;5;21mget\u001b[39m(\u001b[38;5;28mself\u001b[39m, url: \u001b[38;5;28mstr\u001b[39m) \u001b[38;5;241m-\u001b[39m\u001b[38;5;241m>\u001b[39m \u001b[38;5;28;01mNone\u001b[39;00m:\n\u001b[0;32m    355\u001b[0m     \u001b[38;5;124;03m\"\"\"Loads a web page in the current browser session.\"\"\"\u001b[39;00m\n\u001b[1;32m--> 356\u001b[0m     \u001b[38;5;28;43mself\u001b[39;49m\u001b[38;5;241;43m.\u001b[39;49m\u001b[43mexecute\u001b[49m\u001b[43m(\u001b[49m\u001b[43mCommand\u001b[49m\u001b[38;5;241;43m.\u001b[39;49m\u001b[43mGET\u001b[49m\u001b[43m,\u001b[49m\u001b[43m \u001b[49m\u001b[43m{\u001b[49m\u001b[38;5;124;43m\"\u001b[39;49m\u001b[38;5;124;43murl\u001b[39;49m\u001b[38;5;124;43m\"\u001b[39;49m\u001b[43m:\u001b[49m\u001b[43m \u001b[49m\u001b[43murl\u001b[49m\u001b[43m}\u001b[49m\u001b[43m)\u001b[49m\n",
      "File \u001b[1;32mc:\\Users\\ADMIN\\AppData\\Local\\Programs\\Python\\Python310\\lib\\site-packages\\selenium\\webdriver\\remote\\webdriver.py:347\u001b[0m, in \u001b[0;36mWebDriver.execute\u001b[1;34m(self, driver_command, params)\u001b[0m\n\u001b[0;32m    345\u001b[0m response \u001b[38;5;241m=\u001b[39m \u001b[38;5;28mself\u001b[39m\u001b[38;5;241m.\u001b[39mcommand_executor\u001b[38;5;241m.\u001b[39mexecute(driver_command, params)\n\u001b[0;32m    346\u001b[0m \u001b[38;5;28;01mif\u001b[39;00m response:\n\u001b[1;32m--> 347\u001b[0m     \u001b[38;5;28;43mself\u001b[39;49m\u001b[38;5;241;43m.\u001b[39;49m\u001b[43merror_handler\u001b[49m\u001b[38;5;241;43m.\u001b[39;49m\u001b[43mcheck_response\u001b[49m\u001b[43m(\u001b[49m\u001b[43mresponse\u001b[49m\u001b[43m)\u001b[49m\n\u001b[0;32m    348\u001b[0m     response[\u001b[38;5;124m\"\u001b[39m\u001b[38;5;124mvalue\u001b[39m\u001b[38;5;124m\"\u001b[39m] \u001b[38;5;241m=\u001b[39m \u001b[38;5;28mself\u001b[39m\u001b[38;5;241m.\u001b[39m_unwrap_value(response\u001b[38;5;241m.\u001b[39mget(\u001b[38;5;124m\"\u001b[39m\u001b[38;5;124mvalue\u001b[39m\u001b[38;5;124m\"\u001b[39m, \u001b[38;5;28;01mNone\u001b[39;00m))\n\u001b[0;32m    349\u001b[0m     \u001b[38;5;28;01mreturn\u001b[39;00m response\n",
      "File \u001b[1;32mc:\\Users\\ADMIN\\AppData\\Local\\Programs\\Python\\Python310\\lib\\site-packages\\selenium\\webdriver\\remote\\errorhandler.py:229\u001b[0m, in \u001b[0;36mErrorHandler.check_response\u001b[1;34m(self, response)\u001b[0m\n\u001b[0;32m    227\u001b[0m         alert_text \u001b[38;5;241m=\u001b[39m value[\u001b[38;5;124m\"\u001b[39m\u001b[38;5;124malert\u001b[39m\u001b[38;5;124m\"\u001b[39m]\u001b[38;5;241m.\u001b[39mget(\u001b[38;5;124m\"\u001b[39m\u001b[38;5;124mtext\u001b[39m\u001b[38;5;124m\"\u001b[39m)\n\u001b[0;32m    228\u001b[0m     \u001b[38;5;28;01mraise\u001b[39;00m exception_class(message, screen, stacktrace, alert_text)  \u001b[38;5;66;03m# type: ignore[call-arg]  # mypy is not smart enough here\u001b[39;00m\n\u001b[1;32m--> 229\u001b[0m \u001b[38;5;28;01mraise\u001b[39;00m exception_class(message, screen, stacktrace)\n",
      "\u001b[1;31mNoSuchWindowException\u001b[0m: Message: no such window: target window already closed\nfrom unknown error: web view not found\n  (Session info: chrome=121.0.6167.86)\nStacktrace:\n\tGetHandleVerifier [0x006E1673+52979]\n\t(No symbol) [0x00667961]\n\t(No symbol) [0x0054DD3D]\n\t(No symbol) [0x0053239A]\n\t(No symbol) [0x005AA71B]\n\t(No symbol) [0x005BACB6]\n\t(No symbol) [0x005A4286]\n\t(No symbol) [0x0057C063]\n\t(No symbol) [0x0057CECD]\n\tGetHandleVerifier [0x009F8D83+3294723]\n\tGetHandleVerifier [0x00A36CC2+3548482]\n\tGetHandleVerifier [0x00A31C9C+3527964]\n\tGetHandleVerifier [0x0077870E+671630]\n\t(No symbol) [0x00671EB4]\n\t(No symbol) [0x0066D808]\n\t(No symbol) [0x0066D92D]\n\t(No symbol) [0x0065F7E0]\n\tBaseThreadInitThunk [0x758B7BA9+25]\n\tRtlInitializeExceptionChain [0x7713BD2B+107]\n\tRtlClearBits [0x7713BCAF+191]\n"
     ]
    }
   ],
   "source": [
    "driver.get('https://tiki.vn/kem-xit-chong-nang-duong-trang-da-che-khuyet-diem-maycreate-moisturizing-spray-150ml-tang-bich-bong-lameila-p79228298.html?spid=79228299')"
   ]
  },
  {
   "cell_type": "code",
   "execution_count": 374,
   "metadata": {},
   "outputs": [
    {
     "data": {
      "text/html": [
       "<div>\n",
       "<style scoped>\n",
       "    .dataframe tbody tr th:only-of-type {\n",
       "        vertical-align: middle;\n",
       "    }\n",
       "\n",
       "    .dataframe tbody tr th {\n",
       "        vertical-align: top;\n",
       "    }\n",
       "\n",
       "    .dataframe thead th {\n",
       "        text-align: right;\n",
       "    }\n",
       "</style>\n",
       "<table border=\"1\" class=\"dataframe\">\n",
       "  <thead>\n",
       "    <tr style=\"text-align: right;\">\n",
       "      <th></th>\n",
       "      <th>name</th>\n",
       "      <th>comment</th>\n",
       "      <th>num_review</th>\n",
       "      <th>num_thanks</th>\n",
       "      <th>date_attend</th>\n",
       "    </tr>\n",
       "  </thead>\n",
       "  <tbody>\n",
       "    <tr>\n",
       "      <th>0</th>\n",
       "      <td>Nguyen Van Cuong</td>\n",
       "      <td>Giá rẻ mà dùng cũng okela khi nào hết sẽ mua l...</td>\n",
       "      <td>Đã viết\\n9 Đánh giá</td>\n",
       "      <td>Đã nhận\\n2 Lượt cảm ơn</td>\n",
       "      <td>Đã tham gia 5 năm</td>\n",
       "    </tr>\n",
       "    <tr>\n",
       "      <th>1</th>\n",
       "      <td>A Thi</td>\n",
       "      <td>Gia hàng nhanh, đúng sản phẩm</td>\n",
       "      <td>Đã viết\\n34 Đánh giá</td>\n",
       "      <td>Đã nhận\\n0 Lượt cảm ơn</td>\n",
       "      <td>Đã tham gia 5 năm</td>\n",
       "    </tr>\n",
       "    <tr>\n",
       "      <th>2</th>\n",
       "      <td>Ngoc (Growth). Luong Ngoc Kim</td>\n",
       "      <td>NaN</td>\n",
       "      <td>Đã viết\\n168 Đánh giá</td>\n",
       "      <td>Đã nhận\\n10 Lượt cảm ơn</td>\n",
       "      <td>Đã tham gia 7 năm</td>\n",
       "    </tr>\n",
       "    <tr>\n",
       "      <th>3</th>\n",
       "      <td>Hương Nguyễn Thị</td>\n",
       "      <td>NaN</td>\n",
       "      <td>Đã viết\\n697 Đánh giá</td>\n",
       "      <td>Đã nhận\\n15 Lượt cảm ơn</td>\n",
       "      <td>Đã tham gia 4 năm</td>\n",
       "    </tr>\n",
       "    <tr>\n",
       "      <th>4</th>\n",
       "      <td>X A N D E R</td>\n",
       "      <td>NaN</td>\n",
       "      <td>Đã viết\\n5 Đánh giá</td>\n",
       "      <td>Đã nhận\\n1 Lượt cảm ơn</td>\n",
       "      <td>Đã tham gia 3 năm</td>\n",
       "    </tr>\n",
       "    <tr>\n",
       "      <th>5</th>\n",
       "      <td>Đinh Quang Dũng</td>\n",
       "      <td>NaN</td>\n",
       "      <td>Đã viết\\n132 Đánh giá</td>\n",
       "      <td>Đã nhận\\n1 Lượt cảm ơn</td>\n",
       "      <td>Đã tham gia 6 năm</td>\n",
       "    </tr>\n",
       "    <tr>\n",
       "      <th>6</th>\n",
       "      <td>Moong Văn Anh</td>\n",
       "      <td>NaN</td>\n",
       "      <td>Đã viết\\n3 Đánh giá</td>\n",
       "      <td>Đã nhận\\n0 Lượt cảm ơn</td>\n",
       "      <td>Đã tham gia 4 tháng</td>\n",
       "    </tr>\n",
       "    <tr>\n",
       "      <th>7</th>\n",
       "      <td>Jamie Vir</td>\n",
       "      <td>NaN</td>\n",
       "      <td>Đã viết\\n2 Đánh giá</td>\n",
       "      <td>Đã nhận\\n0 Lượt cảm ơn</td>\n",
       "      <td>Đã tham gia 2 năm</td>\n",
       "    </tr>\n",
       "    <tr>\n",
       "      <th>8</th>\n",
       "      <td>Mai Lan Ngọc</td>\n",
       "      <td>NaN</td>\n",
       "      <td>Đã viết\\n53 Đánh giá</td>\n",
       "      <td>Đã nhận\\n0 Lượt cảm ơn</td>\n",
       "      <td>Đã tham gia 6 năm</td>\n",
       "    </tr>\n",
       "    <tr>\n",
       "      <th>9</th>\n",
       "      <td>Lai Thị Phương Dung</td>\n",
       "      <td>NaN</td>\n",
       "      <td>Đã viết\\n29 Đánh giá</td>\n",
       "      <td>Đã nhận\\n0 Lượt cảm ơn</td>\n",
       "      <td>Đã tham gia 5 năm</td>\n",
       "    </tr>\n",
       "    <tr>\n",
       "      <th>10</th>\n",
       "      <td>Nguyễn Thảo</td>\n",
       "      <td>NaN</td>\n",
       "      <td>Đã viết\\n1 Đánh giá</td>\n",
       "      <td>Đã nhận\\n0 Lượt cảm ơn</td>\n",
       "      <td>Đã tham gia 2 năm</td>\n",
       "    </tr>\n",
       "    <tr>\n",
       "      <th>11</th>\n",
       "      <td>Giao Tran</td>\n",
       "      <td>NaN</td>\n",
       "      <td>Đã viết\\n320 Đánh giá</td>\n",
       "      <td>Đã nhận\\n9 Lượt cảm ơn</td>\n",
       "      <td>Đã tham gia 6 năm</td>\n",
       "    </tr>\n",
       "    <tr>\n",
       "      <th>12</th>\n",
       "      <td>Khanh Hoa Nguyen</td>\n",
       "      <td>Sao mình không thấy quà tặng kèm như trên thôn...</td>\n",
       "      <td>Đã viết\\n6 Đánh giá</td>\n",
       "      <td>Đã nhận\\n0 Lượt cảm ơn</td>\n",
       "      <td>Đã tham gia 5 năm</td>\n",
       "    </tr>\n",
       "    <tr>\n",
       "      <th>13</th>\n",
       "      <td>Đam Hữu Hiển</td>\n",
       "      <td>qua mien phí không sử dụng</td>\n",
       "      <td>Đã viết\\n18 Đánh giá</td>\n",
       "      <td>Đã nhận\\n0 Lượt cảm ơn</td>\n",
       "      <td>Đã tham gia 1 năm</td>\n",
       "    </tr>\n",
       "    <tr>\n",
       "      <th>14</th>\n",
       "      <td>Nguyen Thi Thanh Huong</td>\n",
       "      <td>Không gây kích ứng, làm sạch</td>\n",
       "      <td>Đã viết\\n40 Đánh giá</td>\n",
       "      <td>Đã nhận\\n2 Lượt cảm ơn</td>\n",
       "      <td>Đã tham gia 4 năm</td>\n",
       "    </tr>\n",
       "  </tbody>\n",
       "</table>\n",
       "</div>"
      ],
      "text/plain": [
       "                             name  \\\n",
       "0                Nguyen Van Cuong   \n",
       "1                           A Thi   \n",
       "2   Ngoc (Growth). Luong Ngoc Kim   \n",
       "3                Hương Nguyễn Thị   \n",
       "4                     X A N D E R   \n",
       "5                 Đinh Quang Dũng   \n",
       "6                   Moong Văn Anh   \n",
       "7                       Jamie Vir   \n",
       "8                    Mai Lan Ngọc   \n",
       "9             Lai Thị Phương Dung   \n",
       "10                    Nguyễn Thảo   \n",
       "11                      Giao Tran   \n",
       "12               Khanh Hoa Nguyen   \n",
       "13                   Đam Hữu Hiển   \n",
       "14         Nguyen Thi Thanh Huong   \n",
       "\n",
       "                                              comment             num_review  \\\n",
       "0   Giá rẻ mà dùng cũng okela khi nào hết sẽ mua l...    Đã viết\\n9 Đánh giá   \n",
       "1                       Gia hàng nhanh, đúng sản phẩm   Đã viết\\n34 Đánh giá   \n",
       "2                                                 NaN  Đã viết\\n168 Đánh giá   \n",
       "3                                                 NaN  Đã viết\\n697 Đánh giá   \n",
       "4                                                 NaN    Đã viết\\n5 Đánh giá   \n",
       "5                                                 NaN  Đã viết\\n132 Đánh giá   \n",
       "6                                                 NaN    Đã viết\\n3 Đánh giá   \n",
       "7                                                 NaN    Đã viết\\n2 Đánh giá   \n",
       "8                                                 NaN   Đã viết\\n53 Đánh giá   \n",
       "9                                                 NaN   Đã viết\\n29 Đánh giá   \n",
       "10                                                NaN    Đã viết\\n1 Đánh giá   \n",
       "11                                                NaN  Đã viết\\n320 Đánh giá   \n",
       "12  Sao mình không thấy quà tặng kèm như trên thôn...    Đã viết\\n6 Đánh giá   \n",
       "13                         qua mien phí không sử dụng   Đã viết\\n18 Đánh giá   \n",
       "14                       Không gây kích ứng, làm sạch   Đã viết\\n40 Đánh giá   \n",
       "\n",
       "                 num_thanks          date_attend  \n",
       "0    Đã nhận\\n2 Lượt cảm ơn    Đã tham gia 5 năm  \n",
       "1    Đã nhận\\n0 Lượt cảm ơn    Đã tham gia 5 năm  \n",
       "2   Đã nhận\\n10 Lượt cảm ơn    Đã tham gia 7 năm  \n",
       "3   Đã nhận\\n15 Lượt cảm ơn    Đã tham gia 4 năm  \n",
       "4    Đã nhận\\n1 Lượt cảm ơn    Đã tham gia 3 năm  \n",
       "5    Đã nhận\\n1 Lượt cảm ơn    Đã tham gia 6 năm  \n",
       "6    Đã nhận\\n0 Lượt cảm ơn  Đã tham gia 4 tháng  \n",
       "7    Đã nhận\\n0 Lượt cảm ơn    Đã tham gia 2 năm  \n",
       "8    Đã nhận\\n0 Lượt cảm ơn    Đã tham gia 6 năm  \n",
       "9    Đã nhận\\n0 Lượt cảm ơn    Đã tham gia 5 năm  \n",
       "10   Đã nhận\\n0 Lượt cảm ơn    Đã tham gia 2 năm  \n",
       "11   Đã nhận\\n9 Lượt cảm ơn    Đã tham gia 6 năm  \n",
       "12   Đã nhận\\n0 Lượt cảm ơn    Đã tham gia 5 năm  \n",
       "13   Đã nhận\\n0 Lượt cảm ơn    Đã tham gia 1 năm  \n",
       "14   Đã nhận\\n2 Lượt cảm ơn    Đã tham gia 4 năm  "
      ]
     },
     "execution_count": 374,
     "metadata": {},
     "output_type": "execute_result"
    }
   ],
   "source": [
    "df = pd.read_csv('customer.csv')\n",
    "df"
   ]
  },
  {
   "cell_type": "code",
   "execution_count": 370,
   "metadata": {},
   "outputs": [],
   "source": [
    "a = [\"hoa\",'chau']\n",
    "b = ['lá','cỏ']\n",
    "a.append('khỉ')"
   ]
  },
  {
   "cell_type": "code",
   "execution_count": 371,
   "metadata": {},
   "outputs": [
    {
     "data": {
      "text/plain": [
       "['hoa', 'chau', 'khỉ']"
      ]
     },
     "execution_count": 371,
     "metadata": {},
     "output_type": "execute_result"
    }
   ],
   "source": [
    "a"
   ]
  },
  {
   "cell_type": "code",
   "execution_count": 372,
   "metadata": {},
   "outputs": [
    {
     "data": {
      "text/plain": [
       "[3, 2, 1]"
      ]
     },
     "execution_count": 372,
     "metadata": {},
     "output_type": "execute_result"
    }
   ],
   "source": [
    "# List ban đầu\n",
    "original_list = [1, 2, 3]\n",
    "\n",
    "# Đảo ngược list\n",
    "reversed_list = original_list[::-1]\n",
    "reversed_list\n"
   ]
  },
  {
   "cell_type": "code",
   "execution_count": 375,
   "metadata": {},
   "outputs": [
    {
     "data": {
      "text/plain": [
       "3"
      ]
     },
     "execution_count": 375,
     "metadata": {},
     "output_type": "execute_result"
    }
   ],
   "source": [
    "len(a)"
   ]
  },
  {
   "cell_type": "code",
   "execution_count": 376,
   "metadata": {},
   "outputs": [],
   "source": [
    "c = []\n",
    "for i in range(len(a)):\n",
    "    c.append('h')"
   ]
  },
  {
   "cell_type": "code",
   "execution_count": 377,
   "metadata": {},
   "outputs": [
    {
     "data": {
      "text/plain": [
       "['h', 'h', 'h']"
      ]
     },
     "execution_count": 377,
     "metadata": {},
     "output_type": "execute_result"
    }
   ],
   "source": [
    "c"
   ]
  },
  {
   "cell_type": "code",
   "execution_count": 381,
   "metadata": {},
   "outputs": [
    {
     "data": {
      "text/plain": [
       "'C:\\\\Users\\\\ADMIN\\\\Desktop\\\\app\\\\data1'"
      ]
     },
     "execution_count": 381,
     "metadata": {},
     "output_type": "execute_result"
    }
   ],
   "source": [
    "r'C:\\Users\\ADMIN\\Desktop\\app\\data'  + str(1)"
   ]
  },
  {
   "cell_type": "code",
   "execution_count": 401,
   "metadata": {},
   "outputs": [
    {
     "data": {
      "text/plain": [
       "'https://tiki.vn/khan-giay-tay-trang-kose-softymo-makeup-remover-sheet-h-duong-am-bo-sung-hyaluronic-acid-52-to-hop-p273904588.html?spid=274075152'"
      ]
     },
     "execution_count": 401,
     "metadata": {},
     "output_type": "execute_result"
    }
   ],
   "source": [
    "df2 = pd.read_csv('item.csv')\n",
    "df2.iloc[15]['link']"
   ]
  },
  {
   "cell_type": "code",
   "execution_count": 403,
   "metadata": {},
   "outputs": [
    {
     "data": {
      "text/plain": [
       "'https://tka.tiki.vn/pixel/pixel?data=tnkEDhkcF0aoa_6NWnf9vOQD6FFJ6xYewcqqtObYR1Wcad-Oz4xPYdOt8aAoZk1ZX9Qf3V-scRVHqCfgxxNnoA5dGslkIcDjSC3jRQ5mWDbi8iCLA_RdO27oM6PGZrC1VRYxexoubvozIIshzWLP4jlnesphRFXKWW0CbHkHlKe-e16BdnXaK-FnQFbZzI_xmQzCWOQ9gRtuKirPByMoR8vbZnqmtHo9sCDx54e4TiUGzedAz4JZ6Qhh4W2Ccb2-xcO-P-b2tm75fgjeS7nncUWQ6QzEoY52yKUBVhN8b-BU7DURb1NiOipDCnMjiqVJ69dhqzapWSpJkPqNOq0vfFUoKO5fCjdfXBT7ZIvg8PEoUpNgMOxsH2hBy3YrFY4KAj3GZ6eKg6V19dYiNUVAO3B3udsy97_d__z3Rgh9V4Robw3KpE3ZVdtf4mYLN7AueTJBGlfRLLpB-4oCwcwzttSH7d9nskm7dmeXkiSqWeE2M7qVVimASX7y6YAjGfcOkbGRKvfapTNVBHDrJCjU6ojdBOORwwswD-vfmKZsz001L145m9N1OgQnee9A5Uq3WmaXARxHWjFENNKaADsQCs4GXjI1bAYBOJZT24b5KGizxtVUkqgApHH1Wt_8XWLM04KZfyJ9hdt0C_r8C4RZfNhCf4UKvEniGWxs0OzvSnViZixl5MxXvf5SvDwLa8wPHDsQECVGmTVF5emBm7jYZzdeIZhjX379pWTQ0mK9D50fXRGhpohy9bYe3UMiv9v3VF9yNfoqkNBzhQSTmu3Kdv2Wl45a6jNf_L68eYVrnD64nsSOTjj0k7343sCT4NmMAUWSh21Mx1-NRv8SVn0VdCtwiVGkSqFNo_JV5HNq7v3o04V-AT9PBe_Q6FfziclSLJS0-4bwSctwehK8o2bsYSCxNlGFObiloj4pBtX_Tf7XO702930vc9kN2STZ7duFibxxHWmN1-gd7hbiecJOdIuKPuzsY_R-QSfyexVhEO1VRHsZLUUWo7FCQgk73g1kk4aQ_bBNhB4yzgl_08UF_-LCENaZ-Vc_509XyceyAE1zsnZyZmSpHLEWC6PdmrjARSjVNI8r-lEM4QoGindM11iNa_QEUHHDxoAu-LyvBPLx0t3QTdFY9lFr33twoQelwO1cqJ5Jak_qabIC92ogHJj_sYh_ztZJz6i_hTDPZZggw9XJRw&reqid=6pIpIwefxcdTcALO&type=CLICK&pos=15'"
      ]
     },
     "execution_count": 403,
     "metadata": {},
     "output_type": "execute_result"
    }
   ],
   "source": [
    "df = pd.read_csv('item.csv')\n",
    "list_link  = list(df['link'])\n",
    "list_link[14]"
   ]
  },
  {
   "cell_type": "code",
   "execution_count": 407,
   "metadata": {},
   "outputs": [],
   "source": [
    "time_use = []"
   ]
  },
  {
   "cell_type": "code",
   "execution_count": 410,
   "metadata": {},
   "outputs": [],
   "source": [
    "get_time_use = driver.find_elements(By.CSS_SELECTOR , \".jSHEVq .review-comment__created-date\")\n",
    "time_use = time_use + [elem.text for elem in get_time_use]"
   ]
  },
  {
   "cell_type": "code",
   "execution_count": 411,
   "metadata": {},
   "outputs": [
    {
     "data": {
      "text/plain": [
       "['Đánh giá vào 2 năm trướcĐã dùng 3 giờ',\n",
       " 'Đánh giá vào 2 năm trướcĐã dùng 6 giờ',\n",
       " 'Đánh giá vào 2 năm trướcĐã dùng 1 ngày',\n",
       " 'Đánh giá vào 5 tháng trướcĐã dùng 13 phút',\n",
       " 'Đánh giá vào 2 năm trướcĐã dùng 4 phút']"
      ]
     },
     "execution_count": 411,
     "metadata": {},
     "output_type": "execute_result"
    }
   ],
   "source": [
    "time_use"
   ]
  },
  {
   "cell_type": "code",
   "execution_count": null,
   "metadata": {},
   "outputs": [],
   "source": []
  }
 ],
 "metadata": {
  "kernelspec": {
   "display_name": "Python 3",
   "language": "python",
   "name": "python3"
  },
  "language_info": {
   "codemirror_mode": {
    "name": "ipython",
    "version": 3
   },
   "file_extension": ".py",
   "mimetype": "text/x-python",
   "name": "python",
   "nbconvert_exporter": "python",
   "pygments_lexer": "ipython3",
   "version": "3.10.7"
  }
 },
 "nbformat": 4,
 "nbformat_minor": 2
}
